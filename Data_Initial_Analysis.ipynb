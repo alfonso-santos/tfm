{
 "cells": [
  {
   "cell_type": "code",
   "execution_count": 2,
   "metadata": {},
   "outputs": [],
   "source": [
    "import pandas as pd\n",
    "import numpy as np\n",
    "import matplotlib.pyplot as plt\n",
    "import re\n",
    "import string\n",
    "from string import digits\n",
    "import nltk\n",
    "from nltk.tokenize import RegexpTokenizer, word_tokenize\n",
    "from nltk.stem import WordNetLemmatizer\n",
    "from nltk.corpus import wordnet, stopwords\n",
    "# from hunspell import Hunspell # SOLO LINUX\n",
    "import os\n",
    "import joblib\n",
    "import tqdm\n",
    "import contextlib"
   ]
  },
  {
   "cell_type": "code",
   "execution_count": 29,
   "metadata": {},
   "outputs": [
    {
     "data": {
      "text/plain": [
       "1"
      ]
     },
     "execution_count": 29,
     "metadata": {},
     "output_type": "execute_result"
    }
   ],
   "source": [
    "os.cpu_count()"
   ]
  },
  {
   "cell_type": "code",
   "execution_count": 4,
   "metadata": {},
   "outputs": [
    {
     "name": "stderr",
     "output_type": "stream",
     "text": [
      "[nltk_data] Downloading package averaged_perceptron_tagger to\n",
      "[nltk_data]     /home/alfonso/nltk_data...\n",
      "[nltk_data]   Package averaged_perceptron_tagger is already up-to-\n",
      "[nltk_data]       date!\n",
      "[nltk_data] Downloading package punkt to /home/alfonso/nltk_data...\n",
      "[nltk_data]   Package punkt is already up-to-date!\n",
      "[nltk_data] Downloading package words to /home/alfonso/nltk_data...\n",
      "[nltk_data]   Package words is already up-to-date!\n",
      "[nltk_data] Downloading package wordnet to /home/alfonso/nltk_data...\n",
      "[nltk_data]   Package wordnet is already up-to-date!\n",
      "[nltk_data] Downloading package omw-1.4 to /home/alfonso/nltk_data...\n",
      "[nltk_data]   Package omw-1.4 is already up-to-date!\n",
      "[nltk_data] Downloading package brown to /home/alfonso/nltk_data...\n",
      "[nltk_data]   Package brown is already up-to-date!\n",
      "[nltk_data] Downloading package movie_reviews to\n",
      "[nltk_data]     /home/alfonso/nltk_data...\n"
     ]
    },
    {
     "name": "stdout",
     "output_type": "stream",
     "text": [
      "-1\n"
     ]
    },
    {
     "name": "stderr",
     "output_type": "stream",
     "text": [
      "[nltk_data]   Package movie_reviews is already up-to-date!\n",
      "[nltk_data] Downloading package punkt to /home/alfonso/nltk_data...\n",
      "[nltk_data]   Package punkt is already up-to-date!\n",
      "[nltk_data] Downloading package treebank to /home/alfonso/nltk_data...\n",
      "[nltk_data]   Package treebank is already up-to-date!\n",
      "[nltk_data] Downloading package stopwords to\n",
      "[nltk_data]     /home/alfonso/nltk_data...\n",
      "[nltk_data]   Package stopwords is already up-to-date!\n"
     ]
    }
   ],
   "source": [
    "# Downloads de NLTK -  Solo en caso de no tenerlas ya\n",
    "already_downloaded = True\n",
    "\n",
    "if already_downloaded:\n",
    "    None\n",
    "else:\n",
    "    nltk.download('averaged_perceptron_tagger')\n",
    "    nltk.download('punkt')\n",
    "    nltk.download('words'); \n",
    "    nltk.download('wordnet'); \n",
    "    nltk.download('omw-1.4'); \n",
    "    nltk.download('brown'); \n",
    "    nltk.download('movie_reviews'); \n",
    "    nltk.download('punkt'); \n",
    "    nltk.download('treebank'); \n",
    "    nltk.download('stopwords');\n",
    "    \n",
    "cores = os.cpu_count() - 2\n",
    "print(cores)\n",
    "    "
   ]
  },
  {
   "attachments": {},
   "cell_type": "markdown",
   "metadata": {},
   "source": [
    "Para poder ver la barra de evolución en el multiproceso"
   ]
  },
  {
   "cell_type": "code",
   "execution_count": 5,
   "metadata": {},
   "outputs": [],
   "source": [
    "@contextlib.contextmanager\n",
    "def tqdm_joblib(tqdm_object):\n",
    "    \"\"\"Context manager to patch joblib to report into tqdm progress bar given as argument\"\"\"\n",
    "    class TqdmBatchCompletionCallback(joblib.parallel.BatchCompletionCallBack):\n",
    "        def _call_(self, *args, **kwargs):\n",
    "            tqdm_object.update(n=self.batch_size)\n",
    "            return super()._call_(*args, **kwargs)\n",
    "\n",
    "    old_batch_callback = joblib.parallel.BatchCompletionCallBack\n",
    "    joblib.parallel.BatchCompletionCallBack = TqdmBatchCompletionCallback\n",
    "    try:\n",
    "        yield tqdm_object\n",
    "    finally:\n",
    "        joblib.parallel.BatchCompletionCallBack = old_batch_callback\n",
    "        tqdm_object.close()"
   ]
  },
  {
   "attachments": {},
   "cell_type": "markdown",
   "metadata": {},
   "source": [
    "# Lectura y análisis inicial de los datos"
   ]
  },
  {
   "cell_type": "code",
   "execution_count": 3,
   "metadata": {},
   "outputs": [],
   "source": [
    "raw_data = pd.read_pickle(\"data/fillings/dataframe_10k_20_21_22.pkl\")"
   ]
  },
  {
   "cell_type": "code",
   "execution_count": 4,
   "metadata": {},
   "outputs": [
    {
     "data": {
      "text/html": [
       "<div>\n",
       "<style scoped>\n",
       "    .dataframe tbody tr th:only-of-type {\n",
       "        vertical-align: middle;\n",
       "    }\n",
       "\n",
       "    .dataframe tbody tr th {\n",
       "        vertical-align: top;\n",
       "    }\n",
       "\n",
       "    .dataframe thead th {\n",
       "        text-align: right;\n",
       "    }\n",
       "</style>\n",
       "<table border=\"1\" class=\"dataframe\">\n",
       "  <thead>\n",
       "    <tr style=\"text-align: right;\">\n",
       "      <th></th>\n",
       "      <th>ticker</th>\n",
       "      <th>link_to_html</th>\n",
       "      <th>item_1</th>\n",
       "      <th>filing_date</th>\n",
       "    </tr>\n",
       "  </thead>\n",
       "  <tbody>\n",
       "    <tr>\n",
       "      <th>0</th>\n",
       "      <td>NPHC</td>\n",
       "      <td>https://www.sec.gov/Archives/edgar/data/111964...</td>\n",
       "      <td>Item 1. Business Introduction We were incorpo...</td>\n",
       "      <td>2021</td>\n",
       "    </tr>\n",
       "    <tr>\n",
       "      <th>1</th>\n",
       "      <td>CACC</td>\n",
       "      <td>https://www.sec.gov/Archives/edgar/data/885550...</td>\n",
       "      <td>ITEM 1. BUSINESS General Since 1972, Credit A...</td>\n",
       "      <td>2020</td>\n",
       "    </tr>\n",
       "    <tr>\n",
       "      <th>2</th>\n",
       "      <td>HII</td>\n",
       "      <td>https://www.sec.gov/Archives/edgar/data/150158...</td>\n",
       "      <td>ITEM 1. BUSINESS History and Organization Hun...</td>\n",
       "      <td>2020</td>\n",
       "    </tr>\n",
       "    <tr>\n",
       "      <th>3</th>\n",
       "      <td>HR</td>\n",
       "      <td>https://www.sec.gov/Archives/edgar/data/899749...</td>\n",
       "      <td>Item 1. Business Healthcare Realty Trust Inco...</td>\n",
       "      <td>2020</td>\n",
       "    </tr>\n",
       "    <tr>\n",
       "      <th>4</th>\n",
       "      <td>MNKPF</td>\n",
       "      <td>https://www.sec.gov/Archives/edgar/data/156789...</td>\n",
       "      <td>Item 1. Business. Overview We are a global bu...</td>\n",
       "      <td>2020</td>\n",
       "    </tr>\n",
       "  </tbody>\n",
       "</table>\n",
       "</div>"
      ],
      "text/plain": [
       "  ticker                                       link_to_html  \\\n",
       "0   NPHC  https://www.sec.gov/Archives/edgar/data/111964...   \n",
       "1   CACC  https://www.sec.gov/Archives/edgar/data/885550...   \n",
       "2    HII  https://www.sec.gov/Archives/edgar/data/150158...   \n",
       "3     HR  https://www.sec.gov/Archives/edgar/data/899749...   \n",
       "4  MNKPF  https://www.sec.gov/Archives/edgar/data/156789...   \n",
       "\n",
       "                                              item_1 filing_date  \n",
       "0   Item 1. Business Introduction We were incorpo...        2021  \n",
       "1   ITEM 1. BUSINESS General Since 1972, Credit A...        2020  \n",
       "2   ITEM 1. BUSINESS History and Organization Hun...        2020  \n",
       "3   Item 1. Business Healthcare Realty Trust Inco...        2020  \n",
       "4   Item 1. Business. Overview We are a global bu...        2020  "
      ]
     },
     "execution_count": 4,
     "metadata": {},
     "output_type": "execute_result"
    }
   ],
   "source": [
    "raw_data.head()"
   ]
  },
  {
   "cell_type": "code",
   "execution_count": 5,
   "metadata": {},
   "outputs": [
    {
     "data": {
      "text/plain": [
       "(16710, 4)"
      ]
     },
     "execution_count": 5,
     "metadata": {},
     "output_type": "execute_result"
    }
   ],
   "source": [
    "raw_data.shape"
   ]
  },
  {
   "cell_type": "code",
   "execution_count": 6,
   "metadata": {},
   "outputs": [
    {
     "data": {
      "text/plain": [
       "(array(['2020', '2021', '2022'], dtype=object), array([4904, 5758, 6048]))"
      ]
     },
     "execution_count": 6,
     "metadata": {},
     "output_type": "execute_result"
    }
   ],
   "source": [
    "np.unique(raw_data[\"filing_date\"], return_counts=True)"
   ]
  },
  {
   "attachments": {},
   "cell_type": "markdown",
   "metadata": {},
   "source": [
    "Existen fillings duplicados. Los eliminamos"
   ]
  },
  {
   "cell_type": "code",
   "execution_count": 7,
   "metadata": {},
   "outputs": [
    {
     "data": {
      "text/html": [
       "<div>\n",
       "<style scoped>\n",
       "    .dataframe tbody tr th:only-of-type {\n",
       "        vertical-align: middle;\n",
       "    }\n",
       "\n",
       "    .dataframe tbody tr th {\n",
       "        vertical-align: top;\n",
       "    }\n",
       "\n",
       "    .dataframe thead th {\n",
       "        text-align: right;\n",
       "    }\n",
       "</style>\n",
       "<table border=\"1\" class=\"dataframe\">\n",
       "  <thead>\n",
       "    <tr style=\"text-align: right;\">\n",
       "      <th></th>\n",
       "      <th>filing_date</th>\n",
       "    </tr>\n",
       "    <tr>\n",
       "      <th>ticker</th>\n",
       "      <th></th>\n",
       "    </tr>\n",
       "  </thead>\n",
       "  <tbody>\n",
       "    <tr>\n",
       "      <th>SIPN</th>\n",
       "      <td>14.0</td>\n",
       "    </tr>\n",
       "    <tr>\n",
       "      <th>CNCN</th>\n",
       "      <td>11.0</td>\n",
       "    </tr>\n",
       "    <tr>\n",
       "      <th>PBAJ</th>\n",
       "      <td>9.0</td>\n",
       "    </tr>\n",
       "    <tr>\n",
       "      <th>SVMB</th>\n",
       "      <td>9.0</td>\n",
       "    </tr>\n",
       "    <tr>\n",
       "      <th>CGSI</th>\n",
       "      <td>8.0</td>\n",
       "    </tr>\n",
       "    <tr>\n",
       "      <th>...</th>\n",
       "      <td>...</td>\n",
       "    </tr>\n",
       "    <tr>\n",
       "      <th>IPTK</th>\n",
       "      <td>4.0</td>\n",
       "    </tr>\n",
       "    <tr>\n",
       "      <th>GNRS</th>\n",
       "      <td>4.0</td>\n",
       "    </tr>\n",
       "    <tr>\n",
       "      <th>CWGL</th>\n",
       "      <td>4.0</td>\n",
       "    </tr>\n",
       "    <tr>\n",
       "      <th>ADN</th>\n",
       "      <td>4.0</td>\n",
       "    </tr>\n",
       "    <tr>\n",
       "      <th>ADMQ</th>\n",
       "      <td>4.0</td>\n",
       "    </tr>\n",
       "  </tbody>\n",
       "</table>\n",
       "<p>374 rows × 1 columns</p>\n",
       "</div>"
      ],
      "text/plain": [
       "        filing_date\n",
       "ticker             \n",
       "SIPN           14.0\n",
       "CNCN           11.0\n",
       "PBAJ            9.0\n",
       "SVMB            9.0\n",
       "CGSI            8.0\n",
       "...             ...\n",
       "IPTK            4.0\n",
       "GNRS            4.0\n",
       "CWGL            4.0\n",
       "ADN             4.0\n",
       "ADMQ            4.0\n",
       "\n",
       "[374 rows x 1 columns]"
      ]
     },
     "execution_count": 7,
     "metadata": {},
     "output_type": "execute_result"
    }
   ],
   "source": [
    "num_10k_ticker = pd.pivot_table(raw_data[[\"ticker\", \"filing_date\"]], index=\"ticker\", values=\"filing_date\", aggfunc=\"count\")\n",
    "num_10k_ticker.sort_values(\"filing_date\", ascending=False, inplace=True)\n",
    "num_10k_ticker.where(num_10k_ticker.values > 3).dropna()"
   ]
  },
  {
   "cell_type": "code",
   "execution_count": 13,
   "metadata": {},
   "outputs": [
    {
     "data": {
      "text/plain": [
       "(15842, 4)"
      ]
     },
     "execution_count": 13,
     "metadata": {},
     "output_type": "execute_result"
    }
   ],
   "source": [
    "raw_data_unique = raw_data.drop_duplicates(subset=[\"ticker\", \"filing_date\"])\n",
    "raw_data_unique.shape"
   ]
  },
  {
   "attachments": {},
   "cell_type": "markdown",
   "metadata": {},
   "source": [
    "Número total de empresas"
   ]
  },
  {
   "cell_type": "code",
   "execution_count": 11,
   "metadata": {},
   "outputs": [
    {
     "data": {
      "text/plain": [
       "6411"
      ]
     },
     "execution_count": 11,
     "metadata": {},
     "output_type": "execute_result"
    }
   ],
   "source": [
    "len(np.unique(raw_data_unique.ticker))"
   ]
  },
  {
   "cell_type": "code",
   "execution_count": 13,
   "metadata": {},
   "outputs": [
    {
     "data": {
      "text/html": [
       "<div>\n",
       "<style scoped>\n",
       "    .dataframe tbody tr th:only-of-type {\n",
       "        vertical-align: middle;\n",
       "    }\n",
       "\n",
       "    .dataframe tbody tr th {\n",
       "        vertical-align: top;\n",
       "    }\n",
       "\n",
       "    .dataframe thead th {\n",
       "        text-align: right;\n",
       "    }\n",
       "</style>\n",
       "<table border=\"1\" class=\"dataframe\">\n",
       "  <thead>\n",
       "    <tr style=\"text-align: right;\">\n",
       "      <th></th>\n",
       "      <th>filing_date</th>\n",
       "    </tr>\n",
       "    <tr>\n",
       "      <th>ticker</th>\n",
       "      <th></th>\n",
       "    </tr>\n",
       "  </thead>\n",
       "  <tbody>\n",
       "    <tr>\n",
       "      <th>KBSR</th>\n",
       "      <td>3.0</td>\n",
       "    </tr>\n",
       "    <tr>\n",
       "      <th>MSN</th>\n",
       "      <td>3.0</td>\n",
       "    </tr>\n",
       "    <tr>\n",
       "      <th>MTCH</th>\n",
       "      <td>3.0</td>\n",
       "    </tr>\n",
       "    <tr>\n",
       "      <th>MTBC</th>\n",
       "      <td>3.0</td>\n",
       "    </tr>\n",
       "    <tr>\n",
       "      <th>MTB</th>\n",
       "      <td>3.0</td>\n",
       "    </tr>\n",
       "    <tr>\n",
       "      <th>...</th>\n",
       "      <td>...</td>\n",
       "    </tr>\n",
       "    <tr>\n",
       "      <th>ONEM</th>\n",
       "      <td>3.0</td>\n",
       "    </tr>\n",
       "    <tr>\n",
       "      <th>ONDS</th>\n",
       "      <td>3.0</td>\n",
       "    </tr>\n",
       "    <tr>\n",
       "      <th>ONCT</th>\n",
       "      <td>3.0</td>\n",
       "    </tr>\n",
       "    <tr>\n",
       "      <th>ONB</th>\n",
       "      <td>3.0</td>\n",
       "    </tr>\n",
       "    <tr>\n",
       "      <th>ON</th>\n",
       "      <td>3.0</td>\n",
       "    </tr>\n",
       "  </tbody>\n",
       "</table>\n",
       "<p>374 rows × 1 columns</p>\n",
       "</div>"
      ],
      "text/plain": [
       "        filing_date\n",
       "ticker             \n",
       "KBSR            3.0\n",
       "MSN             3.0\n",
       "MTCH            3.0\n",
       "MTBC            3.0\n",
       "MTB             3.0\n",
       "...             ...\n",
       "ONEM            3.0\n",
       "ONDS            3.0\n",
       "ONCT            3.0\n",
       "ONB             3.0\n",
       "ON              3.0\n",
       "\n",
       "[374 rows x 1 columns]"
      ]
     },
     "execution_count": 13,
     "metadata": {},
     "output_type": "execute_result"
    }
   ],
   "source": [
    "num_10k_ticker_unique = pd.pivot_table(raw_data_unique[[\"ticker\", \"filing_date\"]], index=\"ticker\", values=\"filing_date\", aggfunc=\"count\")\n",
    "num_10k_ticker_unique.sort_values(\"filing_date\", ascending=False, inplace=True)\n",
    "num_10k_ticker_unique.where(num_10k_ticker.values > 3).dropna()"
   ]
  },
  {
   "attachments": {},
   "cell_type": "markdown",
   "metadata": {},
   "source": [
    "### Separamos los datos por año"
   ]
  },
  {
   "cell_type": "code",
   "execution_count": 80,
   "metadata": {},
   "outputs": [
    {
     "data": {
      "text/plain": [
       "'https://www.sec.gov/Archives/edgar/data/1853145/000185314522000011/0001853145-22-000011-index.htm'"
      ]
     },
     "execution_count": 80,
     "metadata": {},
     "output_type": "execute_result"
    }
   ],
   "source": [
    "raw_2022.iloc[2030, 1]"
   ]
  },
  {
   "cell_type": "code",
   "execution_count": 14,
   "metadata": {},
   "outputs": [],
   "source": [
    "# separamos por año y eliminamos la columna fillin_date\n",
    "\n",
    "raw_2020 = raw_data_unique[raw_data_unique[\"filing_date\"] == \"2020\"].iloc[:, :-1]\n",
    "raw_2021 = raw_data_unique[raw_data_unique[\"filing_date\"] == \"2021\"].iloc[:, :-1]\n",
    "raw_2022 = raw_data_unique[raw_data_unique[\"filing_date\"] == \"2022\"].iloc[:, :-1]"
   ]
  },
  {
   "cell_type": "code",
   "execution_count": 15,
   "metadata": {},
   "outputs": [
    {
     "name": "stdout",
     "output_type": "stream",
     "text": [
      " El año 2020 tiene 4703 ficheros 10-K\n",
      " El año 2021 tiene 5296 ficheros 10-K\n",
      " El año 2022 tiene 5843 ficheros 10-K\n"
     ]
    }
   ],
   "source": [
    "print(f' El año 2020 tiene {raw_2020.shape[0]} ficheros 10-K')\n",
    "print(f' El año 2021 tiene {raw_2021.shape[0]} ficheros 10-K')\n",
    "print(f' El año 2022 tiene {raw_2022.shape[0]} ficheros 10-K')\n"
   ]
  },
  {
   "attachments": {},
   "cell_type": "markdown",
   "metadata": {},
   "source": [
    "Número de palabras por cada 10K filling"
   ]
  },
  {
   "cell_type": "code",
   "execution_count": 15,
   "metadata": {},
   "outputs": [],
   "source": [
    "num_words_2022 = raw_2022[\"item_1\"].str.count(' ')\n",
    "num_words_2021 = raw_2021[\"item_1\"].str.count(' ')\n",
    "num_words_2020 = raw_2020[\"item_1\"].str.count(' ')"
   ]
  },
  {
   "cell_type": "code",
   "execution_count": 31,
   "metadata": {},
   "outputs": [
    {
     "data": {
      "image/png": "[encoded data removed]",
      "text/plain": [
       "<Figure size 1200x600 with 1 Axes>"
      ]
     },
     "metadata": {},
     "output_type": "display_data"
    }
   ],
   "source": [
    "fig, ax = plt.subplots(figsize=(12,6))\n",
    "plt.plot(num_words_2022, alpha=0.3, label=\"2022\")\n",
    "plt.plot(num_words_2021, alpha=0.3, label=\"2021\")\n",
    "plt.plot(num_words_2020, alpha=0.3, label=\"2020\")\n",
    "ax.set_xticks([])\n",
    "plt.legend()\n",
    "plt.title(\"Número de palabras por fichero 10-K\")\n",
    "plt.show()\n",
    "fig.savefig('imgs/num_words_10k.png', bbox_inches='tight')"
   ]
  },
  {
   "cell_type": "code",
   "execution_count": 32,
   "metadata": {},
   "outputs": [
    {
     "data": {
      "image/png": "[encoded data removed]",
      "text/plain": [
       "<Figure size 1200x600 with 1 Axes>"
      ]
     },
     "metadata": {},
     "output_type": "display_data"
    }
   ],
   "source": [
    "fig, ax = plt.subplots(figsize=(12,6))\n",
    "plt.hist(num_words_2022.values, bins=100, alpha=0.3, label=\"2022\");\n",
    "plt.hist(num_words_2021.values, bins=100, alpha=0.3, label=\"2021\");\n",
    "plt.hist(num_words_2020.values, bins=100, alpha=0.3, label=\"2020\");\n",
    "plt.legend()\n",
    "plt.title(\"Histograma Número de palabras por fichero 10-K\")\n",
    "plt.show()\n",
    "fig.savefig('imgs/num_words_10k_hist.png', bbox_inches='tight')"
   ]
  },
  {
   "cell_type": "code",
   "execution_count": 63,
   "metadata": {},
   "outputs": [
    {
     "name": "stdout",
     "output_type": "stream",
     "text": [
      "2022:\n",
      "El número total de palabras de los ficheros 10-K del año 2022 es 56582560\n",
      "El número mínimo de palabras en un fichero 10-K del año 2022 es 34\n",
      "El número máximo de palabras en un fichero 10-K del año 2022 es 91803\n",
      "El número medio de palabras en un fichero 10-K del año 2022 es 9683\n",
      "2021:\n",
      "El número total de palabras de los ficheros 10-K del año 2021 es 47330962\n",
      "El número mínimo de palabras en un fichero 10-K del año 2021 es 17\n",
      "El número máximo de palabras en un fichero 10-K del año 2021 es 57911\n",
      "El número medio de palabras en un fichero 10-K del año 2021 es 8937\n",
      "2020:\n",
      "El número total de palabras de los ficheros 10-K del año 2020 es 38270183\n",
      "El número mínimo de palabras en un fichero 10-K del año 2020 es 14\n",
      "El número máximo de palabras en un fichero 10-K del año 2020 es 77974\n",
      "El número medio de palabras en un fichero 10-K del año 2020 es 8137\n"
     ]
    }
   ],
   "source": [
    "# 2022\n",
    "print('2022:')\n",
    "print(f'El número total de palabras de los ficheros 10-K del año 2022 es {np.sum(num_words_2022.values)}')\n",
    "print(f'El número mínimo de palabras en un fichero 10-K del año 2022 es {np.min(num_words_2022.values)}')\n",
    "print(f'El número máximo de palabras en un fichero 10-K del año 2022 es {np.max(num_words_2022.values)}')\n",
    "print(f'El número medio de palabras en un fichero 10-K del año 2022 es {int(np.mean(num_words_2022.values))}')\n",
    "\n",
    "# 2021\n",
    "print('2021:')\n",
    "print(f'El número total de palabras de los ficheros 10-K del año 2021 es {np.sum(num_words_2021.values)}')\n",
    "print(f'El número mínimo de palabras en un fichero 10-K del año 2021 es {np.min(num_words_2021.values)}')\n",
    "print(f'El número máximo de palabras en un fichero 10-K del año 2021 es {np.max(num_words_2021.values)}')\n",
    "print(f'El número medio de palabras en un fichero 10-K del año 2021 es {int(np.mean(num_words_2021.values))}')\n",
    "\n",
    "# 2020\n",
    "print('2020:')\n",
    "print(f'El número total de palabras de los ficheros 10-K del año 2020 es {np.sum(num_words_2020.values)}')\n",
    "print(f'El número mínimo de palabras en un fichero 10-K del año 2020 es {np.min(num_words_2020.values)}')\n",
    "print(f'El número máximo de palabras en un fichero 10-K del año 2020 es {np.max(num_words_2020.values)}')\n",
    "print(f'El número medio de palabras en un fichero 10-K del año 2020 es {int(np.mean(num_words_2020.values))}')"
   ]
  },
  {
   "attachments": {},
   "cell_type": "markdown",
   "metadata": {},
   "source": [
    "## Limpieza inicial de los textos del año 2022"
   ]
  },
  {
   "attachments": {},
   "cell_type": "markdown",
   "metadata": {},
   "source": [
    "**STOPWORDS, PUNTUACIÓN Y MAYÚSCULAS:**"
   ]
  },
  {
   "cell_type": "code",
   "execution_count": 19,
   "metadata": {},
   "outputs": [],
   "source": [
    "def limpieza_basica(corpus, is_string=False):\n",
    "    '''\n",
    "    Función que limpia un corpus (grupo de textos) y lo devuelve.\n",
    "    - Quita puntuación\n",
    "    - Quita dígitos\n",
    "    - Transforma a minúsculas\n",
    "    - Elimina espacios vacíos al principio y final\n",
    "    - Elimina stopwords\n",
    "    \n",
    "    INPUT: Serie(columna) o lista de textos.\n",
    "    OUTPUT: Idem\n",
    "    '''\n",
    "    \n",
    "    import string\n",
    "    from string import digits\n",
    "    from nltk.corpus import wordnet, stopwords\n",
    "    \n",
    "    if is_string: # Si se le pasa una cadena de texto solo\n",
    "        # Copia para emplazar los datos limpios:\n",
    "        corp_copy = corpus\n",
    "\n",
    "        # Eliminación de puntuación:\n",
    "        corp_copy = corp_copy.translate(str.maketrans('', '',string.punctuation))\n",
    "\n",
    "        # Eliminación de cifras:\n",
    "        corp_copy = corp_copy.translate(str.maketrans('', '', digits))\n",
    "\n",
    "        # Minúsculas:\n",
    "        corp_copy = corp_copy.lower()\n",
    "\n",
    "        # Limpieza de huecos al principio y final:\n",
    "        corp_copy = corp_copy.strip()\n",
    "\n",
    "        # Delimitación de stopwords inglesas\n",
    "        stop_words = set(stopwords.words('english'))\n",
    "\n",
    "        # Eliminación de Stopwords:\n",
    "        corp_copy = ' '.join([word for word in corp_copy.split() if word not in (stop_words)])\n",
    "    else: # Si se le pasa una columna\n",
    "        \n",
    "        # Copia para emplazar los datos limpios:\n",
    "        corp_copy = corpus.copy()\n",
    "\n",
    "        # Eliminación de puntuación:\n",
    "        corp_copy = corp_copy.str.translate(str.maketrans('', '',string.punctuation))\n",
    "\n",
    "        # Eliminación de cifras:\n",
    "        corp_copy = corp_copy.str.translate(str.maketrans('', '', digits))\n",
    "\n",
    "        # Minúsculas:\n",
    "        corp_copy = corp_copy.str.lower()\n",
    "\n",
    "        # Limpieza de huecos al principio y final:\n",
    "        corp_copy = corp_copy.str.strip()\n",
    "\n",
    "        # Delimitación de stopwords inglesas\n",
    "        stop_words = set(stopwords.words('english'))\n",
    "\n",
    "        # Eliminación de Stopwords:\n",
    "        corp_copy = corp_copy.apply(lambda x: ' '.join([word for word in x.split() if word not in (stop_words)]))\n",
    "    \n",
    "    return corp_copy"
   ]
  },
  {
   "cell_type": "code",
   "execution_count": 22,
   "metadata": {},
   "outputs": [],
   "source": [
    "# 20s\n",
    "clean_2022 = raw_2022.copy()\n",
    "clean_2022.item_1 = limpieza_basica(clean_2022.item_1)"
   ]
  },
  {
   "cell_type": "code",
   "execution_count": 23,
   "metadata": {},
   "outputs": [
    {
     "data": {
      "text/html": [
       "<div>\n",
       "<style scoped>\n",
       "    .dataframe tbody tr th:only-of-type {\n",
       "        vertical-align: middle;\n",
       "    }\n",
       "\n",
       "    .dataframe tbody tr th {\n",
       "        vertical-align: top;\n",
       "    }\n",
       "\n",
       "    .dataframe thead th {\n",
       "        text-align: right;\n",
       "    }\n",
       "</style>\n",
       "<table border=\"1\" class=\"dataframe\">\n",
       "  <thead>\n",
       "    <tr style=\"text-align: right;\">\n",
       "      <th></th>\n",
       "      <th>ticker</th>\n",
       "      <th>link_to_html</th>\n",
       "      <th>item_1</th>\n",
       "    </tr>\n",
       "  </thead>\n",
       "  <tbody>\n",
       "    <tr>\n",
       "      <th>13</th>\n",
       "      <td>FSP</td>\n",
       "      <td>https://www.sec.gov/Archives/edgar/data/103131...</td>\n",
       "      <td>item business history company franklin street ...</td>\n",
       "    </tr>\n",
       "    <tr>\n",
       "      <th>14</th>\n",
       "      <td>NEWH</td>\n",
       "      <td>https://www.sec.gov/Archives/edgar/data/137112...</td>\n",
       "      <td>item business overview developer clean energy ...</td>\n",
       "    </tr>\n",
       "    <tr>\n",
       "      <th>15</th>\n",
       "      <td>NSP</td>\n",
       "      <td>https://www.sec.gov/Archives/edgar/data/100075...</td>\n",
       "      <td>item business general provide array human reso...</td>\n",
       "    </tr>\n",
       "    <tr>\n",
       "      <th>16</th>\n",
       "      <td>MDV</td>\n",
       "      <td>https://www.sec.gov/Archives/edgar/data/164587...</td>\n",
       "      <td>item business company modiv internallymanaged ...</td>\n",
       "    </tr>\n",
       "    <tr>\n",
       "      <th>28</th>\n",
       "      <td>AKRO</td>\n",
       "      <td>https://www.sec.gov/Archives/edgar/data/174465...</td>\n",
       "      <td>item businessoverviewwe clinicalstage company ...</td>\n",
       "    </tr>\n",
       "    <tr>\n",
       "      <th>...</th>\n",
       "      <td>...</td>\n",
       "      <td>...</td>\n",
       "      <td>...</td>\n",
       "    </tr>\n",
       "    <tr>\n",
       "      <th>16696</th>\n",
       "      <td>MP</td>\n",
       "      <td>https://www.sec.gov/Archives/edgar/data/180136...</td>\n",
       "      <td>item business overview mp materials corp large...</td>\n",
       "    </tr>\n",
       "    <tr>\n",
       "      <th>16704</th>\n",
       "      <td>ATNF</td>\n",
       "      <td>https://www.sec.gov/Archives/edgar/data/169008...</td>\n",
       "      <td>item businessintroduction general information ...</td>\n",
       "    </tr>\n",
       "    <tr>\n",
       "      <th>16706</th>\n",
       "      <td>DFS</td>\n",
       "      <td>https://www.sec.gov/Archives/edgar/data/139361...</td>\n",
       "      <td>item business item risk factors item b unresol...</td>\n",
       "    </tr>\n",
       "    <tr>\n",
       "      <th>16707</th>\n",
       "      <td>GROV</td>\n",
       "      <td>https://www.sec.gov/Archives/edgar/data/184176...</td>\n",
       "      <td>item business introduction blank check company...</td>\n",
       "    </tr>\n",
       "    <tr>\n",
       "      <th>16708</th>\n",
       "      <td>VRDN</td>\n",
       "      <td>https://www.sec.gov/Archives/edgar/data/159075...</td>\n",
       "      <td>item business company overview biotechnology c...</td>\n",
       "    </tr>\n",
       "  </tbody>\n",
       "</table>\n",
       "<p>5843 rows × 3 columns</p>\n",
       "</div>"
      ],
      "text/plain": [
       "      ticker                                       link_to_html  \\\n",
       "13       FSP  https://www.sec.gov/Archives/edgar/data/103131...   \n",
       "14      NEWH  https://www.sec.gov/Archives/edgar/data/137112...   \n",
       "15       NSP  https://www.sec.gov/Archives/edgar/data/100075...   \n",
       "16       MDV  https://www.sec.gov/Archives/edgar/data/164587...   \n",
       "28      AKRO  https://www.sec.gov/Archives/edgar/data/174465...   \n",
       "...      ...                                                ...   \n",
       "16696     MP  https://www.sec.gov/Archives/edgar/data/180136...   \n",
       "16704   ATNF  https://www.sec.gov/Archives/edgar/data/169008...   \n",
       "16706    DFS  https://www.sec.gov/Archives/edgar/data/139361...   \n",
       "16707   GROV  https://www.sec.gov/Archives/edgar/data/184176...   \n",
       "16708   VRDN  https://www.sec.gov/Archives/edgar/data/159075...   \n",
       "\n",
       "                                                  item_1  \n",
       "13     item business history company franklin street ...  \n",
       "14     item business overview developer clean energy ...  \n",
       "15     item business general provide array human reso...  \n",
       "16     item business company modiv internallymanaged ...  \n",
       "28     item businessoverviewwe clinicalstage company ...  \n",
       "...                                                  ...  \n",
       "16696  item business overview mp materials corp large...  \n",
       "16704  item businessintroduction general information ...  \n",
       "16706  item business item risk factors item b unresol...  \n",
       "16707  item business introduction blank check company...  \n",
       "16708  item business company overview biotechnology c...  \n",
       "\n",
       "[5843 rows x 3 columns]"
      ]
     },
     "execution_count": 23,
     "metadata": {},
     "output_type": "execute_result"
    }
   ],
   "source": [
    "clean_2022"
   ]
  },
  {
   "cell_type": "code",
   "execution_count": 50,
   "metadata": {},
   "outputs": [],
   "source": [
    "# SOLO LINUX:\n",
    "# h = Hunspell()\n",
    "\n",
    "# clean_2022[\"item_1\"] = clean_2022[\"item_1\"].apply(\n",
    "#     lambda x: ' '.join(\n",
    "#         [word for word in x.split() \n",
    "#         if h.spell(word)]\n",
    "#         )\n",
    "#     )"
   ]
  },
  {
   "cell_type": "code",
   "execution_count": 24,
   "metadata": {},
   "outputs": [
    {
     "data": {
      "text/plain": [
       "13       item business history company franklin street ...\n",
       "14       item business overview developer clean energy ...\n",
       "15       item business general provide array human reso...\n",
       "16       item business company modiv internallymanaged ...\n",
       "28       item businessoverviewwe clinicalstage company ...\n",
       "                               ...                        \n",
       "16696    item business overview mp materials corp large...\n",
       "16704    item businessintroduction general information ...\n",
       "16706    item business item risk factors item b unresol...\n",
       "16707    item business introduction blank check company...\n",
       "16708    item business company overview biotechnology c...\n",
       "Name: item_1, Length: 5843, dtype: object"
      ]
     },
     "execution_count": 24,
     "metadata": {},
     "output_type": "execute_result"
    }
   ],
   "source": [
    "clean_2022[\"item_1\"]"
   ]
  },
  {
   "attachments": {},
   "cell_type": "markdown",
   "metadata": {},
   "source": [
    "**LEMATIZACIÓN:**"
   ]
  },
  {
   "cell_type": "code",
   "execution_count": 25,
   "metadata": {},
   "outputs": [],
   "source": [
    "# Para que el multiproceso funcione le tienes que pasar todo lo que necesita.\n",
    "# Esto incluye las funciones (si son más de una) y a veces los import.\n",
    "\n",
    "def lemmatize_sentence(sentence):\n",
    "    # IMPORTS:\n",
    "    import nltk\n",
    "    from nltk.tokenize import RegexpTokenizer\n",
    "    from nltk.stem import WordNetLemmatizer\n",
    "    from nltk.corpus import wordnet, stopwords\n",
    "    \n",
    "    # INICIALIZAR LEMATIZADOR:\n",
    "    lemmatizer = WordNetLemmatizer()\n",
    "    \n",
    "    \n",
    "    # CONVERSIÓN DE TAG A OBJETO WORDNET:\n",
    "    def nltk_pos_tagger(nltk_tag):\n",
    "        if nltk_tag.startswith('J'):\n",
    "            return wordnet.ADJ\n",
    "        elif nltk_tag.startswith('V'):\n",
    "            return wordnet.VERB\n",
    "        elif nltk_tag.startswith('N'):\n",
    "            return wordnet.NOUN\n",
    "        elif nltk_tag.startswith('R'):\n",
    "            return wordnet.ADV\n",
    "        else:          \n",
    "            return None\n",
    "\n",
    "    # PROCESO INICIAL:\n",
    "    nltk_tagged = nltk.pos_tag(nltk.word_tokenize(sentence))  \n",
    "    wordnet_tagged = map(lambda x: (x[0], nltk_pos_tagger(x[1])), nltk_tagged)\n",
    "    lemmatized_sentence = []\n",
    "    \n",
    "    # BUCLE DE LIMPIEZA DE TEXTO\n",
    "    for word, tag in wordnet_tagged:\n",
    "        if tag is None:\n",
    "            lemmatized_sentence.append(word)\n",
    "        else:        \n",
    "            lemmatized_sentence.append(lemmatizer.lemmatize(word, tag))\n",
    "    return \" \".join(lemmatized_sentence)"
   ]
  },
  {
   "cell_type": "code",
   "execution_count": 26,
   "metadata": {},
   "outputs": [
    {
     "data": {
      "text/plain": [
       "'item business history company franklin street property corp refer fsp corp company maryland corporation operate manner intend qualify real estate investment trust reit federal income tax purpose common stock trade nyse american symbol fsp fsp corp successor franklin street partner limit partnership fsp partnership originally form massachusetts general partnership january successor massachusetts general partnership form january fsp partnership convert fsp corp refer conversion result conversion fsp partnership cease exist succeed business fsp partnership conversion unit general limited partnership interest fsp partnership convert one share common stock result conversion hold directly indirectly interest three former subsidiary fsp partnership fsp investment llc fsp property management llc fsp holding llc operate business subsidiary business reit focus commercial real estate investment primarily office market currently operate one segment real estate operation principal revenue source real estate operation include rental income real estate lease interest income secure loan make office property property disposition fee income assetproperty management development invest infill central business district office property unite state sunbelt mountain west region well select opportunistic market believe united state sunbelt mountain west region macroeconomic driver potential increase occupancies rent seek valueoriented investment eye towards longterm growth appreciation well current income previously also operated investment banking segment discontinue december investment banking segment generate brokerage commission loan origination fee development service fee related organization singlepurpose entity real estate private placement equity entity refer entity organize corporation operate manner intend qualify reit sponsor reit december announced brokerdealer subsidiary fsp investment llc would longer sponsor syndication share prefer stock newlyformed sponsor reit july fsp investment llc withdrew registration brokerdealer finra timetotime may acquire real estate invest real estate making secure loan real estate may also pursue selective basis sale property take advantage value creation demand property geographic property specific reason real estate operate portfolio real estate consist office property december derive rental revenue income pay us tenant property see item annual report form k information property timetotime dispose property generate gain loss ongoing effort improve upgrade portfolio provide asset management property management property accounting investor andor development service portfolio certain sponsor reit subsidiary fsp investment llc fsp property management llc fsp corp recognize revenue receipt fee income sponsor reit consolidate acquire us neither fsp investment llc fsp property management llc receive rental income timetotime may make secured loan sponsor reit form mortgage loan revolve line credit fund construction cost capital expenditure lease cost purpose anticipate loan repay maturity earlier longterm financing underlie property cash flow underlie property capital event refer loan sponsor reit loan one sponsor reit loan secure real estate outstanding december derive interest income sustainability owner commercial real estate sector significant environmental social governance esg impact strive maximize shareholder value prudent application sound esg strategy effort award recognition various third party review entity gresb energy star leed impact covid covid pandemic cause severe disruption us global economy expect continue adverse impact financial condition result operation impact could materially adverse extent current covid pandemic future pandemic cause tenant unable pay rent reduce demand commercial real estate see item risk factor item management discussion analysis financial condition result operation additional information investment objectives investment objective create shareholder value increase revenue rental dividend interest fee income net gain sale property increase cash available distribution form dividend stockholder expect continue derive real estate revenue own property sponsor reit loan fee asset management property management investor service may also acquire additional real property although property portfolio focus property central business district atlanta dallas denver houston minneapolis may acquire acquire real property geographic area united state property type office property locate eight different state december see item annual report form k information property determine debt reduction would provide great financial flexibility potentially increase shareholder value continue believe current price common stock accurately reflect value underlie real estate asset intend continue strategy initially adopt seek increase shareholder value sale select property believe short intermediate term valuation potential reach pursuant strategy anticipate disposition result estimate aggregate gross proceeds range approximately million million result time time market condition warrant expect sell property own us sold office property locate four different state aggregate gross sale proceeds million net gain million sell office property locate durham north carolina gross proceeds approximately million net gain approximately million sell property continue execute property disposition strategy revenue fund operation capital expenditures likely decrease short term proceeds disposition intend use repayment debt repurchase common stock special dividend require meet reit requirement general corporate purpose rely follow principle select real property acquisition fsp corp manage acquisition seek buy develop investment property price produce value investor avoid overpay real estate merely outbid competitor seek buy develop property excellent location substantial infrastructure place around avoid invest location future construction infrastructure speculative seek buy develop property wellconstructed design appeal broad base user avoid property quality sacrifice cost saving construction appeal narrow group user aggressively manage maintain upgrade property refuse neglect undercapitalize management maintenance capital improvement program believe ability hold property cycle generally mortgage debt company could place property risk foreclosure february none own property subject mortgage debt competition respect real estate investment face competition market property locate order establish maintain increase rental revenue property must competitive location cost amenity building similar use competitor may significantly resource may able offer attractive rental rate service hand competitor may small less fixed overhead cost less cash resource make willing able accept lower rent order maintain certain occupancy level market currently significant exist property competition competitor may decide enter market build new building compete exist project development stage competition developer also property user choose build portion building form office condominium competitive condition affect large market force beyond control general economic condition may increase competition among landlord quality tenant individual decision tenant beyond control governmental regulation various federal state local law ordinance regulation owner operator real property may become liable cost removal remediation certain hazardous substance release property law may impose liability without regard whether owner operator know caused release hazardous substance presence hazardous substance property may adversely affect owner ability sell property borrow use property collateral may cause owner property incur substantial remediation cost addition claim cleanup cost presence hazardous substance property could result owner incur substantial liability result claim private party personal injury claim adjacent property owner property damage property require comply americans disability act ada regulation rule order may issue thereunder ada separate compliance requirement public accommodation commercial facility generally require building make accessible person disability compliance ada requirement might require among thing removal access barrier noncompliance requirement could result imposition fine us government award damage private litigant addition require operate property compliance fire safety regulation build code land use regulation may adopt governmental agency body become applicable property compliance requirement may require us make substantial capital expenditure expenditure would reduce cash otherwise available distribution stockholder provision tax code govern taxation reit technical complex although expect organize operate manner enable us meet requirement assurance give always succeed taxable year qualify reit would tax corporation distribution stockholder would deductible us compute taxable income addition fail qualify reit could disqualify treatment reit year failure occur next four taxable year consequently would tax regular corporation year failure qualify even one taxable year could result significant reduction cash available distribution stockholder could require us incur indebtedness liquidate investment order generate sufficient fund pay result federal income tax liability see item risk factor item management discussion analysis financial condition result operation additional information human capital employee february december respectively woman represent employee hold management levelleadership roles endeavor maintain workplace free discrimination harassment basis color race sex national origin ethnicity religion age disability sexual orientation gender identification expression status protect applicable law regularly conduct training prevent harassment discrimination companys basis recruitment hire development train compensation advancement employee qualification performance skill experience many employee long tenure company employee compensate without regard gender race ethnicity compensation program design attract retain talent covid pandemic employee offer workfromhome flexibility meet personal family need available information make available free charge website httpwwwfspreitcom annual report form k quarterly report form q current report form k amendment report file furnished pursuant section security exchange act amend soon reasonably practicable electronically file material security exchange commission sec voluntarily provide paper copy filing code ethic upon write request receive address cover annual report form k free charge information director follow table set forth name age position director february name age position george j carterchief executive officer chairman board john n burke director brian n hansen director kenneth hoxsie director dennis j mcgillicuddy director georgia murray director kathryn p oneil director member audit committee member compensation committee member nominate corporate governance committee chair audit committee chair compensation committee chair nominate corporate governance committee lead independent director george j carter age chief executive officer chairman board director fsp corp since mr carter also president fsp corp may mr carter responsible aspect business fsp corp affiliate special emphasis evaluation acquisition structure real estate investment prior conversion president general partner fsp partnership responsible aspect business fsp partnership affiliate president boston financial security inc boston financial prior join boston financial mr carter owner developer gloucester dry dock commercial shipyard gloucester massachusetts mr carter serve manage director charge marketing first winthrop corporation national real estate investment banking firm headquarter boston massachusetts prior hold number position brokerage industry include merrill lynch co loeb rhodes co mr carter graduate university miami b john n burke age director fsp corp since chair audit committee since june mr burke certify public accountant year experience practice public accounting work private publicly trade company extensive experience serve client real estate reit industry experience include analysis evaluation financial report account system internal control audit matter mr burke involve advisor several public offering private equity debt financing merger acquisition transaction mr burke consult experience include wide range accounting tax business planning matter prior start firm mr burke audit partner boston office bdo usa llp mr burke member american institute certify public accountant massachusetts society cpa mr burke earn ms taxation study undergraduate accounting bentley university brian n hansen age director fsp corp since become chair compensation committee february since mr hansen serve president chief operate officer confluence investment management llc st louis base registered investment advisor prior found confluence mr hansen serve manage director ag edward financial institution real estate investment banking practice ag edward mr hansen advise wide variety real estate investment trust numerous capital market transaction include public private offering debt equity security well analysis various merger acquisition opportunity prior join ag edward mr hansen serve manager arthur andersen llps audit business advisory practice mr hansen serve board number nonprofit entity currently serve finance council investment committee chair archdiocese st louis member st louis county retirement board mr hansen earn mba kellogg school management northwestern university bachelor science commerce depaul university mr hansen certify public accountant kenneth hoxsie age director fsp corp since january become chair nominate corporate governance committee february mr hoxsie partner international law firm wilmer cutler pickering hale dorr llp wilmerhale retirement december join hale dorr predecessor wilmerhale subsequently work copley real estate advisor institutional real estate investment advisory firm rejoin hale dorr mr hoxsie year experience real estate capital market transaction fund formation public company counsel merger acquisition advise company since formation mr hoxsie earn jd cum laude harvard law school harvard university ba summa cum laude amherst college elect phi beta kappa dennis j mcgillicuddy age director fsp corp since may mr mcgillicuddy graduate university florida ba degree university florida law school jd degree mr mcgillicuddy join barry silverstein found coaxial communication cable television company coaxial sell cable system mr mcgillicuddy serve board various charitable organization currently president board trustees florida studio theater professional non profit theater organization president vicechairman director allstar childrens foundation organization engage create new paradigm foster care georgia murray age director fsp corp since april lead independent director since february m murray retire lend lease real estate investment inc serve principal november may october ms murray work boston financial group inc serve senior vice president director time tenure boston financial affiliate boston financial group inc past trustee urban land institute past president multifamily housing institute m murray previously serve board director capital cross bank also serve board numerous nonprofit entity ms murray graduate newton college kathryn p oneil age director fsp corp since january m oneil director bain capital investor relation area focus private equity oversight investment advisory sector retirement ms oneil partner flag capital management llc manager fundoffunds investment vehicle private equity venture capital real estate natural resource previously ms oneil investment consultant cambridge associate specialize alternative asset ms oneil currently serve variety nonprofit board include peabody essex museum director member finance investment committee horizon homeless child director serve executive finance committee trustee reservation serf president council member investment committee ms oneil trustee emeritus colby college former member board overseers boston museum science ms oneil hold ba summa cum laude honorary colby college elect phi beta kappa m oneil receive mba harvard graduate school business administration information executive officer follow table set forth name age position executive officer february name age position george j carter chief executive officer chairman boardjeffrey b carterpresident chief investment officerscott h carterexecutive vice president general counsel secretaryjohn g demerittexecutive vice president chief financial officer treasurerjohn f donahueexecutive vice presidenteriel anchondoexecutive vice president chief operate officer information george j carter set forth see director fsp corp jeffrey b carter age president chief investment officer fsp corp mr carter serve executive vice president chief investment officer february may appoint president addition position chief investment officer previously mr carter serve senior vice president director acquisition fsp corp vice president acquisition mr carter oversees daytoday execution company strategic objective business plan addition mr carter primarily responsible develop implement company investment strategy include coordination acquisition disposition prior join fsp corp mr carter work trust administration northern trust bank miami florida mr carter graduate arizona state university ba george washington university cornell university mba mr carter father george j carter serf chief executive officer chairman board director fsp corp mr carter brother scott h carter serve executive vice president general counsel secretary fsp corp scott h carter age executive vice president general counsel secretary fsp corp mr carter serve general counsel since february mr carter join fsp corp october senior vice president inhouse counsel mr carter primarily responsible management legal affair fsp corp affiliate prior join fsp corp october mr carter associate law firm nixon peabody llp originally join nixon peabody llp mr carter concentrate practice area real estate syndication acquisition finance mr carter receive bachelor business administration bba degree finance marketing juris doctor jd degree university miami mr carter admit practice law commonwealth massachusetts mr carter father george j carter serf chief executive officer chairman board director fsp corp mr carter brother jeffrey b carter serve president chief investment officer fsp corp john g demeritt age executive vice president chief financial officer treasurer fsp corp chief financial officer since march mr demeritt previously serve senior vice president finance principal accounting officer september march prior september mr demeritt manager caturano company independent accounting firm later merge mcgladrey focus sarbanes oxley compliance previously march march provide consult service public private company focus sec filing evaluation business process acquisition integration vice president financial planning analysis cabot industrial trust publicly trade real estate investment trust acquire calwest december october december controller officer meditrust company publicly trade real estate investment trust formerly know la quinta company acquire blackstone group involve number merger finance transaction prior financial accounting responsibility three public company previously associate laventhol horwath independent accounting firm mr demeritt certify public accountant hold bachelor science degree babson college john f donahue age executive vice president fsp corp president fsp property management llc hold position since may mr donahue primarily responsible oversight management real estate asset fsp corp affiliate mr donahue join fsp corp august vice president fsp property management llc may mr donahue responsible management real estate asset fsp corp affiliate mr donahue work pension fund advisory business ge capital aew capital management oversight office research development industrial land investment mr donahue work krupp realty various account finance role mr donahue hold bachelor science business administration degree bryant college eriel anchondo age executive vice president chief operate officer fsp corp held position since may mr anchondo join fsp corp senior vice president operation mr anchondo responsible ensure company proper operational control administrative reporting procedure people system infrastructure place effectively grow organization maintain financial strength operating efficiency prior join fsp corp july december mr anchondo provide consulting service retail banking division isban part technology operation division santander group financial institution may july mr anchondo employ mercer global consulting leader talent health retirement investment employee education manager across line mercer business may may mr anchondo communication consultant new york life investment management december may mr anchondo work preferred client service group putnam investment mr anchondo graduate boston university ba cornell university mba executive officer fulltime employee fsp corp past five fiscal year'"
      ]
     },
     "execution_count": 26,
     "metadata": {},
     "output_type": "execute_result"
    }
   ],
   "source": [
    "# EJEMPLO DE TEXTO LEMATIZADO\n",
    "lemmatize_sentence(clean_2022[\"item_1\"].iloc[0])"
   ]
  },
  {
   "cell_type": "code",
   "execution_count": 30,
   "metadata": {},
   "outputs": [],
   "source": [
    "lemma_2022 = clean_2022[\"item_1\"].apply(lemmatize_sentence)"
   ]
  },
  {
   "attachments": {},
   "cell_type": "markdown",
   "metadata": {},
   "source": [
    "PRUEBAS PARA VER CÓMO SEPARAR NOMBRES DE ADJETIVOS DE VERBOS etc"
   ]
  },
  {
   "cell_type": "code",
   "execution_count": 54,
   "metadata": {},
   "outputs": [],
   "source": [
    "tags = ['NN', 'NNS', 'NNP', 'NNPS', 'JJ', 'JJR', 'JJS', 'VB', 'VBD', 'VBG', 'VBN', 'VBP', 'VBZ']\n",
    "noun_tags = ['NN', 'NNS', 'NNP', 'NNPS']\n",
    "adj_tags = ['JJ', 'JJR', 'JJS']\n",
    "verb_tags = ['VB', 'VBD', 'VBG', 'VBN', 'VBP', 'VBZ']"
   ]
  },
  {
   "cell_type": "code",
   "execution_count": 57,
   "metadata": {},
   "outputs": [
    {
     "data": {
      "text/plain": [
       "1759"
      ]
     },
     "execution_count": 57,
     "metadata": {},
     "output_type": "execute_result"
    }
   ],
   "source": [
    "nouns_txt = [word for (word, pos) in nltk.pos_tag(nltk.word_tokenize(lemma_2022.iloc[0])) if pos[0] == 'N']\n",
    "len(nouns_txt)"
   ]
  },
  {
   "cell_type": "code",
   "execution_count": 58,
   "metadata": {},
   "outputs": [
    {
     "data": {
      "text/plain": [
       "525"
      ]
     },
     "execution_count": 58,
     "metadata": {},
     "output_type": "execute_result"
    }
   ],
   "source": [
    "adj_txt = [word for (word, pos) in nltk.pos_tag(nltk.word_tokenize(lemma_2022.iloc[0])) if pos[0] == 'J']\n",
    "len(adj_txt)"
   ]
  },
  {
   "cell_type": "code",
   "execution_count": 59,
   "metadata": {},
   "outputs": [
    {
     "data": {
      "text/plain": [
       "312"
      ]
     },
     "execution_count": 59,
     "metadata": {},
     "output_type": "execute_result"
    }
   ],
   "source": [
    "verb_txt = [word for (word, pos) in nltk.pos_tag(nltk.word_tokenize(lemma_2022.iloc[0])) if pos[0] == 'V']\n",
    "len(verb_txt)"
   ]
  },
  {
   "cell_type": "code",
   "execution_count": 60,
   "metadata": {},
   "outputs": [
    {
     "data": {
      "text/plain": [
       "82"
      ]
     },
     "execution_count": 60,
     "metadata": {},
     "output_type": "execute_result"
    }
   ],
   "source": [
    "adverb_txt = [word for (word, pos) in nltk.pos_tag(nltk.word_tokenize(lemma_2022.iloc[0])) if pos[0] == 'R']\n",
    "len(adverb_txt)"
   ]
  },
  {
   "attachments": {},
   "cell_type": "markdown",
   "metadata": {},
   "source": [
    "FIN DE LAS PRUEBAS"
   ]
  },
  {
   "cell_type": "code",
   "execution_count": 47,
   "metadata": {},
   "outputs": [
    {
     "data": {
      "text/plain": [
       "'item business history company franklin street property corp refer fsp corp company maryland corporation operate manner intend qualify real estate investment trust reit federal income tax purpose common stock trade nyse american symbol fsp fsp corp successor franklin street partner limit partnership fsp partnership originally form massachusetts general partnership january successor massachusetts general partnership form january fsp partnership convert fsp corp refer conversion result conversion fsp partnership cease exist succeed business fsp partnership conversion unit general limited partnership interest fsp partnership convert one share common stock result conversion hold directly indirectly interest three former subsidiary fsp partnership fsp investment llc fsp property management llc fsp holding llc operate business subsidiary business reit focus commercial real estate investment primarily office market currently operate one segment real estate operation principal revenue source real estate operation include rental income real estate lease interest income secure loan make office property property disposition fee income assetproperty management development invest infill central business district office property unite state sunbelt mountain west region well select opportunistic market believe united state sunbelt mountain west region macroeconomic driver potential increase occupancies rent seek valueoriented investment eye towards longterm growth appreciation well current income previously also operated investment banking segment discontinue december investment banking segment generate brokerage commission loan origination fee development service fee related organization singlepurpose entity real estate private placement equity entity refer entity organize corporation operate manner intend qualify reit sponsor reit december announced brokerdealer subsidiary fsp investment llc would longer sponsor syndication share prefer stock newlyformed sponsor reit july fsp investment llc withdrew registration brokerdealer finra timetotime may acquire real estate invest real estate making secure loan real estate may also pursue selective basis sale property take advantage value creation demand property geographic property specific reason real estate operate portfolio real estate consist office property december derive rental revenue income pay us tenant property see item annual report form k information property timetotime dispose property generate gain loss ongoing effort improve upgrade portfolio provide asset management property management property accounting investor andor development service portfolio certain sponsor reit subsidiary fsp investment llc fsp property management llc fsp corp recognize revenue receipt fee income sponsor reit consolidate acquire us neither fsp investment llc fsp property management llc receive rental income timetotime may make secured loan sponsor reit form mortgage loan revolve line credit fund construction cost capital expenditure lease cost purpose anticipate loan repay maturity earlier longterm financing underlie property cash flow underlie property capital event refer loan sponsor reit loan one sponsor reit loan secure real estate outstanding december derive interest income sustainability owner commercial real estate sector significant environmental social governance esg impact strive maximize shareholder value prudent application sound esg strategy effort award recognition various third party review entity gresb energy star leed impact covid covid pandemic cause severe disruption us global economy expect continue adverse impact financial condition result operation impact could materially adverse extent current covid pandemic future pandemic cause tenant unable pay rent reduce demand commercial real estate see item risk factor item management discussion analysis financial condition result operation additional information investment objectives investment objective create shareholder value increase revenue rental dividend interest fee income net gain sale property increase cash available distribution form dividend stockholder expect continue derive real estate revenue own property sponsor reit loan fee asset management property management investor service may also acquire additional real property although property portfolio focus property central business district atlanta dallas denver houston minneapolis may acquire acquire real property geographic area united state property type office property locate eight different state december see item annual report form k information property determine debt reduction would provide great financial flexibility potentially increase shareholder value continue believe current price common stock accurately reflect value underlie real estate asset intend continue strategy initially adopt seek increase shareholder value sale select property believe short intermediate term valuation potential reach pursuant strategy anticipate disposition result estimate aggregate gross proceeds range approximately million million result time time market condition warrant expect sell property own us sold office property locate four different state aggregate gross sale proceeds million net gain million sell office property locate durham north carolina gross proceeds approximately million net gain approximately million sell property continue execute property disposition strategy revenue fund operation capital expenditures likely decrease short term proceeds disposition intend use repayment debt repurchase common stock special dividend require meet reit requirement general corporate purpose rely follow principle select real property acquisition fsp corp manage acquisition seek buy develop investment property price produce value investor avoid overpay real estate merely outbid competitor seek buy develop property excellent location substantial infrastructure place around avoid invest location future construction infrastructure speculative seek buy develop property wellconstructed design appeal broad base user avoid property quality sacrifice cost saving construction appeal narrow group user aggressively manage maintain upgrade property refuse neglect undercapitalize management maintenance capital improvement program believe ability hold property cycle generally mortgage debt company could place property risk foreclosure february none own property subject mortgage debt competition respect real estate investment face competition market property locate order establish maintain increase rental revenue property must competitive location cost amenity building similar use competitor may significantly resource may able offer attractive rental rate service hand competitor may small less fixed overhead cost less cash resource make willing able accept lower rent order maintain certain occupancy level market currently significant exist property competition competitor may decide enter market build new building compete exist project development stage competition developer also property user choose build portion building form office condominium competitive condition affect large market force beyond control general economic condition may increase competition among landlord quality tenant individual decision tenant beyond control governmental regulation various federal state local law ordinance regulation owner operator real property may become liable cost removal remediation certain hazardous substance release property law may impose liability without regard whether owner operator know caused release hazardous substance presence hazardous substance property may adversely affect owner ability sell property borrow use property collateral may cause owner property incur substantial remediation cost addition claim cleanup cost presence hazardous substance property could result owner incur substantial liability result claim private party personal injury claim adjacent property owner property damage property require comply americans disability act ada regulation rule order may issue thereunder ada separate compliance requirement public accommodation commercial facility generally require building make accessible person disability compliance ada requirement might require among thing removal access barrier noncompliance requirement could result imposition fine us government award damage private litigant addition require operate property compliance fire safety regulation build code land use regulation may adopt governmental agency body become applicable property compliance requirement may require us make substantial capital expenditure expenditure would reduce cash otherwise available distribution stockholder provision tax code govern taxation reit technical complex although expect organize operate manner enable us meet requirement assurance give always succeed taxable year qualify reit would tax corporation distribution stockholder would deductible us compute taxable income addition fail qualify reit could disqualify treatment reit year failure occur next four taxable year consequently would tax regular corporation year failure qualify even one taxable year could result significant reduction cash available distribution stockholder could require us incur indebtedness liquidate investment order generate sufficient fund pay result federal income tax liability see item risk factor item management discussion analysis financial condition result operation additional information human capital employee february december respectively woman represent employee hold management levelleadership roles endeavor maintain workplace free discrimination harassment basis color race sex national origin ethnicity religion age disability sexual orientation gender identification expression status protect applicable law regularly conduct training prevent harassment discrimination companys basis recruitment hire development train compensation advancement employee qualification performance skill experience many employee long tenure company employee compensate without regard gender race ethnicity compensation program design attract retain talent covid pandemic employee offer workfromhome flexibility meet personal family need available information make available free charge website httpwwwfspreitcom annual report form k quarterly report form q current report form k amendment report file furnished pursuant section security exchange act amend soon reasonably practicable electronically file material security exchange commission sec voluntarily provide paper copy filing code ethic upon write request receive address cover annual report form k free charge information director follow table set forth name age position director february name age position george j carterchief executive officer chairman board john n burke director brian n hansen director kenneth hoxsie director dennis j mcgillicuddy director georgia murray director kathryn p oneil director member audit committee member compensation committee member nominate corporate governance committee chair audit committee chair compensation committee chair nominate corporate governance committee lead independent director george j carter age chief executive officer chairman board director fsp corp since mr carter also president fsp corp may mr carter responsible aspect business fsp corp affiliate special emphasis evaluation acquisition structure real estate investment prior conversion president general partner fsp partnership responsible aspect business fsp partnership affiliate president boston financial security inc boston financial prior join boston financial mr carter owner developer gloucester dry dock commercial shipyard gloucester massachusetts mr carter serve manage director charge marketing first winthrop corporation national real estate investment banking firm headquarter boston massachusetts prior hold number position brokerage industry include merrill lynch co loeb rhodes co mr carter graduate university miami b john n burke age director fsp corp since chair audit committee since june mr burke certify public accountant year experience practice public accounting work private publicly trade company extensive experience serve client real estate reit industry experience include analysis evaluation financial report account system internal control audit matter mr burke involve advisor several public offering private equity debt financing merger acquisition transaction mr burke consult experience include wide range accounting tax business planning matter prior start firm mr burke audit partner boston office bdo usa llp mr burke member american institute certify public accountant massachusetts society cpa mr burke earn ms taxation study undergraduate accounting bentley university brian n hansen age director fsp corp since become chair compensation committee february since mr hansen serve president chief operate officer confluence investment management llc st louis base registered investment advisor prior found confluence mr hansen serve manage director ag edward financial institution real estate investment banking practice ag edward mr hansen advise wide variety real estate investment trust numerous capital market transaction include public private offering debt equity security well analysis various merger acquisition opportunity prior join ag edward mr hansen serve manager arthur andersen llps audit business advisory practice mr hansen serve board number nonprofit entity currently serve finance council investment committee chair archdiocese st louis member st louis county retirement board mr hansen earn mba kellogg school management northwestern university bachelor science commerce depaul university mr hansen certify public accountant kenneth hoxsie age director fsp corp since january become chair nominate corporate governance committee february mr hoxsie partner international law firm wilmer cutler pickering hale dorr llp wilmerhale retirement december join hale dorr predecessor wilmerhale subsequently work copley real estate advisor institutional real estate investment advisory firm rejoin hale dorr mr hoxsie year experience real estate capital market transaction fund formation public company counsel merger acquisition advise company since formation mr hoxsie earn jd cum laude harvard law school harvard university ba summa cum laude amherst college elect phi beta kappa dennis j mcgillicuddy age director fsp corp since may mr mcgillicuddy graduate university florida ba degree university florida law school jd degree mr mcgillicuddy join barry silverstein found coaxial communication cable television company coaxial sell cable system mr mcgillicuddy serve board various charitable organization currently president board trustees florida studio theater professional non profit theater organization president vicechairman director allstar childrens foundation organization engage create new paradigm foster care georgia murray age director fsp corp since april lead independent director since february m murray retire lend lease real estate investment inc serve principal november may october ms murray work boston financial group inc serve senior vice president director time tenure boston financial affiliate boston financial group inc past trustee urban land institute past president multifamily housing institute m murray previously serve board director capital cross bank also serve board numerous nonprofit entity ms murray graduate newton college kathryn p oneil age director fsp corp since january m oneil director bain capital investor relation area focus private equity oversight investment advisory sector retirement ms oneil partner flag capital management llc manager fundoffunds investment vehicle private equity venture capital real estate natural resource previously ms oneil investment consultant cambridge associate specialize alternative asset ms oneil currently serve variety nonprofit board include peabody essex museum director member finance investment committee horizon homeless child director serve executive finance committee trustee reservation serf president council member investment committee ms oneil trustee emeritus colby college former member board overseers boston museum science ms oneil hold ba summa cum laude honorary colby college elect phi beta kappa m oneil receive mba harvard graduate school business administration information executive officer follow table set forth name age position executive officer february name age position george j carter chief executive officer chairman boardjeffrey b carterpresident chief investment officerscott h carterexecutive vice president general counsel secretaryjohn g demerittexecutive vice president chief financial officer treasurerjohn f donahueexecutive vice presidenteriel anchondoexecutive vice president chief operate officer information george j carter set forth see director fsp corp jeffrey b carter age president chief investment officer fsp corp mr carter serve executive vice president chief investment officer february may appoint president addition position chief investment officer previously mr carter serve senior vice president director acquisition fsp corp vice president acquisition mr carter oversees daytoday execution company strategic objective business plan addition mr carter primarily responsible develop implement company investment strategy include coordination acquisition disposition prior join fsp corp mr carter work trust administration northern trust bank miami florida mr carter graduate arizona state university ba george washington university cornell university mba mr carter father george j carter serf chief executive officer chairman board director fsp corp mr carter brother scott h carter serve executive vice president general counsel secretary fsp corp scott h carter age executive vice president general counsel secretary fsp corp mr carter serve general counsel since february mr carter join fsp corp october senior vice president inhouse counsel mr carter primarily responsible management legal affair fsp corp affiliate prior join fsp corp october mr carter associate law firm nixon peabody llp originally join nixon peabody llp mr carter concentrate practice area real estate syndication acquisition finance mr carter receive bachelor business administration bba degree finance marketing juris doctor jd degree university miami mr carter admit practice law commonwealth massachusetts mr carter father george j carter serf chief executive officer chairman board director fsp corp mr carter brother jeffrey b carter serve president chief investment officer fsp corp john g demeritt age executive vice president chief financial officer treasurer fsp corp chief financial officer since march mr demeritt previously serve senior vice president finance principal accounting officer september march prior september mr demeritt manager caturano company independent accounting firm later merge mcgladrey focus sarbanes oxley compliance previously march march provide consult service public private company focus sec filing evaluation business process acquisition integration vice president financial planning analysis cabot industrial trust publicly trade real estate investment trust acquire calwest december october december controller officer meditrust company publicly trade real estate investment trust formerly know la quinta company acquire blackstone group involve number merger finance transaction prior financial accounting responsibility three public company previously associate laventhol horwath independent accounting firm mr demeritt certify public accountant hold bachelor science degree babson college john f donahue age executive vice president fsp corp president fsp property management llc hold position since may mr donahue primarily responsible oversight management real estate asset fsp corp affiliate mr donahue join fsp corp august vice president fsp property management llc may mr donahue responsible management real estate asset fsp corp affiliate mr donahue work pension fund advisory business ge capital aew capital management oversight office research development industrial land investment mr donahue work krupp realty various account finance role mr donahue hold bachelor science business administration degree bryant college eriel anchondo age executive vice president chief operate officer fsp corp held position since may mr anchondo join fsp corp senior vice president operation mr anchondo responsible ensure company proper operational control administrative reporting procedure people system infrastructure place effectively grow organization maintain financial strength operating efficiency prior join fsp corp july december mr anchondo provide consulting service retail banking division isban part technology operation division santander group financial institution may july mr anchondo employ mercer global consulting leader talent health retirement investment employee education manager across line mercer business may may mr anchondo communication consultant new york life investment management december may mr anchondo work preferred client service group putnam investment mr anchondo graduate boston university ba cornell university mba executive officer fulltime employee fsp corp past five fiscal year'"
      ]
     },
     "execution_count": 47,
     "metadata": {},
     "output_type": "execute_result"
    }
   ],
   "source": [
    "lemma_2022.iloc[0]"
   ]
  },
  {
   "cell_type": "code",
   "execution_count": 32,
   "metadata": {},
   "outputs": [
    {
     "data": {
      "text/html": [
       "<div>\n",
       "<style scoped>\n",
       "    .dataframe tbody tr th:only-of-type {\n",
       "        vertical-align: middle;\n",
       "    }\n",
       "\n",
       "    .dataframe tbody tr th {\n",
       "        vertical-align: top;\n",
       "    }\n",
       "\n",
       "    .dataframe thead th {\n",
       "        text-align: right;\n",
       "    }\n",
       "</style>\n",
       "<table border=\"1\" class=\"dataframe\">\n",
       "  <thead>\n",
       "    <tr style=\"text-align: right;\">\n",
       "      <th></th>\n",
       "      <th>ticker</th>\n",
       "      <th>link_to_html</th>\n",
       "      <th>item_1</th>\n",
       "    </tr>\n",
       "  </thead>\n",
       "  <tbody>\n",
       "    <tr>\n",
       "      <th>13</th>\n",
       "      <td>FSP</td>\n",
       "      <td>https://www.sec.gov/Archives/edgar/data/103131...</td>\n",
       "      <td>item business history company franklin street ...</td>\n",
       "    </tr>\n",
       "    <tr>\n",
       "      <th>14</th>\n",
       "      <td>NEWH</td>\n",
       "      <td>https://www.sec.gov/Archives/edgar/data/137112...</td>\n",
       "      <td>item business overview developer clean energy ...</td>\n",
       "    </tr>\n",
       "    <tr>\n",
       "      <th>15</th>\n",
       "      <td>NSP</td>\n",
       "      <td>https://www.sec.gov/Archives/edgar/data/100075...</td>\n",
       "      <td>item business general provide array human reso...</td>\n",
       "    </tr>\n",
       "    <tr>\n",
       "      <th>16</th>\n",
       "      <td>MDV</td>\n",
       "      <td>https://www.sec.gov/Archives/edgar/data/164587...</td>\n",
       "      <td>item business company modiv internallymanaged ...</td>\n",
       "    </tr>\n",
       "    <tr>\n",
       "      <th>28</th>\n",
       "      <td>AKRO</td>\n",
       "      <td>https://www.sec.gov/Archives/edgar/data/174465...</td>\n",
       "      <td>item businessoverviewwe clinicalstage company ...</td>\n",
       "    </tr>\n",
       "  </tbody>\n",
       "</table>\n",
       "</div>"
      ],
      "text/plain": [
       "   ticker                                       link_to_html  \\\n",
       "13    FSP  https://www.sec.gov/Archives/edgar/data/103131...   \n",
       "14   NEWH  https://www.sec.gov/Archives/edgar/data/137112...   \n",
       "15    NSP  https://www.sec.gov/Archives/edgar/data/100075...   \n",
       "16    MDV  https://www.sec.gov/Archives/edgar/data/164587...   \n",
       "28   AKRO  https://www.sec.gov/Archives/edgar/data/174465...   \n",
       "\n",
       "                                               item_1  \n",
       "13  item business history company franklin street ...  \n",
       "14  item business overview developer clean energy ...  \n",
       "15  item business general provide array human reso...  \n",
       "16  item business company modiv internallymanaged ...  \n",
       "28  item businessoverviewwe clinicalstage company ...  "
      ]
     },
     "execution_count": 32,
     "metadata": {},
     "output_type": "execute_result"
    }
   ],
   "source": [
    "clean_2022.head()"
   ]
  },
  {
   "cell_type": "code",
   "execution_count": 34,
   "metadata": {},
   "outputs": [],
   "source": [
    "res_2022 = pd.DataFrame()\n",
    "res_2022['ticker'] = clean_2022.ticker\n",
    "res_2022['text'] = lemma_2022"
   ]
  },
  {
   "cell_type": "code",
   "execution_count": 37,
   "metadata": {},
   "outputs": [],
   "source": [
    "res_2022.to_pickle('data/res_2022.pkl')"
   ]
  },
  {
   "cell_type": "code",
   "execution_count": 38,
   "metadata": {},
   "outputs": [],
   "source": [
    "clean_2021 = raw_2021.copy()\n",
    "clean_2021.item_1 = limpieza_basica(clean_2021.item_1)\n",
    "lemma_2021 = clean_2021[\"item_1\"].apply(lemmatize_sentence)\n",
    "res_2021 = pd.DataFrame()\n",
    "res_2021['ticker'] = clean_2021.ticker\n",
    "res_2021['text'] = lemma_2021\n"
   ]
  },
  {
   "cell_type": "code",
   "execution_count": 40,
   "metadata": {},
   "outputs": [],
   "source": [
    "res_2021.to_pickle('data/res_2021.pkl')"
   ]
  },
  {
   "cell_type": "code",
   "execution_count": 81,
   "metadata": {},
   "outputs": [],
   "source": [
    "res_2022['noun'] = res_2022['text'].apply(lambda x: [word for (word, pos) in nltk.pos_tag(nltk.word_tokenize(x)) if pos[0] == 'N'])"
   ]
  },
  {
   "cell_type": "code",
   "execution_count": 82,
   "metadata": {},
   "outputs": [],
   "source": [
    "res_2022['adj'] = res_2022['text'].apply(lambda x: [word for (word, pos) in nltk.pos_tag(nltk.word_tokenize(x)) if pos[0] == 'J'])"
   ]
  },
  {
   "cell_type": "code",
   "execution_count": 83,
   "metadata": {},
   "outputs": [],
   "source": [
    "res_2022['verb'] = res_2022['text'].apply(lambda x: [word for (word, pos) in nltk.pos_tag(nltk.word_tokenize(x)) if pos[0] == 'V'])"
   ]
  },
  {
   "cell_type": "code",
   "execution_count": 84,
   "metadata": {},
   "outputs": [
    {
     "data": {
      "text/html": [
       "<div>\n",
       "<style scoped>\n",
       "    .dataframe tbody tr th:only-of-type {\n",
       "        vertical-align: middle;\n",
       "    }\n",
       "\n",
       "    .dataframe tbody tr th {\n",
       "        vertical-align: top;\n",
       "    }\n",
       "\n",
       "    .dataframe thead th {\n",
       "        text-align: right;\n",
       "    }\n",
       "</style>\n",
       "<table border=\"1\" class=\"dataframe\">\n",
       "  <thead>\n",
       "    <tr style=\"text-align: right;\">\n",
       "      <th></th>\n",
       "      <th>ticker</th>\n",
       "      <th>text</th>\n",
       "      <th>noun</th>\n",
       "      <th>adj</th>\n",
       "      <th>verb</th>\n",
       "    </tr>\n",
       "  </thead>\n",
       "  <tbody>\n",
       "    <tr>\n",
       "      <th>13</th>\n",
       "      <td>FSP</td>\n",
       "      <td>item business history company franklin street ...</td>\n",
       "      <td>[item, business, history, company, street, pro...</td>\n",
       "      <td>[franklin, qualify, real, federal, common, nys...</td>\n",
       "      <td>[refer, operate, intend, reit, fsp, limit, for...</td>\n",
       "    </tr>\n",
       "    <tr>\n",
       "      <th>14</th>\n",
       "      <td>NEWH</td>\n",
       "      <td>item business overview developer clean energy ...</td>\n",
       "      <td>[item, business, overview, developer, energy, ...</td>\n",
       "      <td>[clean, current, electrolyzer, low, green, abu...</td>\n",
       "      <td>[develop, produce, exist, extract, know, use, ...</td>\n",
       "    </tr>\n",
       "    <tr>\n",
       "      <th>15</th>\n",
       "      <td>NSP</td>\n",
       "      <td>item business general provide array human reso...</td>\n",
       "      <td>[item, business, provide, array, resource, hr,...</td>\n",
       "      <td>[general, human, professional, current, best, ...</td>\n",
       "      <td>[improve, evolve, provide, united, buy, provid...</td>\n",
       "    </tr>\n",
       "    <tr>\n",
       "      <th>16</th>\n",
       "      <td>MDV</td>\n",
       "      <td>item business company modiv internallymanaged ...</td>\n",
       "      <td>[item, business, company, modiv, corporation, ...</td>\n",
       "      <td>[real, federal, own, singletenant, netlease, i...</td>\n",
       "      <td>[internallymanaged, qualify, reit, acquires, e...</td>\n",
       "    </tr>\n",
       "    <tr>\n",
       "      <th>28</th>\n",
       "      <td>AKRO</td>\n",
       "      <td>item businessoverviewwe clinicalstage company ...</td>\n",
       "      <td>[item, clinicalstage, company, treatment, pati...</td>\n",
       "      <td>[businessoverviewwe, transformational, serious...</td>\n",
       "      <td>[develop, include, carbohydrates, protein, efx...</td>\n",
       "    </tr>\n",
       "  </tbody>\n",
       "</table>\n",
       "</div>"
      ],
      "text/plain": [
       "   ticker                                               text  \\\n",
       "13    FSP  item business history company franklin street ...   \n",
       "14   NEWH  item business overview developer clean energy ...   \n",
       "15    NSP  item business general provide array human reso...   \n",
       "16    MDV  item business company modiv internallymanaged ...   \n",
       "28   AKRO  item businessoverviewwe clinicalstage company ...   \n",
       "\n",
       "                                                 noun  \\\n",
       "13  [item, business, history, company, street, pro...   \n",
       "14  [item, business, overview, developer, energy, ...   \n",
       "15  [item, business, provide, array, resource, hr,...   \n",
       "16  [item, business, company, modiv, corporation, ...   \n",
       "28  [item, clinicalstage, company, treatment, pati...   \n",
       "\n",
       "                                                  adj  \\\n",
       "13  [franklin, qualify, real, federal, common, nys...   \n",
       "14  [clean, current, electrolyzer, low, green, abu...   \n",
       "15  [general, human, professional, current, best, ...   \n",
       "16  [real, federal, own, singletenant, netlease, i...   \n",
       "28  [businessoverviewwe, transformational, serious...   \n",
       "\n",
       "                                                 verb  \n",
       "13  [refer, operate, intend, reit, fsp, limit, for...  \n",
       "14  [develop, produce, exist, extract, know, use, ...  \n",
       "15  [improve, evolve, provide, united, buy, provid...  \n",
       "16  [internallymanaged, qualify, reit, acquires, e...  \n",
       "28  [develop, include, carbohydrates, protein, efx...  "
      ]
     },
     "execution_count": 84,
     "metadata": {},
     "output_type": "execute_result"
    }
   ],
   "source": [
    "res_2022.head()"
   ]
  },
  {
   "cell_type": "code",
   "execution_count": null,
   "metadata": {},
   "outputs": [],
   "source": [
    "res_2022.to_pickle('data/res_2022.pkl')"
   ]
  },
  {
   "cell_type": "code",
   "execution_count": 27,
   "metadata": {},
   "outputs": [
    {
     "name": "stderr",
     "output_type": "stream",
     "text": [
      "Lematizando:   0%|          | 0/5843 [41:44<?, ?it/s]\n"
     ]
    },
    {
     "ename": "KeyboardInterrupt",
     "evalue": "",
     "output_type": "error",
     "traceback": [
      "\u001b[0;31m---------------------------------------------------------------------------\u001b[0m",
      "\u001b[0;31mKeyboardInterrupt\u001b[0m                         Traceback (most recent call last)",
      "Cell \u001b[0;32mIn[27], line 3\u001b[0m\n\u001b[1;32m      1\u001b[0m \u001b[39m# CÁLCULO CON MULTIPROCESO\u001b[39;00m\n\u001b[1;32m      2\u001b[0m \u001b[39mwith\u001b[39;00m tqdm_joblib(tqdm\u001b[39m.\u001b[39mtqdm(desc\u001b[39m=\u001b[39m\u001b[39m\"\u001b[39m\u001b[39mLematizando\u001b[39m\u001b[39m\"\u001b[39m, total\u001b[39m=\u001b[39m\u001b[39m5843\u001b[39m)) \u001b[39mas\u001b[39;00m progress_bar:\n\u001b[0;32m----> 3\u001b[0m     resultados \u001b[39m=\u001b[39m joblib\u001b[39m.\u001b[39;49mParallel(n_jobs\u001b[39m=\u001b[39;49mcores)(joblib\u001b[39m.\u001b[39;49mdelayed(lemmatize_sentence)\n\u001b[1;32m      4\u001b[0m                                                (sentence \u001b[39m=\u001b[39;49m i) \u001b[39mfor\u001b[39;49;00m i \u001b[39min\u001b[39;49;00m clean_2022[\u001b[39m\"\u001b[39;49m\u001b[39mitem_1\u001b[39;49m\u001b[39m\"\u001b[39;49m])\n",
      "File \u001b[0;32m~/Desktop/mia/tfm/venv/lib/python3.9/site-packages/joblib/parallel.py:1088\u001b[0m, in \u001b[0;36mParallel.__call__\u001b[0;34m(self, iterable)\u001b[0m\n\u001b[1;32m   1085\u001b[0m \u001b[39mif\u001b[39;00m \u001b[39mself\u001b[39m\u001b[39m.\u001b[39mdispatch_one_batch(iterator):\n\u001b[1;32m   1086\u001b[0m     \u001b[39mself\u001b[39m\u001b[39m.\u001b[39m_iterating \u001b[39m=\u001b[39m \u001b[39mself\u001b[39m\u001b[39m.\u001b[39m_original_iterator \u001b[39mis\u001b[39;00m \u001b[39mnot\u001b[39;00m \u001b[39mNone\u001b[39;00m\n\u001b[0;32m-> 1088\u001b[0m \u001b[39mwhile\u001b[39;00m \u001b[39mself\u001b[39;49m\u001b[39m.\u001b[39;49mdispatch_one_batch(iterator):\n\u001b[1;32m   1089\u001b[0m     \u001b[39mpass\u001b[39;00m\n\u001b[1;32m   1091\u001b[0m \u001b[39mif\u001b[39;00m pre_dispatch \u001b[39m==\u001b[39m \u001b[39m\"\u001b[39m\u001b[39mall\u001b[39m\u001b[39m\"\u001b[39m \u001b[39mor\u001b[39;00m n_jobs \u001b[39m==\u001b[39m \u001b[39m1\u001b[39m:\n\u001b[1;32m   1092\u001b[0m     \u001b[39m# The iterable was consumed all at once by the above for loop.\u001b[39;00m\n\u001b[1;32m   1093\u001b[0m     \u001b[39m# No need to wait for async callbacks to trigger to\u001b[39;00m\n\u001b[1;32m   1094\u001b[0m     \u001b[39m# consumption.\u001b[39;00m\n",
      "File \u001b[0;32m~/Desktop/mia/tfm/venv/lib/python3.9/site-packages/joblib/parallel.py:901\u001b[0m, in \u001b[0;36mParallel.dispatch_one_batch\u001b[0;34m(self, iterator)\u001b[0m\n\u001b[1;32m    899\u001b[0m     \u001b[39mreturn\u001b[39;00m \u001b[39mFalse\u001b[39;00m\n\u001b[1;32m    900\u001b[0m \u001b[39melse\u001b[39;00m:\n\u001b[0;32m--> 901\u001b[0m     \u001b[39mself\u001b[39;49m\u001b[39m.\u001b[39;49m_dispatch(tasks)\n\u001b[1;32m    902\u001b[0m     \u001b[39mreturn\u001b[39;00m \u001b[39mTrue\u001b[39;00m\n",
      "File \u001b[0;32m~/Desktop/mia/tfm/venv/lib/python3.9/site-packages/joblib/parallel.py:819\u001b[0m, in \u001b[0;36mParallel._dispatch\u001b[0;34m(self, batch)\u001b[0m\n\u001b[1;32m    817\u001b[0m \u001b[39mwith\u001b[39;00m \u001b[39mself\u001b[39m\u001b[39m.\u001b[39m_lock:\n\u001b[1;32m    818\u001b[0m     job_idx \u001b[39m=\u001b[39m \u001b[39mlen\u001b[39m(\u001b[39mself\u001b[39m\u001b[39m.\u001b[39m_jobs)\n\u001b[0;32m--> 819\u001b[0m     job \u001b[39m=\u001b[39m \u001b[39mself\u001b[39;49m\u001b[39m.\u001b[39;49m_backend\u001b[39m.\u001b[39;49mapply_async(batch, callback\u001b[39m=\u001b[39;49mcb)\n\u001b[1;32m    820\u001b[0m     \u001b[39m# A job can complete so quickly than its callback is\u001b[39;00m\n\u001b[1;32m    821\u001b[0m     \u001b[39m# called before we get here, causing self._jobs to\u001b[39;00m\n\u001b[1;32m    822\u001b[0m     \u001b[39m# grow. To ensure correct results ordering, .insert is\u001b[39;00m\n\u001b[1;32m    823\u001b[0m     \u001b[39m# used (rather than .append) in the following line\u001b[39;00m\n\u001b[1;32m    824\u001b[0m     \u001b[39mself\u001b[39m\u001b[39m.\u001b[39m_jobs\u001b[39m.\u001b[39minsert(job_idx, job)\n",
      "File \u001b[0;32m~/Desktop/mia/tfm/venv/lib/python3.9/site-packages/joblib/_parallel_backends.py:208\u001b[0m, in \u001b[0;36mSequentialBackend.apply_async\u001b[0;34m(self, func, callback)\u001b[0m\n\u001b[1;32m    206\u001b[0m \u001b[39mdef\u001b[39;00m \u001b[39mapply_async\u001b[39m(\u001b[39mself\u001b[39m, func, callback\u001b[39m=\u001b[39m\u001b[39mNone\u001b[39;00m):\n\u001b[1;32m    207\u001b[0m     \u001b[39m\"\"\"Schedule a func to be run\"\"\"\u001b[39;00m\n\u001b[0;32m--> 208\u001b[0m     result \u001b[39m=\u001b[39m ImmediateResult(func)\n\u001b[1;32m    209\u001b[0m     \u001b[39mif\u001b[39;00m callback:\n\u001b[1;32m    210\u001b[0m         callback(result)\n",
      "File \u001b[0;32m~/Desktop/mia/tfm/venv/lib/python3.9/site-packages/joblib/_parallel_backends.py:597\u001b[0m, in \u001b[0;36mImmediateResult.__init__\u001b[0;34m(self, batch)\u001b[0m\n\u001b[1;32m    594\u001b[0m \u001b[39mdef\u001b[39;00m \u001b[39m__init__\u001b[39m(\u001b[39mself\u001b[39m, batch):\n\u001b[1;32m    595\u001b[0m     \u001b[39m# Don't delay the application, to avoid keeping the input\u001b[39;00m\n\u001b[1;32m    596\u001b[0m     \u001b[39m# arguments in memory\u001b[39;00m\n\u001b[0;32m--> 597\u001b[0m     \u001b[39mself\u001b[39m\u001b[39m.\u001b[39mresults \u001b[39m=\u001b[39m batch()\n",
      "File \u001b[0;32m~/Desktop/mia/tfm/venv/lib/python3.9/site-packages/joblib/parallel.py:288\u001b[0m, in \u001b[0;36mBatchedCalls.__call__\u001b[0;34m(self)\u001b[0m\n\u001b[1;32m    284\u001b[0m \u001b[39mdef\u001b[39;00m \u001b[39m__call__\u001b[39m(\u001b[39mself\u001b[39m):\n\u001b[1;32m    285\u001b[0m     \u001b[39m# Set the default nested backend to self._backend but do not set the\u001b[39;00m\n\u001b[1;32m    286\u001b[0m     \u001b[39m# change the default number of processes to -1\u001b[39;00m\n\u001b[1;32m    287\u001b[0m     \u001b[39mwith\u001b[39;00m parallel_backend(\u001b[39mself\u001b[39m\u001b[39m.\u001b[39m_backend, n_jobs\u001b[39m=\u001b[39m\u001b[39mself\u001b[39m\u001b[39m.\u001b[39m_n_jobs):\n\u001b[0;32m--> 288\u001b[0m         \u001b[39mreturn\u001b[39;00m [func(\u001b[39m*\u001b[39margs, \u001b[39m*\u001b[39m\u001b[39m*\u001b[39mkwargs)\n\u001b[1;32m    289\u001b[0m                 \u001b[39mfor\u001b[39;00m func, args, kwargs \u001b[39min\u001b[39;00m \u001b[39mself\u001b[39m\u001b[39m.\u001b[39mitems]\n",
      "File \u001b[0;32m~/Desktop/mia/tfm/venv/lib/python3.9/site-packages/joblib/parallel.py:288\u001b[0m, in \u001b[0;36m<listcomp>\u001b[0;34m(.0)\u001b[0m\n\u001b[1;32m    284\u001b[0m \u001b[39mdef\u001b[39;00m \u001b[39m__call__\u001b[39m(\u001b[39mself\u001b[39m):\n\u001b[1;32m    285\u001b[0m     \u001b[39m# Set the default nested backend to self._backend but do not set the\u001b[39;00m\n\u001b[1;32m    286\u001b[0m     \u001b[39m# change the default number of processes to -1\u001b[39;00m\n\u001b[1;32m    287\u001b[0m     \u001b[39mwith\u001b[39;00m parallel_backend(\u001b[39mself\u001b[39m\u001b[39m.\u001b[39m_backend, n_jobs\u001b[39m=\u001b[39m\u001b[39mself\u001b[39m\u001b[39m.\u001b[39m_n_jobs):\n\u001b[0;32m--> 288\u001b[0m         \u001b[39mreturn\u001b[39;00m [func(\u001b[39m*\u001b[39;49margs, \u001b[39m*\u001b[39;49m\u001b[39m*\u001b[39;49mkwargs)\n\u001b[1;32m    289\u001b[0m                 \u001b[39mfor\u001b[39;00m func, args, kwargs \u001b[39min\u001b[39;00m \u001b[39mself\u001b[39m\u001b[39m.\u001b[39mitems]\n",
      "Cell \u001b[0;32mIn[25], line 29\u001b[0m, in \u001b[0;36mlemmatize_sentence\u001b[0;34m(sentence)\u001b[0m\n\u001b[1;32m     26\u001b[0m         \u001b[39mreturn\u001b[39;00m \u001b[39mNone\u001b[39;00m\n\u001b[1;32m     28\u001b[0m \u001b[39m# PROCESO INICIAL:\u001b[39;00m\n\u001b[0;32m---> 29\u001b[0m nltk_tagged \u001b[39m=\u001b[39m nltk\u001b[39m.\u001b[39;49mpos_tag(nltk\u001b[39m.\u001b[39;49mword_tokenize(sentence))  \n\u001b[1;32m     30\u001b[0m wordnet_tagged \u001b[39m=\u001b[39m \u001b[39mmap\u001b[39m(\u001b[39mlambda\u001b[39;00m x: (x[\u001b[39m0\u001b[39m], nltk_pos_tagger(x[\u001b[39m1\u001b[39m])), nltk_tagged)\n\u001b[1;32m     31\u001b[0m lemmatized_sentence \u001b[39m=\u001b[39m []\n",
      "File \u001b[0;32m~/Desktop/mia/tfm/venv/lib/python3.9/site-packages/nltk/tag/__init__.py:166\u001b[0m, in \u001b[0;36mpos_tag\u001b[0;34m(tokens, tagset, lang)\u001b[0m\n\u001b[1;32m    141\u001b[0m \u001b[39m\"\"\"\u001b[39;00m\n\u001b[1;32m    142\u001b[0m \u001b[39mUse NLTK's currently recommended part of speech tagger to\u001b[39;00m\n\u001b[1;32m    143\u001b[0m \u001b[39mtag the given list of tokens.\u001b[39;00m\n\u001b[0;32m   (...)\u001b[0m\n\u001b[1;32m    163\u001b[0m \u001b[39m:rtype: list(tuple(str, str))\u001b[39;00m\n\u001b[1;32m    164\u001b[0m \u001b[39m\"\"\"\u001b[39;00m\n\u001b[1;32m    165\u001b[0m tagger \u001b[39m=\u001b[39m _get_tagger(lang)\n\u001b[0;32m--> 166\u001b[0m \u001b[39mreturn\u001b[39;00m _pos_tag(tokens, tagset, tagger, lang)\n",
      "File \u001b[0;32m~/Desktop/mia/tfm/venv/lib/python3.9/site-packages/nltk/tag/__init__.py:123\u001b[0m, in \u001b[0;36m_pos_tag\u001b[0;34m(tokens, tagset, tagger, lang)\u001b[0m\n\u001b[1;32m    120\u001b[0m     \u001b[39mraise\u001b[39;00m \u001b[39mTypeError\u001b[39;00m(\u001b[39m\"\u001b[39m\u001b[39mtokens: expected a list of strings, got a string\u001b[39m\u001b[39m\"\u001b[39m)\n\u001b[1;32m    122\u001b[0m \u001b[39melse\u001b[39;00m:\n\u001b[0;32m--> 123\u001b[0m     tagged_tokens \u001b[39m=\u001b[39m tagger\u001b[39m.\u001b[39;49mtag(tokens)\n\u001b[1;32m    124\u001b[0m     \u001b[39mif\u001b[39;00m tagset:  \u001b[39m# Maps to the specified tagset.\u001b[39;00m\n\u001b[1;32m    125\u001b[0m         \u001b[39mif\u001b[39;00m lang \u001b[39m==\u001b[39m \u001b[39m\"\u001b[39m\u001b[39meng\u001b[39m\u001b[39m\"\u001b[39m:\n",
      "File \u001b[0;32m~/Desktop/mia/tfm/venv/lib/python3.9/site-packages/nltk/tag/perceptron.py:187\u001b[0m, in \u001b[0;36mPerceptronTagger.tag\u001b[0;34m(self, tokens, return_conf, use_tagdict)\u001b[0m\n\u001b[1;32m    185\u001b[0m \u001b[39mif\u001b[39;00m \u001b[39mnot\u001b[39;00m tag:\n\u001b[1;32m    186\u001b[0m     features \u001b[39m=\u001b[39m \u001b[39mself\u001b[39m\u001b[39m.\u001b[39m_get_features(i, word, context, prev, prev2)\n\u001b[0;32m--> 187\u001b[0m     tag, conf \u001b[39m=\u001b[39m \u001b[39mself\u001b[39;49m\u001b[39m.\u001b[39;49mmodel\u001b[39m.\u001b[39;49mpredict(features, return_conf)\n\u001b[1;32m    188\u001b[0m output\u001b[39m.\u001b[39mappend((word, tag, conf) \u001b[39mif\u001b[39;00m return_conf \u001b[39m==\u001b[39m \u001b[39mTrue\u001b[39;00m \u001b[39melse\u001b[39;00m (word, tag))\n\u001b[1;32m    190\u001b[0m prev2 \u001b[39m=\u001b[39m prev\n",
      "File \u001b[0;32m~/Desktop/mia/tfm/venv/lib/python3.9/site-packages/nltk/tag/perceptron.py:66\u001b[0m, in \u001b[0;36mAveragedPerceptron.predict\u001b[0;34m(self, features, return_conf)\u001b[0m\n\u001b[1;32m     64\u001b[0m     weights \u001b[39m=\u001b[39m \u001b[39mself\u001b[39m\u001b[39m.\u001b[39mweights[feat]\n\u001b[1;32m     65\u001b[0m     \u001b[39mfor\u001b[39;00m label, weight \u001b[39min\u001b[39;00m weights\u001b[39m.\u001b[39mitems():\n\u001b[0;32m---> 66\u001b[0m         scores[label] \u001b[39m+\u001b[39m\u001b[39m=\u001b[39m value \u001b[39m*\u001b[39m weight\n\u001b[1;32m     68\u001b[0m \u001b[39m# Do a secondary alphabetic sort, for stability\u001b[39;00m\n\u001b[1;32m     69\u001b[0m best_label \u001b[39m=\u001b[39m \u001b[39mmax\u001b[39m(\u001b[39mself\u001b[39m\u001b[39m.\u001b[39mclasses, key\u001b[39m=\u001b[39m\u001b[39mlambda\u001b[39;00m label: (scores[label], label))\n",
      "\u001b[0;31mKeyboardInterrupt\u001b[0m: "
     ]
    }
   ],
   "source": [
    "# CÁLCULO CON MULTIPROCESO\n",
    "with tqdm_joblib(tqdm.tqdm(desc=\"Lematizando\", total=5843)) as progress_bar:\n",
    "    resultados = joblib.Parallel(n_jobs=cores)(joblib.delayed(lemmatize_sentence)\n",
    "                                               (sentence = i) for i in clean_2022[\"item_1\"])"
   ]
  },
  {
   "cell_type": "code",
   "execution_count": 59,
   "metadata": {},
   "outputs": [
    {
     "name": "stdout",
     "output_type": "stream",
     "text": [
      "5843\n",
      "item business history company franklin street property corp refer fsp corp company maryland corporation operate manner intend qualify real estate investment trust reit federal income tax purpose common stock trade nyse american symbol fsp fsp corp successor franklin street partner limit partnership fsp partnership originally form massachusetts general partnership january successor massachusetts general partnership form january fsp partnership convert fsp corp refer conversion result conversion fsp partnership cease exist succeed business fsp partnership conversion unit general limited partnership interest fsp partnership convert one share common stock result conversion hold directly indirectly interest three former subsidiary fsp partnership fsp investment llc fsp property management llc fsp holding llc operate business subsidiary business reit focus commercial real estate investment primarily office market currently operate one segment real estate operation principal revenue source re\n"
     ]
    }
   ],
   "source": [
    "print(len(resultados)) # Check de longitud\n",
    "print(resultados[0][:1000]) # Check de texto lematizado"
   ]
  },
  {
   "cell_type": "code",
   "execution_count": 60,
   "metadata": {},
   "outputs": [],
   "source": [
    "# ASIGNACIÓN DEL TEXTO LEMATIZADO:\n",
    "clean_2022[\"item_1\"] = resultados"
   ]
  },
  {
   "cell_type": "code",
   "execution_count": 61,
   "metadata": {},
   "outputs": [],
   "source": [
    "def get_words(text):\n",
    "    return list(set(text.str.lower().str.split().explode().tolist()))"
   ]
  },
  {
   "cell_type": "code",
   "execution_count": 62,
   "metadata": {},
   "outputs": [],
   "source": [
    "vocab_2022 = get_words(clean_2022[\"item_1\"])"
   ]
  },
  {
   "cell_type": "code",
   "execution_count": 63,
   "metadata": {},
   "outputs": [
    {
     "data": {
      "text/plain": [
       "['myris',\n",
       " 'alsals',\n",
       " 'ontegsedi',\n",
       " 'thb',\n",
       " 'symbolbloomberg',\n",
       " 'spriska',\n",
       " 'httpwwwvirnetxcom',\n",
       " 'diodeconnected',\n",
       " 'ages',\n",
       " 'navitrakthe',\n",
       " 'isra',\n",
       " 'trts',\n",
       " 'judged',\n",
       " 'oftotalrevenueyear',\n",
       " 'losure',\n",
       " 'bicistronic',\n",
       " 'ctrcaacr',\n",
       " 'pushs',\n",
       " 'aidrivenclient',\n",
       " 'vapingsmoking',\n",
       " 'belowcontract',\n",
       " 'semantics',\n",
       " 'gsis',\n",
       " 'selfpropel',\n",
       " 'nationsbank',\n",
       " 'dermatoscope',\n",
       " 'gramercy',\n",
       " 'actnone',\n",
       " 'sobiwe',\n",
       " 'placedespite',\n",
       " 'amendmentunder',\n",
       " 'lanaken',\n",
       " 'peripherallyacting',\n",
       " 'gsibsto',\n",
       " 'perish',\n",
       " 'vasoocclusive',\n",
       " 'agerestricted',\n",
       " 'ratepotential',\n",
       " 'infographic',\n",
       " 'bander',\n",
       " 'wpxu',\n",
       " 'actionat',\n",
       " 'naturalyte',\n",
       " 'sellersunder',\n",
       " 'contractsinvestment',\n",
       " 'savingsoriented',\n",
       " 'recognizedas',\n",
       " 'jn',\n",
       " 'venerology',\n",
       " 'buyflowsas',\n",
       " 'lyrthe',\n",
       " 'aboveemployeeswe',\n",
       " 'ovtchinnikov',\n",
       " 'ordinancethe',\n",
       " 'betteru',\n",
       " 'radiodiagnostic',\n",
       " 'pressuresfor',\n",
       " 'hsf',\n",
       " 'loanpreferred',\n",
       " 'caqh',\n",
       " 'benefitsquantitatively',\n",
       " 'fluidbearing',\n",
       " 'paliotti',\n",
       " 'unsmoke',\n",
       " 'postdividend',\n",
       " 'hcvinfected',\n",
       " 'fha',\n",
       " 'finial',\n",
       " 'ang',\n",
       " 'sitesdmstotala',\n",
       " 'colorfast',\n",
       " 'functionalityfocused',\n",
       " 'wwwsensatacom',\n",
       " 'centreville',\n",
       " 'pharmaceuticalbiotech',\n",
       " 'zaderej',\n",
       " 'wwwaleruscom',\n",
       " 'technologyvirtualis',\n",
       " 'resultsto',\n",
       " 'argumentsadditionally',\n",
       " 'kirganexecutive',\n",
       " 'healthcom',\n",
       " 'openran',\n",
       " 'reteach',\n",
       " 'os',\n",
       " 'viewdaily',\n",
       " 'modalityspecific',\n",
       " 'nonroadvehicle',\n",
       " 'gretzema',\n",
       " 'customersregardless',\n",
       " 'neurotoxicology',\n",
       " 'auricular',\n",
       " 'antimycobacterial',\n",
       " 'thar',\n",
       " 'burixafor',\n",
       " 'icelandic',\n",
       " 'betamericacom',\n",
       " 'consult',\n",
       " 'selftaught',\n",
       " 'onlythe',\n",
       " 'preowned',\n",
       " 'overcharging',\n",
       " 'advocacybased',\n",
       " 'hourstraders',\n",
       " 'yokowo',\n",
       " 'opportunitiesour',\n",
       " 'iads',\n",
       " 'sensitive',\n",
       " 'rgen',\n",
       " 'feespecial',\n",
       " 'sqzaachpve',\n",
       " 'tightened',\n",
       " 'ultracapacitors',\n",
       " 'performanceinformation',\n",
       " 'nline',\n",
       " 'canadaour',\n",
       " 'ike',\n",
       " 'ipsa',\n",
       " 'ustable',\n",
       " 'cinemex',\n",
       " 'detergentbased',\n",
       " 'wytheville',\n",
       " 'mrbluckrejoined',\n",
       " 'karol',\n",
       " 'gatons',\n",
       " 'resultshuman',\n",
       " 'elk',\n",
       " 'ggs',\n",
       " 'cancerupa',\n",
       " 'ketofriendly',\n",
       " 'penaltieschanges',\n",
       " 'businessoverviewcarpartscom',\n",
       " 'neilseniq',\n",
       " 'vrx',\n",
       " 'timecollaborations',\n",
       " 'nais',\n",
       " 'noaa',\n",
       " 'sftr',\n",
       " 'inccorporate',\n",
       " 'pertarget',\n",
       " 'excitehome',\n",
       " 'lifeenriching',\n",
       " 'jettingbronze',\n",
       " 'fatovic',\n",
       " 'wwwshpreitcom',\n",
       " 'operatecovid',\n",
       " 'realtycorp',\n",
       " 'landfillsgiven',\n",
       " 'microohm',\n",
       " 'midthis',\n",
       " 'dnabarcoded',\n",
       " 'involvementcompetition',\n",
       " 'streamercentric',\n",
       " 'medicinesgene',\n",
       " 'postedcertificationswe',\n",
       " 'positionrole',\n",
       " 'uridyl',\n",
       " 'pressuresin',\n",
       " 'walkininstorepickupand',\n",
       " 'raynham',\n",
       " 'transitionaljune',\n",
       " 'crossselling',\n",
       " 'perksstorepal',\n",
       " 'multiweek',\n",
       " 'affiliated',\n",
       " 'hardertotreat',\n",
       " 'nisources',\n",
       " 'armatas',\n",
       " 'artist',\n",
       " 'everengaged',\n",
       " 'proteasemediated',\n",
       " 'compaia',\n",
       " 'customersthe',\n",
       " 'autoroutiere',\n",
       " 'spontex',\n",
       " 'zivos',\n",
       " 'permissionwe',\n",
       " 'immunoreceptor',\n",
       " 'aetna',\n",
       " 'elevator',\n",
       " 'gsco',\n",
       " 'inhouseindustry',\n",
       " 'myelomabcm',\n",
       " 'catalystsmolecular',\n",
       " 'tobetreated',\n",
       " 'loansmezzanine',\n",
       " 'coverdell',\n",
       " 'vmxp',\n",
       " 'legislationgreat',\n",
       " 'hidden',\n",
       " 'sofosbuvir',\n",
       " 'millable',\n",
       " 'jagpal',\n",
       " 'lawssurface',\n",
       " 'medicinepatents',\n",
       " 'highestvolume',\n",
       " 'overlap',\n",
       " 'portfoliolarge',\n",
       " 'singlelead',\n",
       " 'ztis',\n",
       " 'cefiderocol',\n",
       " 'elso',\n",
       " 'fracturings',\n",
       " 'rsoxan',\n",
       " 'savs',\n",
       " 'sinemet',\n",
       " 'ccmp',\n",
       " 'httpircardlyticscom',\n",
       " 'rhe',\n",
       " 'tanabe',\n",
       " 'near',\n",
       " 'scanas',\n",
       " 'winnerplacing',\n",
       " 'penaltiesefforts',\n",
       " 'invivo',\n",
       " 'informationconcurrent',\n",
       " 'nonsoda',\n",
       " 'giffin',\n",
       " 'pdea',\n",
       " 'membera',\n",
       " 'neurosurgical',\n",
       " 'etcthe',\n",
       " 'beltdriven',\n",
       " 'therapeutically',\n",
       " 'palisade',\n",
       " 'requirementscustomercentric',\n",
       " 'blasphemy',\n",
       " 'powdura',\n",
       " 'anticsfr',\n",
       " 'paristech',\n",
       " 'westlbs',\n",
       " 'syndromesstem',\n",
       " 'audentes',\n",
       " 'winchestruckspaccars',\n",
       " 'wellrd',\n",
       " 'undyed',\n",
       " 'wongtrakool',\n",
       " 'topdecile',\n",
       " 'crathe',\n",
       " 'reason',\n",
       " 'amountloan',\n",
       " 'visa',\n",
       " 'firmsponsored',\n",
       " 'chlebowski',\n",
       " 'navigenics',\n",
       " 'httpswwwmaaccom',\n",
       " 'goodseasonality',\n",
       " 'carriershuman',\n",
       " 'pppgenerated',\n",
       " 'macpriced',\n",
       " 'retinain',\n",
       " 'rendicin',\n",
       " 'anlicare',\n",
       " 'crg',\n",
       " 'oursmanufacturing',\n",
       " 'approachescrispr',\n",
       " 'iicompetitive',\n",
       " 'pioneerstandard',\n",
       " 'respectdiversity',\n",
       " 'feipeng',\n",
       " 'sensuss',\n",
       " 'preteenage',\n",
       " 'ghixu',\n",
       " 'cdgearnk',\n",
       " 'blender',\n",
       " 'submaximal',\n",
       " 'isg',\n",
       " 'bronchoepithelial',\n",
       " 'districtwe',\n",
       " 'sharesavailability',\n",
       " 'reputationcoverage',\n",
       " 'tucowscom',\n",
       " 'voestalpine',\n",
       " 'osstra',\n",
       " 'nbm',\n",
       " 'deamidated',\n",
       " 'ftr',\n",
       " 'equit',\n",
       " 'shellacbasedspecialty',\n",
       " 'statesorphan',\n",
       " 'selma',\n",
       " 'fulfillfromstore',\n",
       " 'awg',\n",
       " 'dateproducts',\n",
       " 'covidseasonalityour',\n",
       " 'rodshistorically',\n",
       " 'chaptersas',\n",
       " 'trialfollowing',\n",
       " 'maipo',\n",
       " 'injuryupon',\n",
       " 'leland',\n",
       " 'premarketapproval',\n",
       " 'exited',\n",
       " 'trendslabor',\n",
       " 'clientsnebula',\n",
       " 'aaqhc',\n",
       " 'unitssubsidiaries',\n",
       " 'alleyway',\n",
       " 'africapatent',\n",
       " 'upheld',\n",
       " 'reconveyance',\n",
       " 'organizationpandemic',\n",
       " 'specialservice',\n",
       " 'certificatesgnma',\n",
       " 'inadequacyinvestment',\n",
       " 'meineke',\n",
       " 'sccarbapenem',\n",
       " 'zhongguancun',\n",
       " 'spagovernment',\n",
       " 'wechat',\n",
       " 'wagner',\n",
       " 'cisplatinresistant',\n",
       " 'auctioninc',\n",
       " 'wwwammoinccom',\n",
       " 'refiningpecos',\n",
       " 'locallybuilt',\n",
       " 'usamarketing',\n",
       " 'fujitec',\n",
       " 'nonmultidisciplinary',\n",
       " 'pasic',\n",
       " 'outreachcompetitive',\n",
       " 'thermostability',\n",
       " 'fare',\n",
       " 'consultingspecifying',\n",
       " 'vacheron',\n",
       " 'yanchang',\n",
       " 'combinationgeneral',\n",
       " 'biofilmsexebacase',\n",
       " 'pavurutamab',\n",
       " 'personnelany',\n",
       " 'reedus',\n",
       " 'secondly',\n",
       " 'incomefurthermore',\n",
       " 'aguilera',\n",
       " 'assessmentsesquire',\n",
       " 'tbic',\n",
       " 'capitalinvestors',\n",
       " 'ultrapmg',\n",
       " 'ihu',\n",
       " 'contextual',\n",
       " 'groundswe',\n",
       " 'smallerchain',\n",
       " 'documentscode',\n",
       " 'lightleak',\n",
       " 'downselecting',\n",
       " 'methylstearic',\n",
       " 'rightsconstruct',\n",
       " 'statelicensed',\n",
       " 'oswt',\n",
       " 'appendonly',\n",
       " 'teamsisoray',\n",
       " 'caidi',\n",
       " 'deliverymaterials',\n",
       " 'surplusredundancywith',\n",
       " 'stategenerally',\n",
       " 'elaboration',\n",
       " 'periodpersonnelat',\n",
       " 'wwwtrudogcom',\n",
       " 'diarrhea',\n",
       " 'bankingcorporate',\n",
       " 'lgt',\n",
       " 'trustscore',\n",
       " 'interqual',\n",
       " 'misdirect',\n",
       " 'maxfli',\n",
       " 'companyour',\n",
       " 'inhibitorsto',\n",
       " 'dweller',\n",
       " 'pivencoding',\n",
       " 'anolytebased',\n",
       " 'colorshifting',\n",
       " 'uz',\n",
       " 'sanminasci',\n",
       " 'sdksoftware',\n",
       " 'cecum',\n",
       " 'controversial',\n",
       " 'economywith',\n",
       " 'sunlights',\n",
       " 'onxx',\n",
       " 'paltusotine',\n",
       " 'competitionpricing',\n",
       " 'ogt',\n",
       " 'diegoms',\n",
       " 'ucd',\n",
       " 'effectconflicts',\n",
       " 'silvertowne',\n",
       " 'regulationsfirst',\n",
       " 'equipmentcompanyowned',\n",
       " 'focusms',\n",
       " 'researchcentric',\n",
       " 'pms',\n",
       " 'neutrogena',\n",
       " 'rulesif',\n",
       " 'xemax',\n",
       " 'tastecomau',\n",
       " 'eqgps',\n",
       " 'airfield',\n",
       " 'legit',\n",
       " 'controlsaudit',\n",
       " 'paycard',\n",
       " 'deminimis',\n",
       " 'fusals',\n",
       " 'btnl',\n",
       " 'potentialsour',\n",
       " 'doj',\n",
       " 'shipley',\n",
       " 'virus',\n",
       " 'ilos',\n",
       " 'spectrumefficiency',\n",
       " 'penaltiesd',\n",
       " 'ltd',\n",
       " 'naples',\n",
       " 'surefly',\n",
       " 'kpc',\n",
       " 'rentsq',\n",
       " 'redeposit',\n",
       " 'ahfcaa',\n",
       " 'unicorner',\n",
       " 'duebased',\n",
       " 'ultrafilter',\n",
       " 'dihg',\n",
       " 'crops',\n",
       " 'cabiralizumab',\n",
       " 'cancernet',\n",
       " 'certaintys',\n",
       " 'navarro',\n",
       " 'rpdafter',\n",
       " 'hurricaneprone',\n",
       " 'needsthe',\n",
       " 'hypertarget',\n",
       " 'thefdas',\n",
       " 'portfolioanalyst',\n",
       " 'qorvos',\n",
       " 'hexpol',\n",
       " 'fuelagnostic',\n",
       " 'activitycto',\n",
       " 'niihau',\n",
       " 'resistancethere',\n",
       " 'researchwhich',\n",
       " 'tauopathies',\n",
       " 'mastercrafted',\n",
       " 'wwwmeatyourmakercom',\n",
       " 'cpiexperienced',\n",
       " 'kqmkld',\n",
       " 'loanconstruction',\n",
       " 'twomidnight',\n",
       " 'managementtable',\n",
       " 'finesin',\n",
       " 'gridhamd',\n",
       " 'bsfc',\n",
       " 'noncirrhoticnash',\n",
       " 'yle',\n",
       " 'infest',\n",
       " 'averageratepaid',\n",
       " 'sers',\n",
       " 'dimerizing',\n",
       " 'insiderssections',\n",
       " 'emissionscompliant',\n",
       " 'feinour',\n",
       " 'endoleaks',\n",
       " 'thousandstotal',\n",
       " 'penthousestyle',\n",
       " 'screensvalue',\n",
       " 'faxian',\n",
       " 'scientificguidant',\n",
       " 'adjuvants',\n",
       " 'wwwbrightcovecom',\n",
       " 'railserved',\n",
       " 'hidua',\n",
       " 'teaches',\n",
       " 'bossip',\n",
       " 'rently',\n",
       " 'certiorari',\n",
       " 'midline',\n",
       " 'inotropes',\n",
       " 'biotechnical',\n",
       " 'differentiatorsthe',\n",
       " 'molybdenum',\n",
       " 'winwins',\n",
       " 'apexigen',\n",
       " 'singlebore',\n",
       " 'customersraw',\n",
       " 'faas',\n",
       " 'samidorphan',\n",
       " 'postmining',\n",
       " 'leaman',\n",
       " 'derisks',\n",
       " 'zage',\n",
       " 'temporaire',\n",
       " 'productsfailure',\n",
       " 'sdc',\n",
       " 'expungement',\n",
       " 'wwwrbicom',\n",
       " 'indicatedgrade',\n",
       " 'atlantawumjfmc',\n",
       " 'stabilityestablishment',\n",
       " 'en',\n",
       " 'cyclo',\n",
       " 'agreementfinancial',\n",
       " 'visionlife',\n",
       " 'coinvested',\n",
       " 'laphroaig',\n",
       " 'lightonoffprobes',\n",
       " 'mexicocorporate',\n",
       " 'ssaa',\n",
       " 'roleplay',\n",
       " 'pbmcperipheral',\n",
       " 'oilliquidsprone',\n",
       " 'ownershipparticipation',\n",
       " 'pointr',\n",
       " 'bobtails',\n",
       " 'amdearly',\n",
       " 'allowedsynlogic',\n",
       " 'treatmentnavideas',\n",
       " 'immuneoncology',\n",
       " 'kajfld',\n",
       " 'firearm',\n",
       " 'flsherwin',\n",
       " 'idera',\n",
       " 'quasipublic',\n",
       " 'ipeds',\n",
       " 'termsrelationship',\n",
       " 'expensesamendment',\n",
       " 'htpems',\n",
       " 'beyondcbl',\n",
       " 'carboy',\n",
       " 'gustavus',\n",
       " 'bobcat',\n",
       " 'principalsecured',\n",
       " 'terminationaerie',\n",
       " 'reestablishment',\n",
       " 'productionmedical',\n",
       " 'umbriel',\n",
       " 'helicobacter',\n",
       " 'secretarygeneral',\n",
       " 'accelerateas',\n",
       " 'synercid',\n",
       " 'nacp',\n",
       " 'baoqingmeilai',\n",
       " 'deathsapacitabine',\n",
       " 'nbi',\n",
       " 'operationsamong',\n",
       " 'arzcs',\n",
       " 'hsw',\n",
       " 'exposurerelated',\n",
       " 'nmba',\n",
       " 'honored',\n",
       " 'problemsolution',\n",
       " 'scheimpflug',\n",
       " 'alphasynucleintoxicity',\n",
       " 'wwwlifelineskincarecom',\n",
       " 'hellodigit',\n",
       " 'schizophreniapatient',\n",
       " 'fitted',\n",
       " 'exdividends',\n",
       " 'eiabased',\n",
       " 'minimallyprocessed',\n",
       " 'halladay',\n",
       " 'pahpah',\n",
       " 'htpaws',\n",
       " 'recycler',\n",
       " 'electronicsellthrough',\n",
       " 'neurocrines',\n",
       " 'subcutaneouslyadministered',\n",
       " 'shiba',\n",
       " 'killingsworth',\n",
       " 'stratify',\n",
       " 'diamondoid',\n",
       " 'nanocluster',\n",
       " 'producegrowing',\n",
       " 'canapi',\n",
       " 'enforc',\n",
       " 'cbram',\n",
       " 'woolstenhulme',\n",
       " 'feeswe',\n",
       " 'maximusseptember',\n",
       " 'incident',\n",
       " 'copyexact',\n",
       " 'dutiestrust',\n",
       " 'celanyl',\n",
       " 'metabolize',\n",
       " 'marketcompetitive',\n",
       " 'incfepi',\n",
       " 'antialphasynuclein',\n",
       " 'exclusivitysection',\n",
       " 'facilitiesavailable',\n",
       " 'trev',\n",
       " 'ueno',\n",
       " 'processone',\n",
       " 'stcu',\n",
       " 'powdercoated',\n",
       " 'commerceexport',\n",
       " 'suttlestraus',\n",
       " 'hvias',\n",
       " 'microbiomebased',\n",
       " 'loral',\n",
       " 'citypairs',\n",
       " 'nonbreathing',\n",
       " 'combglide',\n",
       " 'reclass',\n",
       " 'illnessesand',\n",
       " 'playled',\n",
       " 'distillers',\n",
       " 'namodenoson',\n",
       " 'endoprosthesis',\n",
       " 'linzessconstella',\n",
       " 'darshan',\n",
       " 'highestpotential',\n",
       " 'threedrug',\n",
       " 'osteosarcomaosteosarcoma',\n",
       " 'micline',\n",
       " 'purposes',\n",
       " 'secretaryjohn',\n",
       " 'cupridynebased',\n",
       " 'chipplan',\n",
       " 'httpsinvestorshonestcomcorporategovernancedoumentscharters',\n",
       " 'ftts',\n",
       " 'rachid',\n",
       " 'optus',\n",
       " 'lostfoam',\n",
       " 'epidural',\n",
       " 'ioneurope',\n",
       " 'lowtozero',\n",
       " 'customerin',\n",
       " 'banquete',\n",
       " 'vxwe',\n",
       " 'asct',\n",
       " 'mlaienabled',\n",
       " 'wdqd',\n",
       " 'tcmcontaining',\n",
       " 'physicianprofee',\n",
       " 'lorie',\n",
       " 'proceedingsimplications',\n",
       " 'wushi',\n",
       " 'usac',\n",
       " 'roboticguided',\n",
       " 'immunoblots',\n",
       " 'placementafter',\n",
       " 'wwwrockybrandscom',\n",
       " 'enerflex',\n",
       " 'singaporeto',\n",
       " 'transactionthrough',\n",
       " 'searchwindowsservercom',\n",
       " 'schlotzskys',\n",
       " 'mahar',\n",
       " 'singledigitology',\n",
       " 'betterness',\n",
       " 'nont',\n",
       " 'highlyempowered',\n",
       " 'belgiummanila',\n",
       " 'quasiisotropic',\n",
       " 'seasonalityfor',\n",
       " 'africafuture',\n",
       " 'targetsinvestment',\n",
       " 'dolphins',\n",
       " 'macgregor',\n",
       " 'pancytopenia',\n",
       " 'unclassifiableattainment',\n",
       " 'experiencehealth',\n",
       " 'areafuse',\n",
       " 'acetatefree',\n",
       " 'salco',\n",
       " 'ethiopia',\n",
       " 'environmentthe',\n",
       " 'minerva',\n",
       " 'tesco',\n",
       " 'undercool',\n",
       " 'gpubased',\n",
       " 'bianchin',\n",
       " 'commanded',\n",
       " 'hatred',\n",
       " 'iaea',\n",
       " 'fnotes',\n",
       " 'swiftness',\n",
       " 'osiismay',\n",
       " 'foldingrolling',\n",
       " 'dietitian',\n",
       " 'eadv',\n",
       " 'raritymoissanites',\n",
       " 'aple',\n",
       " 'computestorage',\n",
       " 'trusteewe',\n",
       " 'billionholders',\n",
       " 'cvrssorrento',\n",
       " 'starmount',\n",
       " 'dissent',\n",
       " 'wyomingutah',\n",
       " 'hrtech',\n",
       " 'greasewatch',\n",
       " 'deckccoffeenonprimary',\n",
       " 'paraguaywe',\n",
       " 'novartisin',\n",
       " 'neuronext',\n",
       " 'nondesired',\n",
       " 'danahers',\n",
       " 'dapi',\n",
       " 'myfoxzonecom',\n",
       " 'candidateresults',\n",
       " 'ionisazl',\n",
       " 'agreementremoval',\n",
       " 'builtin',\n",
       " 'teralys',\n",
       " 'industrialinternet',\n",
       " 'phoschek',\n",
       " 'imux',\n",
       " 'httpspyrophytespaccom',\n",
       " 'fdafurther',\n",
       " 'ser',\n",
       " 'satisfactionin',\n",
       " 'treatmentssales',\n",
       " 'afhppe',\n",
       " 'immunoglobulinsevaluation',\n",
       " 'dumont',\n",
       " 'offlabelin',\n",
       " 'averagesince',\n",
       " 'vnpt',\n",
       " 'yorkwe',\n",
       " 'periodcombination',\n",
       " 'rou',\n",
       " 'jcm',\n",
       " 'vehicletogridhardware',\n",
       " 'cyh',\n",
       " 'nemb',\n",
       " 'chavarrias',\n",
       " 'ebis',\n",
       " 'exclusives',\n",
       " 'sourcesenergythe',\n",
       " 'myeloblastic',\n",
       " 'novadips',\n",
       " 'owneroriented',\n",
       " 'numberco',\n",
       " 'selfprospected',\n",
       " 'klaussner',\n",
       " 'cunha',\n",
       " 'thermostabilization',\n",
       " 'monthscovid',\n",
       " 'employeestalent',\n",
       " 'continentswe',\n",
       " 'globalsubmit',\n",
       " 'exerciseassociated',\n",
       " 'equine',\n",
       " 'nsite',\n",
       " 'dxr',\n",
       " 'migraineschronic',\n",
       " 'businessplease',\n",
       " 'licenseagreement',\n",
       " 'acetabular',\n",
       " 'innovationlongterm',\n",
       " 'siplace',\n",
       " 'uarts',\n",
       " 'sebetratstat',\n",
       " 'massparticipatory',\n",
       " 'highlatitude',\n",
       " 'glycerina',\n",
       " 'municipalscale',\n",
       " 'bankjonathan',\n",
       " 'subscriberselected',\n",
       " 'peking',\n",
       " 'ecosystemsas',\n",
       " 'transportables',\n",
       " 'itwe',\n",
       " 'anyangle',\n",
       " 'hctcdi',\n",
       " 'kdis',\n",
       " 'recital',\n",
       " 'peeling',\n",
       " 'electrograms',\n",
       " 'sitemap',\n",
       " 'pfalon',\n",
       " 'wwwmobilemodularcom',\n",
       " 'nonqms',\n",
       " 'glaucomaoverview',\n",
       " 'treesmarijuana',\n",
       " 'contractorscorporate',\n",
       " 'personsexcelsior',\n",
       " 'hirshberg',\n",
       " 'operationsrobert',\n",
       " 'vetropack',\n",
       " 'thalassemiaour',\n",
       " 'cellynne',\n",
       " 'platformonline',\n",
       " 'midsixfigure',\n",
       " 'fbb',\n",
       " 'aschebrook',\n",
       " 'conpoa',\n",
       " 'nternet',\n",
       " 'solutiontwocomponent',\n",
       " 'antiox',\n",
       " 'celltypes',\n",
       " 'dara',\n",
       " 'depyrogenation',\n",
       " 'inbox',\n",
       " 'insulinomas',\n",
       " 'immunologyavailable',\n",
       " 'directsourcing',\n",
       " 'httpscoronavirusjhuedu',\n",
       " 'artsdigital',\n",
       " 'pgb',\n",
       " 'httpinvestorspredictiveoncologycomfinancialinformation',\n",
       " 'kio',\n",
       " 'commenced',\n",
       " 'competitionmore',\n",
       " 'fullvirome',\n",
       " 'particlethe',\n",
       " 'evertecs',\n",
       " 'regulatoryimposed',\n",
       " 'metafolin',\n",
       " 'functionmodifying',\n",
       " 'parasitedriven',\n",
       " 'diversityforward',\n",
       " 'groupslarsucosterol',\n",
       " 'corporationdouglas',\n",
       " 'ugtaa',\n",
       " 'diodearray',\n",
       " 'bexponent',\n",
       " 'traffickingthe',\n",
       " 'followshandheld',\n",
       " 'pilbara',\n",
       " 'glutenreactive',\n",
       " 'instrumentsaccounting',\n",
       " 'outcomephysician',\n",
       " 'presidentengine',\n",
       " 'feefor',\n",
       " 'coachillinn',\n",
       " 'photuris',\n",
       " 'performanceprovia',\n",
       " 'leaderthese',\n",
       " 'ork',\n",
       " 'antiendomysial',\n",
       " 'lush',\n",
       " 'multidiscipline',\n",
       " 'cloacaeand',\n",
       " 'gravityflow',\n",
       " 'aveo',\n",
       " 'lightpath',\n",
       " 'guficbio',\n",
       " 'climber',\n",
       " 'ecgenius',\n",
       " 'kidswear',\n",
       " 'worldwideglaucoma',\n",
       " 'developmentresidential',\n",
       " 'tproductsin',\n",
       " 'accessed',\n",
       " 'newson',\n",
       " 'srce',\n",
       " 'polarizers',\n",
       " 'trean',\n",
       " 'monoenergetic',\n",
       " 'carrell',\n",
       " 'recursionowned',\n",
       " 'overleveraging',\n",
       " 'lifedojo',\n",
       " 'submittedwe',\n",
       " 'partycitycom',\n",
       " 'supermidsize',\n",
       " 'dossierapproval',\n",
       " 'nanorelated',\n",
       " 'eventsclass',\n",
       " 'autoreplicative',\n",
       " 'indicesbenchmark',\n",
       " 'sentenceinnoise',\n",
       " 'belimumab',\n",
       " 'envisions',\n",
       " 'factorrisks',\n",
       " 'celera',\n",
       " 'bsees',\n",
       " 'suicidal',\n",
       " 'hadoop',\n",
       " 'kintfm',\n",
       " 'metalchelating',\n",
       " 'ocrc',\n",
       " 'reachfurther',\n",
       " 'compoundssolar',\n",
       " 'expertiseinvestment',\n",
       " 'plp',\n",
       " 'competitorthe',\n",
       " 'mcpsprs',\n",
       " 'osteowrap',\n",
       " 'followstitle',\n",
       " 'marketingauthorization',\n",
       " 'stephen',\n",
       " 'hollowing',\n",
       " 'attendancecommunication',\n",
       " 'womancentered',\n",
       " 'ourselvesraw',\n",
       " 'nolte',\n",
       " 'noninferiority',\n",
       " 'wwwubercom',\n",
       " 'redeemedlimitations',\n",
       " 'dakstats',\n",
       " 'ahus',\n",
       " 'placentalrelated',\n",
       " 'lbp',\n",
       " 'nmsdc',\n",
       " 'colanero',\n",
       " 'monovalently',\n",
       " 'ondemandwith',\n",
       " 'sapi',\n",
       " 'bandit',\n",
       " 'unionsthe',\n",
       " 'financingswe',\n",
       " 'spendingsince',\n",
       " 'modoc',\n",
       " 'interplant',\n",
       " 'birminghamsouthern',\n",
       " 'placemarriottembassy',\n",
       " 'kgcosel',\n",
       " 'shipp',\n",
       " 'reimplant',\n",
       " 'biographical',\n",
       " 'medialized',\n",
       " 'jtekt',\n",
       " 'waylivraoverview',\n",
       " 'streammineral',\n",
       " 'lifestyleeurope',\n",
       " 'programsuplizna',\n",
       " 'aboveundercapitalizedless',\n",
       " 'efficienciesusio',\n",
       " 'sais',\n",
       " 'nutella',\n",
       " 'odesivimabebgn',\n",
       " 'yearkplcplant',\n",
       " 'extensionstrv',\n",
       " 'abliva',\n",
       " 'menati',\n",
       " 'ogn',\n",
       " 'multicenternational',\n",
       " 'debtinvestments',\n",
       " 'pricerelated',\n",
       " 'alsonic',\n",
       " 'officerkathleen',\n",
       " 'unsurveyed',\n",
       " 'ofissued',\n",
       " 'marketmore',\n",
       " 'cofoundedbind',\n",
       " 'ttfields',\n",
       " 'deviceplatform',\n",
       " 'ctlacdcd',\n",
       " 'threatsantibioticresistant',\n",
       " 'author',\n",
       " 'anidulafungin',\n",
       " 'ushaped',\n",
       " 'wellas',\n",
       " 'cellfire',\n",
       " 'technologymonitr',\n",
       " 'irmeds',\n",
       " 'econometric',\n",
       " 'jurisdictionrate',\n",
       " 'sequencer',\n",
       " 'biomedicas',\n",
       " 'globalizationand',\n",
       " 'stake',\n",
       " 'autoliquidation',\n",
       " 'resultsproducing',\n",
       " 'nasdaqusat',\n",
       " 'vieco',\n",
       " 'engagementrelative',\n",
       " 'inbrijas',\n",
       " 'uncompressed',\n",
       " 'clientsreporting',\n",
       " 'heroic',\n",
       " 'omvl',\n",
       " 'dagh',\n",
       " 'oran',\n",
       " 'recruitersbuild',\n",
       " 'rsk',\n",
       " 'spaproceedings',\n",
       " 'stateslegislative',\n",
       " 'monia',\n",
       " 'reasonthe',\n",
       " 'fasson',\n",
       " 'businessattribution',\n",
       " 'genecorrected',\n",
       " 'wwwpagerdutycom',\n",
       " 'judo',\n",
       " 'stresspaints',\n",
       " 'operationsmesoscribe',\n",
       " 'ppsmaallo',\n",
       " 'bitumastic',\n",
       " 'cleanest',\n",
       " 'perpetual',\n",
       " 'enterprise',\n",
       " 'navire',\n",
       " 'pickpackship',\n",
       " 'hlv',\n",
       " 'armorclad',\n",
       " 'pctil',\n",
       " 'skopje',\n",
       " 'gestural',\n",
       " 'autoclavable',\n",
       " 'philadelphiaccfebnaphiladelphia',\n",
       " 'vgiiws',\n",
       " 'onour',\n",
       " 'beforetax',\n",
       " 'hccthe',\n",
       " 'providencest',\n",
       " 'zonerecycling',\n",
       " 'httpswwwwholeearthbrandscom',\n",
       " 'brufsky',\n",
       " 'idd',\n",
       " ...]"
      ]
     },
     "execution_count": 63,
     "metadata": {},
     "output_type": "execute_result"
    }
   ],
   "source": [
    "vocab_2022"
   ]
  },
  {
   "cell_type": "code",
   "execution_count": 64,
   "metadata": {},
   "outputs": [
    {
     "ename": "NameError",
     "evalue": "name 'vocabulary' is not defined",
     "output_type": "error",
     "traceback": [
      "\u001b[1;31m---------------------------------------------------------------------------\u001b[0m",
      "\u001b[1;31mNameError\u001b[0m                                 Traceback (most recent call last)",
      "Cell \u001b[1;32mIn [64], line 1\u001b[0m\n\u001b[1;32m----> 1\u001b[0m \u001b[39mlen\u001b[39m(vocabulary\u001b[39m.\u001b[39mintersection(english_words_set))\n",
      "\u001b[1;31mNameError\u001b[0m: name 'vocabulary' is not defined"
     ]
    }
   ],
   "source": [
    "# NO SE QUE HACE ESTO\n",
    "len(vocabulary.intersection(english_words_set))"
   ]
  },
  {
   "cell_type": "code",
   "execution_count": 74,
   "metadata": {},
   "outputs": [],
   "source": [
    "clean_vocab = []\n",
    "rest_vocab = []\n",
    "for i in vocabulary:\n",
    "    if i in english_words_set:\n",
    "        clean_vocab.append(i)\n",
    "    else:\n",
    "        rest_vocab.append(i)"
   ]
  },
  {
   "cell_type": "code",
   "execution_count": 134,
   "metadata": {},
   "outputs": [
    {
     "name": "stdout",
     "output_type": "stream",
     "text": [
      "12534\n"
     ]
    },
    {
     "data": {
      "text/plain": [
       "12534"
      ]
     },
     "execution_count": 134,
     "metadata": {},
     "output_type": "execute_result"
    }
   ],
   "source": [
    "print(len(clean_vocab))\n",
    "len(set(clean_vocab))"
   ]
  },
  {
   "cell_type": "code",
   "execution_count": 76,
   "metadata": {},
   "outputs": [],
   "source": [
    "vocabulary_2021 = set(raw_2021[\"item_1\"].str.lower().str.split().explode().tolist())\n",
    "clean_vocab_2021 = []\n",
    "rest_vocab_2021 = []\n",
    "for i in vocabulary_2021:\n",
    "    if i in english_words_set:\n",
    "        clean_vocab_2021.append(i)\n",
    "    else:\n",
    "        rest_vocab_2021.append(i)"
   ]
  },
  {
   "cell_type": "code",
   "execution_count": 77,
   "metadata": {},
   "outputs": [
    {
     "data": {
      "text/plain": [
       "12326"
      ]
     },
     "execution_count": 77,
     "metadata": {},
     "output_type": "execute_result"
    }
   ],
   "source": [
    "len(clean_vocab_2021)"
   ]
  },
  {
   "cell_type": "code",
   "execution_count": 41,
   "metadata": {},
   "outputs": [
    {
     "data": {
      "text/plain": [
       "[<matplotlib.lines.Line2D at 0x7fe328e0c0d0>]"
      ]
     },
     "execution_count": 41,
     "metadata": {},
     "output_type": "execute_result"
    },
    {
     "data": {
      "image/png": "[encoded data removed]",
      "text/plain": [
       "<Figure size 640x480 with 1 Axes>"
      ]
     },
     "metadata": {},
     "output_type": "display_data"
    }
   ],
   "source": []
  },
  {
   "cell_type": "code",
   "execution_count": 33,
   "metadata": {},
   "outputs": [
    {
     "data": {
      "text/plain": [
       "15335"
      ]
     },
     "execution_count": 33,
     "metadata": {},
     "output_type": "execute_result"
    }
   ],
   "source": [
    "len(business_text1.split())"
   ]
  },
  {
   "cell_type": "code",
   "execution_count": 16,
   "metadata": {},
   "outputs": [
    {
     "data": {
      "text/plain": [
       "6411"
      ]
     },
     "execution_count": 16,
     "metadata": {},
     "output_type": "execute_result"
    }
   ],
   "source": [
    "len(np.unique(raw_data[\"ticker\"], return_counts=True)[0])"
   ]
  },
  {
   "cell_type": "code",
   "execution_count": 17,
   "metadata": {},
   "outputs": [
    {
     "data": {
      "text/plain": [
       "[<matplotlib.lines.Line2D at 0x7fe33349aa30>]"
      ]
     },
     "execution_count": 17,
     "metadata": {},
     "output_type": "execute_result"
    },
    {
     "data": {
      "image/png": "[encoded data removed]",
      "text/plain": [
       "<Figure size 640x480 with 1 Axes>"
      ]
     },
     "metadata": {},
     "output_type": "display_data"
    }
   ],
   "source": [
    "plt.plot(np.unique(raw_data[\"ticker\"], return_counts=True)[1])"
   ]
  },
  {
   "cell_type": "code",
   "execution_count": 5,
   "metadata": {},
   "outputs": [],
   "source": [
    "raw_data = pd.read_json(\"data/10k_filings.json\")\n",
    "data = raw_data.f0_[len(raw_data.f0_) - 2]"
   ]
  },
  {
   "cell_type": "code",
   "execution_count": 6,
   "metadata": {},
   "outputs": [
    {
     "data": {
      "text/plain": [
       "' ITEM 1. BUSINESS &#160; Overview Unless otherwise indicated by the context, all references in this Annual Report on Form 10-K to &#8220;we,&#8221; &#8220;us,&#8221; &#8220;our,&#8221; the &#8220;Company&#8221; or &#8220;Prestige&#8221; refer to Prestige Consumer Healthcare Inc. and our subsidiaries. Prior to August 17, 2018, the Company\\'s name was Prestige Brands Holdings, Inc. Reference to a year (e.g., &#8220;2021&#8221;) refers to our fiscal year ended March 31 of that year. We formed as a Delaware corporation in 1996 and are engaged in the development, manufacturing, marketing, sales and distribution of well-recognized, brand name, over-the-counter (&#8220;OTC&#8221;) healthcare products to mass merchandisers, drug, food, dollar, convenience, club and e-commerce stores in North America (the United States and Canada) and in Australia and certain other international markets. We use the strength of our brands, our established retail distribution network, a low-cost operating model and our experienced management team to our competitive advantage. Our ultimate success is dependent on several factors, including our ability to: &#8226; Develop and execute effective sales, advertising and marketing programs to maintain or grow our share versus competitors over time; &#8226; Establish and maintain our manufacturing, third-party manufacturing and distribution relationships to fulfill customer demands; &#8226; Develop innovative new products; &#8226; Continue to grow our presence in the United States and international markets through acquisitions and organic growth, and; &#8226; Allocate capital effectively. We have grown our product portfolio both organically and through acquisitions. We develop our existing brands by investing in new product lines, brand extensions and strong advertising support. Acquisitions of consumer healthcare brands have also been an important part of our growth strategy. We pursue this growth following an acquisition through spending on advertising and marketing support, new sales and marketing strategies, improved packaging and formulations and innovative development of brand extensions. We conduct our operations in two reportable segments: North American OTC Healthcare and International OTC Healthcare. On July 2, 2018, we sold the Comet&#174;, Spic and Span&#174;, Chore Boy&#174;, Chlorinol&#174; and Cinch&#174; brands, as well as associated inventory, for approximately $65.9 million. These brands represented our Household Cleaning segment. Our business, business model, competitive strengths and growth strategy face various risks that are described in \"Risk Factors\" in Part I, Item 1A of this Annual Report on Form 10-K. The following summarizes the percent of our net revenues by segment: March 31, (In thousands) 2021 2020 2019 Segment: North American OTC Healthcare 90.0 % 89.2 % 88.4 % International OTC Healthcare 10.0 10.8 9.6 Household Cleaning &#8212; &#8212; 2.0 Total 100.0 % 100.0 % 100.0 % For additional information concerning our business segments, please refer to Part II, Item 7, &#8220;Management&#8217;s Discussion and Analysis of Financial Condition and Results of Operations&#8221; and Note 20 to the Consolidated Financial Statements included elsewhere in this Annual Report on Form 10-K. Major Brands and Market Position Our major brands, set forth in the table below, have strong levels of consumer awareness and retail distribution across all major channels. These brands accounted for approximately 80.3%, 80.5%, and 78.6% of our total revenues for 2021, 2020, and 2019, respectively. Major Brands Product Group Market Position (1) Market Segment (2) Brand Information North American OTC Healthcare: (3) &#160; &#160; BC&#174;/Goody\\'s Analgesics #1 Analgesic Powders Developed over 80 years ago, BC and Goody&#8217;s provide fast pain relief at the speed of powder Boudreaux\\'s Butt Paste Dermatologicals #4 Baby Ointments Products include various diaper rash ointments produced with high-quality ingredients Chloraseptic Cough &#38; Cold #1 Sore Throat Liquids and Lozenges Products include sprays and lozenges to relieve sore throats and mouth pain Clear Eyes Eye &#38; Ear Care #1 Redness Relief Effective eye care that helps relieve redness and provides soothing comfort Compound W Dermatologicals #1 Wart Removal Provides safe and effective at-home removal of common and plantar warts Debrox Eye &#38; Ear Care #1 Ear Wax Removal Provides a safe and gentle way to remove excess ear wax or water from ear canal DenTek Oral Care #3 PEG Oral Care Products include floss picks, interdental brushes, dental guards, dental repair and wax, floss threaders, dental picks and tongue cleaners Dramamine Gastrointestinal #1 Motion Sickness Relief Includes non-drowsy, kids\\', original and nausea-free formulas Fleet Gastrointestinal #1 Adult Enemas and Suppositories First sold in 1869, products include enemas and suppositories Gaviscon Gastrointestinal #1 Upset Stomach Remedies Creates a foam barrier to keep stomach acid from backing up into the esophagus Luden\\'s Cough &#38; Cold #3 Cough Drops Cough drop brand that is over 130 years old and includes a variety of flavors Monistat Women\\'s Health #1 Vaginal Anti-Fungal Provides fast relief for yeast infections and is available in several different doses Nix Dermatologicals #1 Lice and Parasite Treatments Effective and safe lice and super lice treatments Summer\\'s Eve Women\\'s Health #1 Feminine Hygiene Offers a variety of feminine hygiene products including washes, cloths, sprays and powders International OTC Healthcare: Fess Cough &#38; Cold #1 Nasal Saline Sprays and Washes Helps relieve nasal and sinus congestion due to allergy, hay fever, colds and flu Hydralyte Gastrointestinal #1 Oral Rehydration Relieves symptoms of dehydration and helps replace water and electrolytes lost due to vomiting, diarrhea, heavy sweating, vigorous exercise and occasional hangovers (1) We have prepared the information included in this Annual Report on Form 10-K with regard to the market position for our brands based in part on data generated by Information Resources, Inc. (&#8220;IRI&#8221;), for the 52-week period ended March 21, 2021. International information was derived from several sources. Fess and Hydralyte data is for the Australian market. (2) &#8220;Market segment&#8221; is defined by us and is either a standard IRI category or a segment within a standard IRI category and is based on our product offerings and the categories in which we compete. (3) Some brands in the North American OTC Healthcare segment are also sold in the International OTC Healthcare segment. Our products are sold through multiple channels, including mass merchandisers, drug, food, dollar, convenience, club and e-commerce stores, which reduces our exposure to any single distribution channel. Market Position During 2021, approximately 69.2% of our total revenues were from major brands with a number one market position, compared with approximately 69.4% and 65.8% of total revenues during 2020 and 2019, respectively. In 2021, these brands included BC/Goody\\'s, Chloraseptic , Clear Eyes , Compound W , Debrox, Dramamine, Fess, Fleet, Gaviscon, Hydralyte, Monistat, Nix, and Summer\\'s Eve . Competitive Strengths and Growth Strategy We believe that our product portfolio is positioned for long-term growth based on the following factors: Diversified Portfolio of Well-Recognized and Established Consumer Brands We own and market a diverse portfolio of well-recognized consumer brands, some of which were established over 100 years ago. Our diverse portfolio of products provides us with multiple sources of growth and minimizes our reliance on any one product or category. We provide significant marketing support to our portfolio, which is designed to enhance our sales growth and our long-term profitability across our major brands and other significant brands, sometimes referred to as core brands. Strong Competitor in Attractive Categories We compete in product categories that address recurring consumer needs. We believe we are well positioned in these categories due to the long history and consumer awareness of our brands, our strong market positions, and our low-cost operating model. The markets in which we sell our products, however, are highly competitive and include numerous national and global manufacturers, distributors, marketers and retailers. As a result, any one or more of our brands could suffer a decline in market position or sales. Proven Ability to Develop and Introduce New Products We focus our marketing and product development efforts on the identification of under-served consumer needs, the design of products that directly address those needs, and the ability to extend our highly recognizable brand names to other products. One of our strategies is to broaden the categories in which we participate and increase our share within those categories through ongoing product innovation. As an example of this philosophy, in 2021 we launched a number of new products, including Summer\\'s Eve Active Chafe Gel and Sprays, Monistat Feminine Cleanser, and Compound W Gel Plus ConSeal Patches . In 2020, we launched Summer\\'s Eve Active , Summer\\'s Eve Blissful Escape Spray , Goody\\'s Hangover, DenTek Cross Flosser, and BC Max. While there is always a risk that sales of existing products may be reduced by new product introductions, our goal is to grow the overall sales of our brands. Investments in Advertising and Marketing We invest in advertising and marketing to drive the growth of our core brands. Our marketing strategy is focused primarily on consumer oriented initiatives that target consumers via mass media, digital marketing, in-store programming and coupons. While the absolute level of marketing expenditures differs by brand and category, we have often increased the amount of investment in our brands after acquiring them. Increasing Distribution Across Multiple Channels Our broad distribution base attempts to ensure that our products are well positioned across all available channels and that we are able to participate in changing consumer retail trends. In an effort to ensure continued sales growth, we continue to focus on expanding our reliance on direct sales while reducing our reliance on brokers for our non-top 25 customers. Growing Our International Business International sales beyond the borders of North America represented 10.0%, 10.8% and 9.6% of total revenues in 2021, 2020, and 2019, respectively. We have designed and developed both products and packaging for specific international markets and expect that our international revenues as a proportion of our total revenues will continue to grow over the long-term. Although our 2021 international sales as a proportion of our total revenues decreased, it was primarily attributable to decreased sales in Australia, largely related to both fewer general consumer illnesses and activities such as athletics resulting from the various social distancing measures brought on by the coronavirus (\"COVID-19\"). A number of our brands have previously been sold internationally, and we seek to expand the number of brands sold through our existing international distribution network and continue to identify additional distribution partners for further expansion of our brands into other international markets. Efficient Operating Model To gain operating efficiencies, we oversee the production planning and quality control aspects of the manufacturing, warehousing and distribution of our products, while we primarily outsource the operating elements of these functions to well-established third-party providers. This approach allows us to benefit from their core competencies and maintain a highly variable cost structure with low overhead, limited working capital requirements, and minimal investment in capital expenditures. Management Team with Proven Ability to Acquire, Integrate and Grow Brands Our business has grown through acquisition and expansion of the many brands we have purchased as a result of the efforts of our experienced management team. Our management team has significant experience in consumer product marketing, sales, legal and regulatory compliance, product development and customer service. We rely on experienced personnel to bear the substantial responsibility of brand management and to effectuate our growth strategy. Marketing and Sales Our marketing strategy is based on the acquisition and the rejuvenation of established consumer brands that possess what we believe to be significant brand value and unrealized potential and to grow categories with existing brands where we have leading market positions. Our marketing objective is to increase sales and market share by developing innovative new products and line extensions and executing creative and cost-effective advertising and marketing programs. After we acquire a brand, we implement a brand-building strategy that uses the brand&#8217;s existing consumer awareness to maximize sales of current products and provides a vehicle to drive growth through product innovation. Brand priorities will vary from year-to-year. This brand-building process involves the evaluation of the existing brand name, the development and introduction of innovative new products, and the execution of marketing support programs. Recognizing that financial resources are limited, we allocate our resources to focus on our core brands with the most impactful, consumer-relevant initiatives that we believe have the greatest opportunities for growth and financial success. Customers Our senior management team and dedicated sales force strive to maintain long-standing relationships with our top 25 domestic customers. We also contract with third-party sales management enterprises that interface directly with many of our remaining customers and report directly to members of our sales management team. In an effort to ensure continued sales growth, we continue to focus on expanding our reliance on direct sales while reducing our reliance on brokers for our non-top 25 customers. We enjoy broad distribution across each of the major retail channels, including mass merchandisers, drug, food, dollar, convenience, club and e-commerce stores. The following table sets forth the percentage of gross sales for our domestic customers across our six major distribution channels during each of the past three years ended March 31: &#160; Percentage of Gross Sales (1) Channel of Distribution 2021 2020 2019 Mass 34.5 36.5 37.4 Drug 22.4 25.6 26.4 Food 15.0 15.4 15.5 Dollar 7.7 6.6 6.8 Convenience 3.2 3.9 4.0 Club 1.8 1.4 1.6 Other (2) 15.4 10.6 8.3 (1) Includes estimates for some of our wholesale customers that service more than one distribution channel. (2) Includes e-commerce retailers such as Amazon. Due to the diversity of our product lines, we believe that each of these channels is important to our business, and we continue to seek opportunities for growth in each channel. We believe that our emphasis on strong customer relationships, speed and flexibility and leading sales technology capabilities, combined with consistent marketing support programs and ongoing product innovation, will continue to maximize our competitiveness in the increasingly complex retail environment. During 2021, 2020, and 2019, Walmart accounted for approximately 21.6%, 23.1%, and 23.7%, respectively, of our gross revenues. We expect that for future periods, our top ten customers, including Walmart, will in the aggregate continue to account for a large portion of our sales. Outsourcing and Manufacturing In order to maximize our competitiveness and efficiently allocate our resources, third-party manufacturers fulfill most of our manufacturing needs. We have found that contract manufacturing often maximizes our flexibility and responsiveness to industry and consumer trends while minimizing the need for capital expenditures. We select contract manufacturers based on their core competencies and our perception of the best overall value, including factors such as (i) depth of services, (ii) professionalism and integrity of the management team, (iii) manufacturing agility and capacity, (iv) regulatory compliance, and (v) competitive pricing. We require each of our suppliers, most of whom are based in the United States and Canada, to comply with our Supplier Code of Conduct, which sets forth the basic and minimal expectations that all suppliers must meet in order to do business with us. We also conduct thorough reviews of each potential manufacturer&#8217;s facilities, quality standards, capacity and financial stability. We generally purchase only finished products from our manufacturers. Our primary contract manufacturers provide comprehensive services from product development through the manufacturing of finished goods. This management approach results in minimal capital expenditures and maximizes our cash flow, which allows us to reinvest to support our marketing initiatives, fund brand acquisitions or repay outstanding indebtedness. At March 31, 2021, we had relationships with 118 third-party manufacturers. Of those, we had long-term contracts with 19 manufacturers that produced items that accounted for approximately 70.5% of our gross sales for 2021, compared to 14 manufacturers with long-term contracts that accounted for approximately 62.3% of our gross sales in 2020. The fact that we do not have long-term contracts with certain manufacturers means that they could cease manufacturing our products at any time and for any reason or initiate arbitrary and costly price increases, which could have a material adverse effect on our business and results of operations. Although we are in the process of negotiating long-term contracts with certain key manufacturers, we may not be able to reach a timely agreement, which could have a material adverse effect on our business and results of operations. Our long-term supply and manufacturing agreements explicitly outline the manufacturers&#8217; obligations and product specifications with respect to the brand or brands being produced, including allocation of product liability risk. However, the purchase price of products is subject to change pursuant to the terms of these agreements due to fluctuations in input costs such as raw material, packaging components and labor costs. Some of our other products are manufactured on a purchase order basis, which is generally based on batch sizes and results in no long-term obligations or commitments. To the extent we rely on purchase orders, rather than supply and manufacturing agreements, to govern our commercial relationships with suppliers, we typically rely on implied warranties with respect to the products manufactured, and we do not have specifically negotiated allocation of risk with these third-party manufacturers. In addition to relying on contract manufacturers, we operate a manufacturing facility in Lynchburg, Virginia, which manufactures products accounting for approximately 16% of our gross sales. We believe that most of the raw materials and packaging components used to produce our products at our manufacturing facility in Virginia and at our third-party manufacturing facilities are readily available through multiple sources. Warehousing and Distribution We manage product distribution in the continental United States through one facility, which is owned and operated by GEODIS Logistics LLC (\"GEODIS\"), a third-party provider. We entered into an agreement with GEODIS in May 2019 and transitioned to this facility from our previous provider during fiscal 2020. GEODIS provides warehouse services including storage, handling and shipping, as well as transportation services, with respect to our full line of products, including (i) complete management services, (ii) carrier claims administration, (iii) proof of delivery, (iv) procurement, (v) report generation, and (vi) freight payment services. Competition The business of selling brand name consumer products in the OTC Healthcare market is highly competitive. This market includes numerous national and global manufacturers, distributors, marketers and retailers that actively compete for consumers&#8217; business both in the United States and abroad. In addition, like most companies that market products in this category, we are experiencing continued competition from &#8220;private label&#8221; products introduced by major retail chains. While we believe that our branded products provide superior quality and benefits, we are unable to predict the extent to which consumers will purchase &#8220;private label&#8221; products as an alternative to branded products, although we expect that this may increase during an economic downturn. Our principal competitors include Johnson &#38; Johnson, The Procter &#38; Gamble Company, Reckitt Benckiser, Mondelez International, GlaxoSmithKline, Sunstar America, Inc., Combe, Bayer, Bausch Health Companies Inc., and Sanofi. We compete on the basis of numerous factors, including brand recognition, product quality, performance, value to customers, price, and product availability at the retail and e-commerce level. Advertising, marketing, merchandising and packaging, the timing of new product introductions, and line extensions also have a significant impact on customers&#8217; buying decisions and, as a result, on our sales. The structure and quality of our sales force, as well as sell-through of our products, affect in-store and online positioning, wall display space and inventory levels for retail sale. Our markets are also highly sensitive to the introduction of new products, which may rapidly capture a significant share of the market. Many of the competitors noted above are larger and have substantially greater research and development and financial resources than we do, and may therefore have the ability to spend more aggressively and consistently on research and development, advertising and marketing, and to respond more effectively to changing business and economic conditions. See &#8220;Competitive Strengths&#8221; above for additional information regarding our competitive strengths and Part I, Item 1A &#8220;Risk Factors&#8221; below for additional information regarding competition in our industry. &#160; Regulation Product Regulation The formulation, manufacturing, packaging, labeling, distribution, importation, sale and storage of our products are subject to extensive regulation by various U.S. federal agencies, including the U.S. Food and Drug Administration (\"FDA\"), the Federal Trade Commission (\"FTC\"), the Consumer Product Safety Commission (&#8220;CPSC&#8221;), and the Environmental Protection Agency (&#8220;EPA&#8221;), and various agencies of the states, localities and foreign countries in which our products are manufactured, marketed, distributed and sold. Our Regulatory team is guided by a senior member of management and staffed by individuals with appropriate quality, legal and regulatory experience. Our Regulatory, Quality and Operations teams work closely with our third-party manufacturers and our own manufacturing operation on quality-related matters, while we monitor our third-party manufacturers\\' compliance with FDA and foreign regulations and perform periodic audits to ensure compliance. This continual evaluation process is designed to ensure that our manufacturing processes and products are of high quality and in compliance with known regulatory and quality requirements. If the FDA or a foreign governmental authority chooses to audit a particular third-party manufacturing facility, we require the third-party manufacturer to notify us immediately and update us on the progress of the audit as it proceeds. If we or our manufacturers fail to comply with applicable regulations, we could become subject to significant claims or penalties or be required to discontinue the sale of the non-compliant products. In addition, the adoption of new regulations or changes in the interpretations of existing regulations may result in significant additional compliance costs or discontinuation of product sales. Most of our U.S. OTC drug products are regulated pursuant to the FDA&#8217;s monograph system. The monographs set out the active ingredients and labeling indications that are permitted for certain broad categories of U.S. OTC drug products. When the FDA has finalized a particular monograph, it has concluded that a properly labeled product formulation is generally recognized as safe and effective and not misbranded. A tentative final monograph indicates that the FDA has not made a final determination about products in a category to establish safety and efficacy for a product and its uses. However, unless there is a serious safety or efficacy issue, the FDA typically will exercise enforcement discretion and permit companies to sell products conforming to a tentative final monograph until the final monograph is published. Products that comply with either final or tentative final monograph standards do not require pre-market approval from the FDA. Certain of our U.S. OTC drug products are New Drug Application (&#8220;NDA&#8221;) or Abbreviated New Drug Application (&#8220;ANDA&#8221;) products and are manufactured and labeled in accordance with an FDA-approved submission. These products are subject to reporting requirements as set forth in FDA regulations. Moving forward, OTC drug products will fall under the requirements of The Coronavirus Aid, Relief, and Economic Security Act (\"CARES Act\") signed into law on March 27, 2020, which includes the Over-the-Counter Monograph Safety, Innovation, and Reform Act. These new requirements are expected to be delineated by the FDA in 2023/2024. Certain of our U.S. OTC Healthcare products are medical devices regulated by the FDA through a system that may involve pre-market clearance. During the review process, the FDA makes an affirmative determination as to the sufficiency of the label directions, cautions and warnings for the medical devices in question. Certain of our products are considered cosmetics regulated by the FDA through the Federal Food, Drug, and Cosmetic Act (\"FDC Act\") and the Fair Packaging and Labeling Act. The FDA does not require pre-market clearance for cosmetics but seeks to insure the products are not adulterated or misbranded. In accordance with the FDC Act and FDA regulations, we and our third-party manufacturers of U.S. products must also comply with the FDA&#8217;s current Good Manufacturing Practices (&#8220;GMPs&#8221;). The FDA inspects our facilities and those of our third-party manufacturers periodically to determine that both we and our third-party manufacturers are complying with GMPs. Our dietary supplement products are governed by the Dietary Supplement Health and Education Act of 1994 (\"DSHEA\"), which defines and regulates dietary supplements. Under DSHEA, supplements are also effectively regulated by the FDA for GMPs. A number of our products are regulated by the CPSC under the Federal Hazardous Substances Act (&#8220;FHSA&#8221;), the Poison Prevention Packaging Act of 1970 (the &#8220;PPPA&#8221;) and the Consumer Products Safety Improvement Act of 2008 (&#8220;CPSIA&#8221;). In addition, a small number of our products are subject to regulation under the PPPA and can only be legally marketed if they are dispensed in child-resistant packaging or labeled for use in households where there are no children. The CPSIA requires us to make available to our customers certificates stating that we are in compliance with any applicable regulation administered by the CPSC. Nix Lice Control Spray is considered a pesticide under the Federal Insecticide, Fungicide, and Rodenticide Act (&#8220;FIFRA&#8221;). Generally speaking, any substance intended for preventing, destroying, repelling, or mitigating any pest is considered to be a pesticide under FIFRA. Pesticides under FIFRA are required to be registered with the EPA and contain certain disclosures on the product labels. In addition, the contract manufacturers from which we source these products must be registered with the EPA. Our EPA registered products are also subject to state regulations and the rules and regulations of the various jurisdictions where these products are sold. Our international business is also subject to product regulations by local regulatory authorities in the various regions where these businesses operate, including regulations regarding manufacturing, labeling, marketing, distribution, sale and storage. Sustainability and Environmental, Social and Governance (&#8220;ESG&#8221;) Regulations We believe that sustainable operations are both financially and operationally beneficial to our business, and critical to the health of the communities in which we operate. Our operations are subject to federal, state, local and foreign laws, rules and regulations relating to environmental concerns, including air emissions, wastewater discharges, solid and hazardous waste management activities, and the safety of our employees. We endeavor to take actions necessary to comply with such regulations including periodic environmental and health and safety audits of our facilities. The audits, conducted by independent firms with expertise in environmental, health and safety compliance, include site visits as well as a review of documentary information, to determine compliance with such federal, state, local and foreign laws, rules and regulations. We seek to ensure responsible sourcing of our products and to improve our suppliers&#8217; environmental, labor, health and safety and ethical practices through our Supplier Code of Conduct. We seek to minimize our resource footprint at our locations with a focus on managing waste, water and energy consumption. Other Regulations We are also subject to a variety of other regulations in various foreign markets, including regulations pertaining to import/export, antitrust and pharmacovigilance issues. To the extent we decide to commence or expand operations in additional countries, we may be required to obtain an approval, license or certification from the country&#8217;s ministry of health or comparable agency. We must also comply with product labeling and packaging regulations that may vary from country to country. Government regulations in both our domestic and international markets can delay or prevent the introduction, or require the reformulation or withdrawal, of some of our products. Our failure to comply with these regulations can also result in a product being removed from sale in a particular market, either temporarily or permanently. In addition, we are subject to FTC and state regulations, as well as foreign regulations, relating to our product claims and advertising. If we fail to comply with these regulations, we could be subject to enforcement actions and the imposition of penalties. Impact of Regulations Compliance with these various regulations has an impact on capital expenditures, earnings and our competitive position. Additional or shifting governmental regulation has and in the future could require reformulation of certain products to meet new standards, recalls or discontinuance of certain products not able to be reformulated, additional record-keeping requirements, increased documentation of the properties of certain products, additional or different labeling, additional scientific substantiation, expanded adverse event reporting or other new requirements. Those changes have and will continue to require capital investments in facilities and equipment to meet the requirements, as well as additional product development, material and production costs which may impact our earnings and ability to compete. Intellectual Property We own a number of trademark registrations and applications in the United States, Canada and other foreign countries. The following are some of the most significant registered trademarks we own in the United States and/or Canada: BC , Beano , Boudreaux\\'s Butt Paste, Chloraseptic, Clear Eyes, Compound W, Debrox, DenTek, Dramamine, Fleet, Gaviscon , Goody\\'s, Little Remedies, Luden\\'s, Monistat, Nix, and Summer\\'s Eve. Our trademarks and tradenames are how we convey that the products we sell are &#8220;brand name&#8221; products. Our ownership of these trademarks and tradenames is very important to our business, as it allows us to compete based on the value and goodwill associated with these marks. Additionally, we own or license patents on innovative and proprietary technology. The patents evidence the unique nature of our products, provide us with exclusivity, and afford us protection from the encroachment of others. None of the patents that we own or license, however, is material to us on a consolidated basis. Enforcing our rights, or the rights of any of our licensors, represented by these trademarks, tradenames and patents is critical to our business and may require significant expense. If we are not able to effectively enforce our rights, others may be able to dilute our trademarks, tradenames and patents and diminish the value associated with our brands and technologies. We do not own all of the intellectual property rights applicable to our products. In those cases where our third-party manufacturers own patents that protect our products, we are dependent on them as a source of supply for our products. In addition, we rely on our suppliers for their enforcement of their intellectual property rights against infringing products. Seasonality The first quarter of our fiscal year generally is the least profitable quarter due to the increased advertising and marketing spending to support those brands with a summer selling season, such as Clear Eyes products and Compound W, and generally the lowest level of sales attributable to multiple factors. The effectiveness of advertising and marketing campaigns in the third quarter influences sales of products such as Chloraseptic, Little Remedies, and Luden\\'s, during the fourth quarter cough and cold winter months. Additionally, the fourth quarter typically has the lowest level of advertising and marketing spending as a percent of revenue. Human Capital Management Our Culture &#38; Diversity Our mission is to deliver high-quality consumer healthcare products that improve and enrich the lives of our consumers. Our Company culture is founded on the principles of Leadership, Trust, Change and Execution. Of those principles, Trust is among the most important. Trust in the safety and performance of our products, the integrity of our manufacturing and marketing processes, the character of our people, and the benefit to our consumers and society. We take pride in the wide range of backgrounds, races, nationalities, personalities, ideas, and talents that make up our organization. We continually review our Company employee demographics to help us adhere to our principles of diversity, equity and inclusion. We also reward employees who take ownership and embody our principle of Leadership with projects that positively impact our business, community and stakeholders. We strive to create and sustain a diverse and inclusive environment where all employees are inspired to achieve their full potential. We also believe in working productively with one another and with our stakeholders to ensure long-term success. Some of the ways we encourage this is by: &#8226; Recruiting : With employees across the U.S. and the world, we understand the importance of hiring and advancement practices that ensure diversity and equality at all levels of the organization as well as talent development. &#8226; Monitoring : We have a strict Code of Conduct and Ethics that fosters a work environment that is free from intimidation, harassment and violence. Our team employs a process to investigate and resolve any potential conduct or ethics concern that may violate our mission of diversity and inclusion. We use a third-party reporting avenue for employees to exercise any such concern safely and without threat of retaliation. Our Employees As of March 31, 2021, we had approximately 505 global employees. Approximately 88% of our workforce operates in the United States, 10% in Australia and Asia and 2% in Europe. 60% of our employees are salaried and 40% are paid hourly wages, mostly in production. We employ only a few part time employees. Our workforce of 505 employees is 53% female and 47% male. None of our employees are a party to a collective bargaining agreement. Management believes that our relations with employees are good. Strategic Development and Empowerment We encourage all employees to achieve their full potential by participating in our mentorship opportunities, career development programs and Company-provided learning tools. We provide meaningful responsibility and development opportunities to our employees worldwide. We employ a performance management process under which all employees receive reviews that not only assess performance, but identify specific developmental opportunities and learning goals for the individual. By empowering our employees to develop and enhance their skills through enterprise-wide tools, videos and coursework that focus on continuous learning and professional and personal development designed to strengthen and broaden skill sets, we help all of our employees reach their full potential, which in turn helps our organization succeed. Health and Safety We are committed to providing a safe work environment for our employees and require employees to share this concern by abiding to rigorous safety measures. To enable this and assure that the message of health, safety and well-being are part of our work culture, we conduct regular training programs at our production facility. We seek to comply with all federal, state and/or local occupational safety and health standards and report our safety records in accordance with the Occupational Safety and Health Administration (\"OSHA\"). In 2020, we implemented protocols in response to the COVID-19 pandemic across all locations, in an effort to ensure both the safety of our employees and compliance with federal and local requirements and guidelines. Early in the pandemic, our office-based employees successfully transitioned to a remote workforce that we expect will continue until we have determined that it is in our employees&#8217; and the Company&#8217;s best interests to return to the office. During the pandemic, our dedicated production employees at our manufacturing facility in Lynchburg, VA have continued to operate three shifts a day with enhanced safety and health measures in place to protect their well-being. These measures have allowed employees the flexibility to attend to other unique personal and family needs brought on by the pandemic. Our Community We are a responsible corporate citizen and we resolve to live by our principles as we continue to grow our global business. We seek out opportunities to be active members of our communities to enhance the lives of our neighbors and consumers. We encourage employees to become actively involved in their respective communities, and we enable office locations the freedom to develop programs that are appropriate to their community needs. For example, our corporate headquarters office location has an annual &#8220;Day of Giving&#8221; where employees spend a day every December giving back to the nearby communities, while other office locations support their communities through various volunteerism events. Further information surrounding our Company&#8217;s human capital development and sustainability efforts are available on our Company&#8217;s website at https://www.prestigebrands.com/about-us/corporate-responsibility. Coronavirus Outbreak The COVID-19 pandemic is affecting the United States and global economies, including causing significant volatility in the global economy and resulting in materially reduced economic activity since early 2020. The COVID-19 pandemic and the corresponding government responses have also led to increased unemployment, which led to a reduction in consumer spending. Economic conditions are, and we expect that they will continue to be, highly volatile and uncertain and could continue to reduce demand for our products and put downward pressure on prices. We did see an increase in sales at the end of March 2020 related to shelter-at-home restrictions as we believe consumers stocked up as a result of COVID-19, followed by a temporary but significant decline in consumption in the first quarter of fiscal 2021. Since then, we have seen more stable consumer consumption and customer orders. Sales have varied throughout the year with some categories positively impacted (for instance, Women&#8217;s Health, Oral Care and Dermatological) and some categories negatively impacted (for instance, Cough &#38; Cold and Gastrointestinal). The positively impacted categories benefited from the consumer shift to over-the-counter healthcare products as consumers increased their focus on hygiene and self-care at home related to COVID-19. The declining categories were impacted by reduced incidence levels and usage rates due to shelter-at-home restrictions and limited travel related to COVID-19. Early in our first quarter of fiscal 2021, we received reports of an increase in absenteeism at our distribution center and with some of our suppliers; however, we have not experienced a material disruption to our overall supply chain to date. We have continued to see changes in the purchasing patterns of our consumers, including the frequency of visits by consumers to retailers and a shift in many markets to purchasing our products online. To date, the COVID-19 pandemic has not had a material negative impact on our operations, overall demand for most of our products or resulting aggregate sales and earnings, and, as such, it has also not negatively impacted our liquidity position. We continue to generate operating cash flows to meet our short-term liquidity needs. These circumstances could change in this dynamic, unprecedented environment. If the outbreak continues to spread, it may materially affect our operations and those of third parties on which we rely, including causing disruptions in the supply and distribution of our products. We may need to limit operations and may experience material limitations in employee resources. The extent to which COVID-19 impacts our results and liquidity will depend on future developments, which are highly uncertain and cannot be predicted, including the effectiveness and availability of vaccines, the severity and impact of new COVID-19 strains, and the government and public health actions to contain COVID-19 or treat its impact, among others. We do not yet know the full extent of the impacts of COVID-19 on our business or the global economy. However, these effects could have a material, adverse impact on our liquidity, capital resources, and results of operations and those of the third parties on which we rely. Available Information Our Internet address is www.prestigeconsumerhealthcare.com. We make available free of charge on or through our Internet website our Annual Reports on Form 10-K, Quarterly Reports on Form 10-Q, Current Reports on Form 8-K, and amendments to those reports, as well as the Proxy Statement for our annual stockholders&#8217; meetings, as soon as reasonably practicable after we electronically file such material with, or furnish it to, the Securities and Exchange Commission (the &#8220;SEC&#8221;). Information on our Internet website does not constitute a part of this Annual Report on Form 10-K and is not incorporated herein by reference, including any general statement incorporating by reference this Annual Report on Form 10-K into any filing under the Securities Act of 1933, as amended (the &#8220;Securities Act&#8221;), or under the Securities Exchange Act of 1934, as amended (the &#8220;Exchange Act&#8221;). You may read and copy any materials that we file with the SEC at the SEC&#8217;s Public Reference Room at 100 F Street, NE, Washington, DC 20549. You may obtain information on the operation of the Public Reference Room by calling the SEC at 1-800-SEC-0330. We have adopted a Code of Conduct Policy, Code of Ethics for Senior Financial Employees, Policy and Procedures for Complaints Regarding Accounting, Internal Controls and Auditing Matters, Corporate Governance Guidelines, Audit Committee Pre-Approval Policy, and Charters for our Audit, Compensation and Nominating and Corporate Governance Committees, as well as a Related Persons Transaction Policy and Stock Ownership Guidelines. We will provide to any person without charge, upon request, a copy of the foregoing materials. Any requests for these documents from us should be made in writing to: Prestige Consumer Healthcare Inc. 660 White Plains Road Tarrytown, New York 10591 Attention: Secretary We intend to disclose future amendments to these documents, policies and guidelines and any waivers of these documents, policies and guidelines, on our Internet website and/or through the filing of a Current Report on Form 8-K with the SEC, to the extent required under the Exchange Act. '"
      ]
     },
     "execution_count": 6,
     "metadata": {},
     "output_type": "execute_result"
    }
   ],
   "source": [
    "data"
   ]
  },
  {
   "cell_type": "code",
   "execution_count": 7,
   "metadata": {},
   "outputs": [],
   "source": [
    "\n",
    "data_clean = re.sub('&#[0-9]*;*',' ', data)"
   ]
  },
  {
   "cell_type": "code",
   "execution_count": 8,
   "metadata": {},
   "outputs": [
    {
     "data": {
      "text/plain": [
       "' ITEM 1. BUSINESS   Overview Unless otherwise indicated by the context, all references in this Annual Report on Form 10-K to  we,   us,   our,  the  Company  or  Prestige  refer to Prestige Consumer Healthcare Inc. and our subsidiaries. Prior to August 17, 2018, the Company\\'s name was Prestige Brands Holdings, Inc. Reference to a year (e.g.,  2021 ) refers to our fiscal year ended March 31 of that year. We formed as a Delaware corporation in 1996 and are engaged in the development, manufacturing, marketing, sales and distribution of well-recognized, brand name, over-the-counter ( OTC ) healthcare products to mass merchandisers, drug, food, dollar, convenience, club and e-commerce stores in North America (the United States and Canada) and in Australia and certain other international markets. We use the strength of our brands, our established retail distribution network, a low-cost operating model and our experienced management team to our competitive advantage. Our ultimate success is dependent on several factors, including our ability to:   Develop and execute effective sales, advertising and marketing programs to maintain or grow our share versus competitors over time;   Establish and maintain our manufacturing, third-party manufacturing and distribution relationships to fulfill customer demands;   Develop innovative new products;   Continue to grow our presence in the United States and international markets through acquisitions and organic growth, and;   Allocate capital effectively. We have grown our product portfolio both organically and through acquisitions. We develop our existing brands by investing in new product lines, brand extensions and strong advertising support. Acquisitions of consumer healthcare brands have also been an important part of our growth strategy. We pursue this growth following an acquisition through spending on advertising and marketing support, new sales and marketing strategies, improved packaging and formulations and innovative development of brand extensions. We conduct our operations in two reportable segments: North American OTC Healthcare and International OTC Healthcare. On July 2, 2018, we sold the Comet , Spic and Span , Chore Boy , Chlorinol  and Cinch  brands, as well as associated inventory, for approximately $65.9 million. These brands represented our Household Cleaning segment. Our business, business model, competitive strengths and growth strategy face various risks that are described in \"Risk Factors\" in Part I, Item 1A of this Annual Report on Form 10-K. The following summarizes the percent of our net revenues by segment: March 31, (In thousands) 2021 2020 2019 Segment: North American OTC Healthcare 90.0 % 89.2 % 88.4 % International OTC Healthcare 10.0 10.8 9.6 Household Cleaning     2.0 Total 100.0 % 100.0 % 100.0 % For additional information concerning our business segments, please refer to Part II, Item 7,  Management s Discussion and Analysis of Financial Condition and Results of Operations  and Note 20 to the Consolidated Financial Statements included elsewhere in this Annual Report on Form 10-K. Major Brands and Market Position Our major brands, set forth in the table below, have strong levels of consumer awareness and retail distribution across all major channels. These brands accounted for approximately 80.3%, 80.5%, and 78.6% of our total revenues for 2021, 2020, and 2019, respectively. Major Brands Product Group Market Position (1) Market Segment (2) Brand Information North American OTC Healthcare: (3)     BC /Goody\\'s Analgesics #1 Analgesic Powders Developed over 80 years ago, BC and Goody s provide fast pain relief at the speed of powder Boudreaux\\'s Butt Paste Dermatologicals #4 Baby Ointments Products include various diaper rash ointments produced with high-quality ingredients Chloraseptic Cough   Cold #1 Sore Throat Liquids and Lozenges Products include sprays and lozenges to relieve sore throats and mouth pain Clear Eyes Eye   Ear Care #1 Redness Relief Effective eye care that helps relieve redness and provides soothing comfort Compound W Dermatologicals #1 Wart Removal Provides safe and effective at-home removal of common and plantar warts Debrox Eye   Ear Care #1 Ear Wax Removal Provides a safe and gentle way to remove excess ear wax or water from ear canal DenTek Oral Care #3 PEG Oral Care Products include floss picks, interdental brushes, dental guards, dental repair and wax, floss threaders, dental picks and tongue cleaners Dramamine Gastrointestinal #1 Motion Sickness Relief Includes non-drowsy, kids\\', original and nausea-free formulas Fleet Gastrointestinal #1 Adult Enemas and Suppositories First sold in 1869, products include enemas and suppositories Gaviscon Gastrointestinal #1 Upset Stomach Remedies Creates a foam barrier to keep stomach acid from backing up into the esophagus Luden\\'s Cough   Cold #3 Cough Drops Cough drop brand that is over 130 years old and includes a variety of flavors Monistat Women\\'s Health #1 Vaginal Anti-Fungal Provides fast relief for yeast infections and is available in several different doses Nix Dermatologicals #1 Lice and Parasite Treatments Effective and safe lice and super lice treatments Summer\\'s Eve Women\\'s Health #1 Feminine Hygiene Offers a variety of feminine hygiene products including washes, cloths, sprays and powders International OTC Healthcare: Fess Cough   Cold #1 Nasal Saline Sprays and Washes Helps relieve nasal and sinus congestion due to allergy, hay fever, colds and flu Hydralyte Gastrointestinal #1 Oral Rehydration Relieves symptoms of dehydration and helps replace water and electrolytes lost due to vomiting, diarrhea, heavy sweating, vigorous exercise and occasional hangovers (1) We have prepared the information included in this Annual Report on Form 10-K with regard to the market position for our brands based in part on data generated by Information Resources, Inc. ( IRI ), for the 52-week period ended March 21, 2021. International information was derived from several sources. Fess and Hydralyte data is for the Australian market. (2)  Market segment  is defined by us and is either a standard IRI category or a segment within a standard IRI category and is based on our product offerings and the categories in which we compete. (3) Some brands in the North American OTC Healthcare segment are also sold in the International OTC Healthcare segment. Our products are sold through multiple channels, including mass merchandisers, drug, food, dollar, convenience, club and e-commerce stores, which reduces our exposure to any single distribution channel. Market Position During 2021, approximately 69.2% of our total revenues were from major brands with a number one market position, compared with approximately 69.4% and 65.8% of total revenues during 2020 and 2019, respectively. In 2021, these brands included BC/Goody\\'s, Chloraseptic , Clear Eyes , Compound W , Debrox, Dramamine, Fess, Fleet, Gaviscon, Hydralyte, Monistat, Nix, and Summer\\'s Eve . Competitive Strengths and Growth Strategy We believe that our product portfolio is positioned for long-term growth based on the following factors: Diversified Portfolio of Well-Recognized and Established Consumer Brands We own and market a diverse portfolio of well-recognized consumer brands, some of which were established over 100 years ago. Our diverse portfolio of products provides us with multiple sources of growth and minimizes our reliance on any one product or category. We provide significant marketing support to our portfolio, which is designed to enhance our sales growth and our long-term profitability across our major brands and other significant brands, sometimes referred to as core brands. Strong Competitor in Attractive Categories We compete in product categories that address recurring consumer needs. We believe we are well positioned in these categories due to the long history and consumer awareness of our brands, our strong market positions, and our low-cost operating model. The markets in which we sell our products, however, are highly competitive and include numerous national and global manufacturers, distributors, marketers and retailers. As a result, any one or more of our brands could suffer a decline in market position or sales. Proven Ability to Develop and Introduce New Products We focus our marketing and product development efforts on the identification of under-served consumer needs, the design of products that directly address those needs, and the ability to extend our highly recognizable brand names to other products. One of our strategies is to broaden the categories in which we participate and increase our share within those categories through ongoing product innovation. As an example of this philosophy, in 2021 we launched a number of new products, including Summer\\'s Eve Active Chafe Gel and Sprays, Monistat Feminine Cleanser, and Compound W Gel Plus ConSeal Patches . In 2020, we launched Summer\\'s Eve Active , Summer\\'s Eve Blissful Escape Spray , Goody\\'s Hangover, DenTek Cross Flosser, and BC Max. While there is always a risk that sales of existing products may be reduced by new product introductions, our goal is to grow the overall sales of our brands. Investments in Advertising and Marketing We invest in advertising and marketing to drive the growth of our core brands. Our marketing strategy is focused primarily on consumer oriented initiatives that target consumers via mass media, digital marketing, in-store programming and coupons. While the absolute level of marketing expenditures differs by brand and category, we have often increased the amount of investment in our brands after acquiring them. Increasing Distribution Across Multiple Channels Our broad distribution base attempts to ensure that our products are well positioned across all available channels and that we are able to participate in changing consumer retail trends. In an effort to ensure continued sales growth, we continue to focus on expanding our reliance on direct sales while reducing our reliance on brokers for our non-top 25 customers. Growing Our International Business International sales beyond the borders of North America represented 10.0%, 10.8% and 9.6% of total revenues in 2021, 2020, and 2019, respectively. We have designed and developed both products and packaging for specific international markets and expect that our international revenues as a proportion of our total revenues will continue to grow over the long-term. Although our 2021 international sales as a proportion of our total revenues decreased, it was primarily attributable to decreased sales in Australia, largely related to both fewer general consumer illnesses and activities such as athletics resulting from the various social distancing measures brought on by the coronavirus (\"COVID-19\"). A number of our brands have previously been sold internationally, and we seek to expand the number of brands sold through our existing international distribution network and continue to identify additional distribution partners for further expansion of our brands into other international markets. Efficient Operating Model To gain operating efficiencies, we oversee the production planning and quality control aspects of the manufacturing, warehousing and distribution of our products, while we primarily outsource the operating elements of these functions to well-established third-party providers. This approach allows us to benefit from their core competencies and maintain a highly variable cost structure with low overhead, limited working capital requirements, and minimal investment in capital expenditures. Management Team with Proven Ability to Acquire, Integrate and Grow Brands Our business has grown through acquisition and expansion of the many brands we have purchased as a result of the efforts of our experienced management team. Our management team has significant experience in consumer product marketing, sales, legal and regulatory compliance, product development and customer service. We rely on experienced personnel to bear the substantial responsibility of brand management and to effectuate our growth strategy. Marketing and Sales Our marketing strategy is based on the acquisition and the rejuvenation of established consumer brands that possess what we believe to be significant brand value and unrealized potential and to grow categories with existing brands where we have leading market positions. Our marketing objective is to increase sales and market share by developing innovative new products and line extensions and executing creative and cost-effective advertising and marketing programs. After we acquire a brand, we implement a brand-building strategy that uses the brand s existing consumer awareness to maximize sales of current products and provides a vehicle to drive growth through product innovation. Brand priorities will vary from year-to-year. This brand-building process involves the evaluation of the existing brand name, the development and introduction of innovative new products, and the execution of marketing support programs. Recognizing that financial resources are limited, we allocate our resources to focus on our core brands with the most impactful, consumer-relevant initiatives that we believe have the greatest opportunities for growth and financial success. Customers Our senior management team and dedicated sales force strive to maintain long-standing relationships with our top 25 domestic customers. We also contract with third-party sales management enterprises that interface directly with many of our remaining customers and report directly to members of our sales management team. In an effort to ensure continued sales growth, we continue to focus on expanding our reliance on direct sales while reducing our reliance on brokers for our non-top 25 customers. We enjoy broad distribution across each of the major retail channels, including mass merchandisers, drug, food, dollar, convenience, club and e-commerce stores. The following table sets forth the percentage of gross sales for our domestic customers across our six major distribution channels during each of the past three years ended March 31:   Percentage of Gross Sales (1) Channel of Distribution 2021 2020 2019 Mass 34.5 36.5 37.4 Drug 22.4 25.6 26.4 Food 15.0 15.4 15.5 Dollar 7.7 6.6 6.8 Convenience 3.2 3.9 4.0 Club 1.8 1.4 1.6 Other (2) 15.4 10.6 8.3 (1) Includes estimates for some of our wholesale customers that service more than one distribution channel. (2) Includes e-commerce retailers such as Amazon. Due to the diversity of our product lines, we believe that each of these channels is important to our business, and we continue to seek opportunities for growth in each channel. We believe that our emphasis on strong customer relationships, speed and flexibility and leading sales technology capabilities, combined with consistent marketing support programs and ongoing product innovation, will continue to maximize our competitiveness in the increasingly complex retail environment. During 2021, 2020, and 2019, Walmart accounted for approximately 21.6%, 23.1%, and 23.7%, respectively, of our gross revenues. We expect that for future periods, our top ten customers, including Walmart, will in the aggregate continue to account for a large portion of our sales. Outsourcing and Manufacturing In order to maximize our competitiveness and efficiently allocate our resources, third-party manufacturers fulfill most of our manufacturing needs. We have found that contract manufacturing often maximizes our flexibility and responsiveness to industry and consumer trends while minimizing the need for capital expenditures. We select contract manufacturers based on their core competencies and our perception of the best overall value, including factors such as (i) depth of services, (ii) professionalism and integrity of the management team, (iii) manufacturing agility and capacity, (iv) regulatory compliance, and (v) competitive pricing. We require each of our suppliers, most of whom are based in the United States and Canada, to comply with our Supplier Code of Conduct, which sets forth the basic and minimal expectations that all suppliers must meet in order to do business with us. We also conduct thorough reviews of each potential manufacturer s facilities, quality standards, capacity and financial stability. We generally purchase only finished products from our manufacturers. Our primary contract manufacturers provide comprehensive services from product development through the manufacturing of finished goods. This management approach results in minimal capital expenditures and maximizes our cash flow, which allows us to reinvest to support our marketing initiatives, fund brand acquisitions or repay outstanding indebtedness. At March 31, 2021, we had relationships with 118 third-party manufacturers. Of those, we had long-term contracts with 19 manufacturers that produced items that accounted for approximately 70.5% of our gross sales for 2021, compared to 14 manufacturers with long-term contracts that accounted for approximately 62.3% of our gross sales in 2020. The fact that we do not have long-term contracts with certain manufacturers means that they could cease manufacturing our products at any time and for any reason or initiate arbitrary and costly price increases, which could have a material adverse effect on our business and results of operations. Although we are in the process of negotiating long-term contracts with certain key manufacturers, we may not be able to reach a timely agreement, which could have a material adverse effect on our business and results of operations. Our long-term supply and manufacturing agreements explicitly outline the manufacturers  obligations and product specifications with respect to the brand or brands being produced, including allocation of product liability risk. However, the purchase price of products is subject to change pursuant to the terms of these agreements due to fluctuations in input costs such as raw material, packaging components and labor costs. Some of our other products are manufactured on a purchase order basis, which is generally based on batch sizes and results in no long-term obligations or commitments. To the extent we rely on purchase orders, rather than supply and manufacturing agreements, to govern our commercial relationships with suppliers, we typically rely on implied warranties with respect to the products manufactured, and we do not have specifically negotiated allocation of risk with these third-party manufacturers. In addition to relying on contract manufacturers, we operate a manufacturing facility in Lynchburg, Virginia, which manufactures products accounting for approximately 16% of our gross sales. We believe that most of the raw materials and packaging components used to produce our products at our manufacturing facility in Virginia and at our third-party manufacturing facilities are readily available through multiple sources. Warehousing and Distribution We manage product distribution in the continental United States through one facility, which is owned and operated by GEODIS Logistics LLC (\"GEODIS\"), a third-party provider. We entered into an agreement with GEODIS in May 2019 and transitioned to this facility from our previous provider during fiscal 2020. GEODIS provides warehouse services including storage, handling and shipping, as well as transportation services, with respect to our full line of products, including (i) complete management services, (ii) carrier claims administration, (iii) proof of delivery, (iv) procurement, (v) report generation, and (vi) freight payment services. Competition The business of selling brand name consumer products in the OTC Healthcare market is highly competitive. This market includes numerous national and global manufacturers, distributors, marketers and retailers that actively compete for consumers  business both in the United States and abroad. In addition, like most companies that market products in this category, we are experiencing continued competition from  private label  products introduced by major retail chains. While we believe that our branded products provide superior quality and benefits, we are unable to predict the extent to which consumers will purchase  private label  products as an alternative to branded products, although we expect that this may increase during an economic downturn. Our principal competitors include Johnson   Johnson, The Procter   Gamble Company, Reckitt Benckiser, Mondelez International, GlaxoSmithKline, Sunstar America, Inc., Combe, Bayer, Bausch Health Companies Inc., and Sanofi. We compete on the basis of numerous factors, including brand recognition, product quality, performance, value to customers, price, and product availability at the retail and e-commerce level. Advertising, marketing, merchandising and packaging, the timing of new product introductions, and line extensions also have a significant impact on customers  buying decisions and, as a result, on our sales. The structure and quality of our sales force, as well as sell-through of our products, affect in-store and online positioning, wall display space and inventory levels for retail sale. Our markets are also highly sensitive to the introduction of new products, which may rapidly capture a significant share of the market. Many of the competitors noted above are larger and have substantially greater research and development and financial resources than we do, and may therefore have the ability to spend more aggressively and consistently on research and development, advertising and marketing, and to respond more effectively to changing business and economic conditions. See  Competitive Strengths  above for additional information regarding our competitive strengths and Part I, Item 1A  Risk Factors  below for additional information regarding competition in our industry.   Regulation Product Regulation The formulation, manufacturing, packaging, labeling, distribution, importation, sale and storage of our products are subject to extensive regulation by various U.S. federal agencies, including the U.S. Food and Drug Administration (\"FDA\"), the Federal Trade Commission (\"FTC\"), the Consumer Product Safety Commission ( CPSC ), and the Environmental Protection Agency ( EPA ), and various agencies of the states, localities and foreign countries in which our products are manufactured, marketed, distributed and sold. Our Regulatory team is guided by a senior member of management and staffed by individuals with appropriate quality, legal and regulatory experience. Our Regulatory, Quality and Operations teams work closely with our third-party manufacturers and our own manufacturing operation on quality-related matters, while we monitor our third-party manufacturers\\' compliance with FDA and foreign regulations and perform periodic audits to ensure compliance. This continual evaluation process is designed to ensure that our manufacturing processes and products are of high quality and in compliance with known regulatory and quality requirements. If the FDA or a foreign governmental authority chooses to audit a particular third-party manufacturing facility, we require the third-party manufacturer to notify us immediately and update us on the progress of the audit as it proceeds. If we or our manufacturers fail to comply with applicable regulations, we could become subject to significant claims or penalties or be required to discontinue the sale of the non-compliant products. In addition, the adoption of new regulations or changes in the interpretations of existing regulations may result in significant additional compliance costs or discontinuation of product sales. Most of our U.S. OTC drug products are regulated pursuant to the FDA s monograph system. The monographs set out the active ingredients and labeling indications that are permitted for certain broad categories of U.S. OTC drug products. When the FDA has finalized a particular monograph, it has concluded that a properly labeled product formulation is generally recognized as safe and effective and not misbranded. A tentative final monograph indicates that the FDA has not made a final determination about products in a category to establish safety and efficacy for a product and its uses. However, unless there is a serious safety or efficacy issue, the FDA typically will exercise enforcement discretion and permit companies to sell products conforming to a tentative final monograph until the final monograph is published. Products that comply with either final or tentative final monograph standards do not require pre-market approval from the FDA. Certain of our U.S. OTC drug products are New Drug Application ( NDA ) or Abbreviated New Drug Application ( ANDA ) products and are manufactured and labeled in accordance with an FDA-approved submission. These products are subject to reporting requirements as set forth in FDA regulations. Moving forward, OTC drug products will fall under the requirements of The Coronavirus Aid, Relief, and Economic Security Act (\"CARES Act\") signed into law on March 27, 2020, which includes the Over-the-Counter Monograph Safety, Innovation, and Reform Act. These new requirements are expected to be delineated by the FDA in 2023/2024. Certain of our U.S. OTC Healthcare products are medical devices regulated by the FDA through a system that may involve pre-market clearance. During the review process, the FDA makes an affirmative determination as to the sufficiency of the label directions, cautions and warnings for the medical devices in question. Certain of our products are considered cosmetics regulated by the FDA through the Federal Food, Drug, and Cosmetic Act (\"FDC Act\") and the Fair Packaging and Labeling Act. The FDA does not require pre-market clearance for cosmetics but seeks to insure the products are not adulterated or misbranded. In accordance with the FDC Act and FDA regulations, we and our third-party manufacturers of U.S. products must also comply with the FDA s current Good Manufacturing Practices ( GMPs ). The FDA inspects our facilities and those of our third-party manufacturers periodically to determine that both we and our third-party manufacturers are complying with GMPs. Our dietary supplement products are governed by the Dietary Supplement Health and Education Act of 1994 (\"DSHEA\"), which defines and regulates dietary supplements. Under DSHEA, supplements are also effectively regulated by the FDA for GMPs. A number of our products are regulated by the CPSC under the Federal Hazardous Substances Act ( FHSA ), the Poison Prevention Packaging Act of 1970 (the  PPPA ) and the Consumer Products Safety Improvement Act of 2008 ( CPSIA ). In addition, a small number of our products are subject to regulation under the PPPA and can only be legally marketed if they are dispensed in child-resistant packaging or labeled for use in households where there are no children. The CPSIA requires us to make available to our customers certificates stating that we are in compliance with any applicable regulation administered by the CPSC. Nix Lice Control Spray is considered a pesticide under the Federal Insecticide, Fungicide, and Rodenticide Act ( FIFRA ). Generally speaking, any substance intended for preventing, destroying, repelling, or mitigating any pest is considered to be a pesticide under FIFRA. Pesticides under FIFRA are required to be registered with the EPA and contain certain disclosures on the product labels. In addition, the contract manufacturers from which we source these products must be registered with the EPA. Our EPA registered products are also subject to state regulations and the rules and regulations of the various jurisdictions where these products are sold. Our international business is also subject to product regulations by local regulatory authorities in the various regions where these businesses operate, including regulations regarding manufacturing, labeling, marketing, distribution, sale and storage. Sustainability and Environmental, Social and Governance ( ESG ) Regulations We believe that sustainable operations are both financially and operationally beneficial to our business, and critical to the health of the communities in which we operate. Our operations are subject to federal, state, local and foreign laws, rules and regulations relating to environmental concerns, including air emissions, wastewater discharges, solid and hazardous waste management activities, and the safety of our employees. We endeavor to take actions necessary to comply with such regulations including periodic environmental and health and safety audits of our facilities. The audits, conducted by independent firms with expertise in environmental, health and safety compliance, include site visits as well as a review of documentary information, to determine compliance with such federal, state, local and foreign laws, rules and regulations. We seek to ensure responsible sourcing of our products and to improve our suppliers  environmental, labor, health and safety and ethical practices through our Supplier Code of Conduct. We seek to minimize our resource footprint at our locations with a focus on managing waste, water and energy consumption. Other Regulations We are also subject to a variety of other regulations in various foreign markets, including regulations pertaining to import/export, antitrust and pharmacovigilance issues. To the extent we decide to commence or expand operations in additional countries, we may be required to obtain an approval, license or certification from the country s ministry of health or comparable agency. We must also comply with product labeling and packaging regulations that may vary from country to country. Government regulations in both our domestic and international markets can delay or prevent the introduction, or require the reformulation or withdrawal, of some of our products. Our failure to comply with these regulations can also result in a product being removed from sale in a particular market, either temporarily or permanently. In addition, we are subject to FTC and state regulations, as well as foreign regulations, relating to our product claims and advertising. If we fail to comply with these regulations, we could be subject to enforcement actions and the imposition of penalties. Impact of Regulations Compliance with these various regulations has an impact on capital expenditures, earnings and our competitive position. Additional or shifting governmental regulation has and in the future could require reformulation of certain products to meet new standards, recalls or discontinuance of certain products not able to be reformulated, additional record-keeping requirements, increased documentation of the properties of certain products, additional or different labeling, additional scientific substantiation, expanded adverse event reporting or other new requirements. Those changes have and will continue to require capital investments in facilities and equipment to meet the requirements, as well as additional product development, material and production costs which may impact our earnings and ability to compete. Intellectual Property We own a number of trademark registrations and applications in the United States, Canada and other foreign countries. The following are some of the most significant registered trademarks we own in the United States and/or Canada: BC , Beano , Boudreaux\\'s Butt Paste, Chloraseptic, Clear Eyes, Compound W, Debrox, DenTek, Dramamine, Fleet, Gaviscon , Goody\\'s, Little Remedies, Luden\\'s, Monistat, Nix, and Summer\\'s Eve. Our trademarks and tradenames are how we convey that the products we sell are  brand name  products. Our ownership of these trademarks and tradenames is very important to our business, as it allows us to compete based on the value and goodwill associated with these marks. Additionally, we own or license patents on innovative and proprietary technology. The patents evidence the unique nature of our products, provide us with exclusivity, and afford us protection from the encroachment of others. None of the patents that we own or license, however, is material to us on a consolidated basis. Enforcing our rights, or the rights of any of our licensors, represented by these trademarks, tradenames and patents is critical to our business and may require significant expense. If we are not able to effectively enforce our rights, others may be able to dilute our trademarks, tradenames and patents and diminish the value associated with our brands and technologies. We do not own all of the intellectual property rights applicable to our products. In those cases where our third-party manufacturers own patents that protect our products, we are dependent on them as a source of supply for our products. In addition, we rely on our suppliers for their enforcement of their intellectual property rights against infringing products. Seasonality The first quarter of our fiscal year generally is the least profitable quarter due to the increased advertising and marketing spending to support those brands with a summer selling season, such as Clear Eyes products and Compound W, and generally the lowest level of sales attributable to multiple factors. The effectiveness of advertising and marketing campaigns in the third quarter influences sales of products such as Chloraseptic, Little Remedies, and Luden\\'s, during the fourth quarter cough and cold winter months. Additionally, the fourth quarter typically has the lowest level of advertising and marketing spending as a percent of revenue. Human Capital Management Our Culture   Diversity Our mission is to deliver high-quality consumer healthcare products that improve and enrich the lives of our consumers. Our Company culture is founded on the principles of Leadership, Trust, Change and Execution. Of those principles, Trust is among the most important. Trust in the safety and performance of our products, the integrity of our manufacturing and marketing processes, the character of our people, and the benefit to our consumers and society. We take pride in the wide range of backgrounds, races, nationalities, personalities, ideas, and talents that make up our organization. We continually review our Company employee demographics to help us adhere to our principles of diversity, equity and inclusion. We also reward employees who take ownership and embody our principle of Leadership with projects that positively impact our business, community and stakeholders. We strive to create and sustain a diverse and inclusive environment where all employees are inspired to achieve their full potential. We also believe in working productively with one another and with our stakeholders to ensure long-term success. Some of the ways we encourage this is by:   Recruiting : With employees across the U.S. and the world, we understand the importance of hiring and advancement practices that ensure diversity and equality at all levels of the organization as well as talent development.   Monitoring : We have a strict Code of Conduct and Ethics that fosters a work environment that is free from intimidation, harassment and violence. Our team employs a process to investigate and resolve any potential conduct or ethics concern that may violate our mission of diversity and inclusion. We use a third-party reporting avenue for employees to exercise any such concern safely and without threat of retaliation. Our Employees As of March 31, 2021, we had approximately 505 global employees. Approximately 88% of our workforce operates in the United States, 10% in Australia and Asia and 2% in Europe. 60% of our employees are salaried and 40% are paid hourly wages, mostly in production. We employ only a few part time employees. Our workforce of 505 employees is 53% female and 47% male. None of our employees are a party to a collective bargaining agreement. Management believes that our relations with employees are good. Strategic Development and Empowerment We encourage all employees to achieve their full potential by participating in our mentorship opportunities, career development programs and Company-provided learning tools. We provide meaningful responsibility and development opportunities to our employees worldwide. We employ a performance management process under which all employees receive reviews that not only assess performance, but identify specific developmental opportunities and learning goals for the individual. By empowering our employees to develop and enhance their skills through enterprise-wide tools, videos and coursework that focus on continuous learning and professional and personal development designed to strengthen and broaden skill sets, we help all of our employees reach their full potential, which in turn helps our organization succeed. Health and Safety We are committed to providing a safe work environment for our employees and require employees to share this concern by abiding to rigorous safety measures. To enable this and assure that the message of health, safety and well-being are part of our work culture, we conduct regular training programs at our production facility. We seek to comply with all federal, state and/or local occupational safety and health standards and report our safety records in accordance with the Occupational Safety and Health Administration (\"OSHA\"). In 2020, we implemented protocols in response to the COVID-19 pandemic across all locations, in an effort to ensure both the safety of our employees and compliance with federal and local requirements and guidelines. Early in the pandemic, our office-based employees successfully transitioned to a remote workforce that we expect will continue until we have determined that it is in our employees  and the Company s best interests to return to the office. During the pandemic, our dedicated production employees at our manufacturing facility in Lynchburg, VA have continued to operate three shifts a day with enhanced safety and health measures in place to protect their well-being. These measures have allowed employees the flexibility to attend to other unique personal and family needs brought on by the pandemic. Our Community We are a responsible corporate citizen and we resolve to live by our principles as we continue to grow our global business. We seek out opportunities to be active members of our communities to enhance the lives of our neighbors and consumers. We encourage employees to become actively involved in their respective communities, and we enable office locations the freedom to develop programs that are appropriate to their community needs. For example, our corporate headquarters office location has an annual  Day of Giving  where employees spend a day every December giving back to the nearby communities, while other office locations support their communities through various volunteerism events. Further information surrounding our Company s human capital development and sustainability efforts are available on our Company s website at https://www.prestigebrands.com/about-us/corporate-responsibility. Coronavirus Outbreak The COVID-19 pandemic is affecting the United States and global economies, including causing significant volatility in the global economy and resulting in materially reduced economic activity since early 2020. The COVID-19 pandemic and the corresponding government responses have also led to increased unemployment, which led to a reduction in consumer spending. Economic conditions are, and we expect that they will continue to be, highly volatile and uncertain and could continue to reduce demand for our products and put downward pressure on prices. We did see an increase in sales at the end of March 2020 related to shelter-at-home restrictions as we believe consumers stocked up as a result of COVID-19, followed by a temporary but significant decline in consumption in the first quarter of fiscal 2021. Since then, we have seen more stable consumer consumption and customer orders. Sales have varied throughout the year with some categories positively impacted (for instance, Women s Health, Oral Care and Dermatological) and some categories negatively impacted (for instance, Cough   Cold and Gastrointestinal). The positively impacted categories benefited from the consumer shift to over-the-counter healthcare products as consumers increased their focus on hygiene and self-care at home related to COVID-19. The declining categories were impacted by reduced incidence levels and usage rates due to shelter-at-home restrictions and limited travel related to COVID-19. Early in our first quarter of fiscal 2021, we received reports of an increase in absenteeism at our distribution center and with some of our suppliers; however, we have not experienced a material disruption to our overall supply chain to date. We have continued to see changes in the purchasing patterns of our consumers, including the frequency of visits by consumers to retailers and a shift in many markets to purchasing our products online. To date, the COVID-19 pandemic has not had a material negative impact on our operations, overall demand for most of our products or resulting aggregate sales and earnings, and, as such, it has also not negatively impacted our liquidity position. We continue to generate operating cash flows to meet our short-term liquidity needs. These circumstances could change in this dynamic, unprecedented environment. If the outbreak continues to spread, it may materially affect our operations and those of third parties on which we rely, including causing disruptions in the supply and distribution of our products. We may need to limit operations and may experience material limitations in employee resources. The extent to which COVID-19 impacts our results and liquidity will depend on future developments, which are highly uncertain and cannot be predicted, including the effectiveness and availability of vaccines, the severity and impact of new COVID-19 strains, and the government and public health actions to contain COVID-19 or treat its impact, among others. We do not yet know the full extent of the impacts of COVID-19 on our business or the global economy. However, these effects could have a material, adverse impact on our liquidity, capital resources, and results of operations and those of the third parties on which we rely. Available Information Our Internet address is www.prestigeconsumerhealthcare.com. We make available free of charge on or through our Internet website our Annual Reports on Form 10-K, Quarterly Reports on Form 10-Q, Current Reports on Form 8-K, and amendments to those reports, as well as the Proxy Statement for our annual stockholders  meetings, as soon as reasonably practicable after we electronically file such material with, or furnish it to, the Securities and Exchange Commission (the  SEC ). Information on our Internet website does not constitute a part of this Annual Report on Form 10-K and is not incorporated herein by reference, including any general statement incorporating by reference this Annual Report on Form 10-K into any filing under the Securities Act of 1933, as amended (the  Securities Act ), or under the Securities Exchange Act of 1934, as amended (the  Exchange Act ). You may read and copy any materials that we file with the SEC at the SEC s Public Reference Room at 100 F Street, NE, Washington, DC 20549. You may obtain information on the operation of the Public Reference Room by calling the SEC at 1-800-SEC-0330. We have adopted a Code of Conduct Policy, Code of Ethics for Senior Financial Employees, Policy and Procedures for Complaints Regarding Accounting, Internal Controls and Auditing Matters, Corporate Governance Guidelines, Audit Committee Pre-Approval Policy, and Charters for our Audit, Compensation and Nominating and Corporate Governance Committees, as well as a Related Persons Transaction Policy and Stock Ownership Guidelines. We will provide to any person without charge, upon request, a copy of the foregoing materials. Any requests for these documents from us should be made in writing to: Prestige Consumer Healthcare Inc. 660 White Plains Road Tarrytown, New York 10591 Attention: Secretary We intend to disclose future amendments to these documents, policies and guidelines and any waivers of these documents, policies and guidelines, on our Internet website and/or through the filing of a Current Report on Form 8-K with the SEC, to the extent required under the Exchange Act. '"
      ]
     },
     "execution_count": 8,
     "metadata": {},
     "output_type": "execute_result"
    }
   ],
   "source": [
    "data_clean"
   ]
  },
  {
   "cell_type": "code",
   "execution_count": 1,
   "metadata": {},
   "outputs": [],
   "source": [
    "from sec_edgar_downloader import Downloader"
   ]
  },
  {
   "cell_type": "code",
   "execution_count": 2,
   "metadata": {},
   "outputs": [
    {
     "name": "stderr",
     "output_type": "stream",
     "text": [
      "/home/alfonso/Desktop/mia/tfm/venv/lib/python3.9/site-packages/bs4/builder/__init__.py:545: XMLParsedAsHTMLWarning: It looks like you're parsing an XML document using an HTML parser. If this really is an HTML document (maybe it's XHTML?), you can ignore or filter this warning. If it's XML, you should know that using an XML parser will be more reliable. To parse this document as XML, make sure you have the lxml package installed, and pass the keyword argument `features=\"xml\"` into the BeautifulSoup constructor.\n",
      "  warnings.warn(\n"
     ]
    },
    {
     "data": {
      "text/plain": [
       "1"
      ]
     },
     "execution_count": 2,
     "metadata": {},
     "output_type": "execute_result"
    }
   ],
   "source": [
    "# Initialize a downloader instance. If no argument is passed\n",
    "# to the constructor, the package will download filings to\n",
    "# the current working directory.\n",
    "dl = Downloader(\"data/fillings\")\n",
    "\n",
    "# Get the latest 10-K filing for Microsoft\n",
    "dl.get(\"10-K\", \"MSFT\", amount=1)"
   ]
  },
  {
   "cell_type": "code",
   "execution_count": 21,
   "metadata": {},
   "outputs": [],
   "source": [
    "dataset_config = EDGARDataSetConfig(\n",
    "    tickers_or_ciks=['amzn'],\n",
    "    form_types=['10-K', '10-Q'],\n",
    "    filing_date_start='2019-01-01',\n",
    "    filing_date_end='2020-12-31',\n",
    "    email_as_user_agent='test-user@test.com')"
   ]
  },
  {
   "cell_type": "code",
   "execution_count": 11,
   "metadata": {},
   "outputs": [
    {
     "ename": "TypeError",
     "evalue": "'NoneType' object is not subscriptable",
     "output_type": "error",
     "traceback": [
      "\u001b[0;31m---------------------------------------------------------------------------\u001b[0m",
      "\u001b[0;31mTypeError\u001b[0m                                 Traceback (most recent call last)",
      "Cell \u001b[0;32mIn[11], line 3\u001b[0m\n\u001b[1;32m      1\u001b[0m session \u001b[39m=\u001b[39m sagemaker\u001b[39m.\u001b[39mSession()\n\u001b[1;32m      2\u001b[0m \u001b[39m#bucket = session.default_bucket()\u001b[39;00m\n\u001b[0;32m----> 3\u001b[0m role \u001b[39m=\u001b[39m sagemaker\u001b[39m.\u001b[39;49mget_execution_role()\n",
      "File \u001b[0;32m~/Desktop/mia/tfm/venv/lib/python3.9/site-packages/sagemaker/session.py:5030\u001b[0m, in \u001b[0;36mget_execution_role\u001b[0;34m(sagemaker_session)\u001b[0m\n\u001b[1;32m   5028\u001b[0m \u001b[39mif\u001b[39;00m \u001b[39mnot\u001b[39;00m sagemaker_session:\n\u001b[1;32m   5029\u001b[0m     sagemaker_session \u001b[39m=\u001b[39m Session()\n\u001b[0;32m-> 5030\u001b[0m arn \u001b[39m=\u001b[39m sagemaker_session\u001b[39m.\u001b[39;49mget_caller_identity_arn()\n\u001b[1;32m   5032\u001b[0m \u001b[39mif\u001b[39;00m \u001b[39m\"\u001b[39m\u001b[39m:role/\u001b[39m\u001b[39m\"\u001b[39m \u001b[39min\u001b[39;00m arn:\n\u001b[1;32m   5033\u001b[0m     \u001b[39mreturn\u001b[39;00m arn\n",
      "File \u001b[0;32m~/Desktop/mia/tfm/venv/lib/python3.9/site-packages/sagemaker/session.py:3948\u001b[0m, in \u001b[0;36mSession.get_caller_identity_arn\u001b[0;34m(self)\u001b[0m\n\u001b[1;32m   3938\u001b[0m     \u001b[39mexcept\u001b[39;00m ClientError:\n\u001b[1;32m   3939\u001b[0m         LOGGER\u001b[39m.\u001b[39mdebug(\n\u001b[1;32m   3940\u001b[0m             \u001b[39m\"\u001b[39m\u001b[39mCouldn\u001b[39m\u001b[39m'\u001b[39m\u001b[39mt call \u001b[39m\u001b[39m'\u001b[39m\u001b[39mdescribe_notebook_instance\u001b[39m\u001b[39m'\u001b[39m\u001b[39m to get the Role \u001b[39m\u001b[39m\"\u001b[39m\n\u001b[1;32m   3941\u001b[0m             \u001b[39m\"\u001b[39m\u001b[39mARN of the instance \u001b[39m\u001b[39m%s\u001b[39;00m\u001b[39m.\u001b[39m\u001b[39m\"\u001b[39m,\n\u001b[1;32m   3942\u001b[0m             instance_name,\n\u001b[1;32m   3943\u001b[0m         )\n\u001b[1;32m   3945\u001b[0m assumed_role \u001b[39m=\u001b[39m \u001b[39mself\u001b[39m\u001b[39m.\u001b[39mboto_session\u001b[39m.\u001b[39mclient(\n\u001b[1;32m   3946\u001b[0m     \u001b[39m\"\u001b[39m\u001b[39msts\u001b[39m\u001b[39m\"\u001b[39m,\n\u001b[1;32m   3947\u001b[0m     region_name\u001b[39m=\u001b[39m\u001b[39mself\u001b[39m\u001b[39m.\u001b[39mboto_region_name,\n\u001b[0;32m-> 3948\u001b[0m     endpoint_url\u001b[39m=\u001b[39msts_regional_endpoint(\u001b[39mself\u001b[39;49m\u001b[39m.\u001b[39;49mboto_region_name),\n\u001b[1;32m   3949\u001b[0m )\u001b[39m.\u001b[39mget_caller_identity()[\u001b[39m\"\u001b[39m\u001b[39mArn\u001b[39m\u001b[39m\"\u001b[39m]\n\u001b[1;32m   3951\u001b[0m role \u001b[39m=\u001b[39m re\u001b[39m.\u001b[39msub(\u001b[39mr\u001b[39m\u001b[39m\"\u001b[39m\u001b[39m^(.+)sts::(\u001b[39m\u001b[39m\\\u001b[39m\u001b[39md+):assumed-role/(.+?)/.*$\u001b[39m\u001b[39m\"\u001b[39m, \u001b[39mr\u001b[39m\u001b[39m\"\u001b[39m\u001b[39m\\\u001b[39m\u001b[39m1iam::\u001b[39m\u001b[39m\\\u001b[39m\u001b[39m2:role/\u001b[39m\u001b[39m\\\u001b[39m\u001b[39m3\u001b[39m\u001b[39m\"\u001b[39m, assumed_role)\n\u001b[1;32m   3953\u001b[0m \u001b[39m# Call IAM to get the role's path\u001b[39;00m\n",
      "File \u001b[0;32m~/Desktop/mia/tfm/venv/lib/python3.9/site-packages/sagemaker/utils.py:567\u001b[0m, in \u001b[0;36msts_regional_endpoint\u001b[0;34m(region)\u001b[0m\n\u001b[1;32m    552\u001b[0m \u001b[39m\"\"\"Get the AWS STS endpoint specific for the given region.\u001b[39;00m\n\u001b[1;32m    553\u001b[0m \n\u001b[1;32m    554\u001b[0m \u001b[39mWe need this function because the AWS SDK does not yet honor\u001b[39;00m\n\u001b[0;32m   (...)\u001b[0m\n\u001b[1;32m    564\u001b[0m \u001b[39m    str: AWS STS regional endpoint\u001b[39;00m\n\u001b[1;32m    565\u001b[0m \u001b[39m\"\"\"\u001b[39;00m\n\u001b[1;32m    566\u001b[0m endpoint_data \u001b[39m=\u001b[39m _botocore_resolver()\u001b[39m.\u001b[39mconstruct_endpoint(\u001b[39m\"\u001b[39m\u001b[39msts\u001b[39m\u001b[39m\"\u001b[39m, region)\n\u001b[0;32m--> 567\u001b[0m \u001b[39mreturn\u001b[39;00m \u001b[39m\"\u001b[39m\u001b[39mhttps://\u001b[39m\u001b[39m{}\u001b[39;00m\u001b[39m\"\u001b[39m\u001b[39m.\u001b[39mformat(endpoint_data[\u001b[39m\"\u001b[39;49m\u001b[39mhostname\u001b[39;49m\u001b[39m\"\u001b[39;49m])\n",
      "\u001b[0;31mTypeError\u001b[0m: 'NoneType' object is not subscriptable"
     ]
    }
   ],
   "source": [
    "session = sagemaker.Session()\n",
    "#bucket = session.default_bucket()\n",
    "role = sagemaker.get_execution_role()"
   ]
  }
 ],
 "metadata": {
  "kernelspec": {
   "display_name": "venv",
   "language": "python",
   "name": "python3"
  },
  "language_info": {
   "codemirror_mode": {
    "name": "ipython",
    "version": 3
   },
   "file_extension": ".py",
   "mimetype": "text/x-python",
   "name": "python",
   "nbconvert_exporter": "python",
   "pygments_lexer": "ipython3",
   "version": "3.9.15"
  },
  "orig_nbformat": 4,
  "vscode": {
   "interpreter": {
    "hash": "f605a735da35714cc26d12bf35fb65a9a2b3de42157e2180f4f70aa43b41dd04"
   }
  }
 },
 "nbformat": 4,
 "nbformat_minor": 2
}

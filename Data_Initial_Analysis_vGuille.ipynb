{
 "cells": [
  {
   "attachments": {},
   "cell_type": "markdown",
   "metadata": {},
   "source": [
    "# **Tratamiento de Datos, Encoding y similitud usando BERT-FINBERT**"
   ]
  },
  {
   "attachments": {},
   "cell_type": "markdown",
   "metadata": {},
   "source": [
    "## **0 - IMPORT y Objetos Auxiliares:**"
   ]
  },
  {
   "attachments": {},
   "cell_type": "markdown",
   "metadata": {},
   "source": [
    "### Imports:"
   ]
  },
  {
   "cell_type": "code",
   "execution_count": 2,
   "metadata": {},
   "outputs": [
    {
     "name": "stderr",
     "output_type": "stream",
     "text": [
      "/home/alfonso/Desktop/mia/tfm/venv/lib/python3.9/site-packages/tqdm/auto.py:22: TqdmWarning: IProgress not found. Please update jupyter and ipywidgets. See https://ipywidgets.readthedocs.io/en/stable/user_install.html\n",
      "  from .autonotebook import tqdm as notebook_tqdm\n",
      "2022-12-29 12:03:30.890461: I tensorflow/core/platform/cpu_feature_guard.cc:193] This TensorFlow binary is optimized with oneAPI Deep Neural Network Library (oneDNN) to use the following CPU instructions in performance-critical operations:  AVX2\n",
      "To enable them in other operations, rebuild TensorFlow with the appropriate compiler flags.\n",
      "2022-12-29 12:03:30.998455: W tensorflow/compiler/xla/stream_executor/platform/default/dso_loader.cc:64] Could not load dynamic library 'libcudart.so.11.0'; dlerror: libcudart.so.11.0: cannot open shared object file: No such file or directory\n",
      "2022-12-29 12:03:30.998477: I tensorflow/compiler/xla/stream_executor/cuda/cudart_stub.cc:29] Ignore above cudart dlerror if you do not have a GPU set up on your machine.\n",
      "2022-12-29 12:03:31.847463: W tensorflow/compiler/xla/stream_executor/platform/default/dso_loader.cc:64] Could not load dynamic library 'libnvinfer.so.7'; dlerror: libnvinfer.so.7: cannot open shared object file: No such file or directory\n",
      "2022-12-29 12:03:31.847534: W tensorflow/compiler/xla/stream_executor/platform/default/dso_loader.cc:64] Could not load dynamic library 'libnvinfer_plugin.so.7'; dlerror: libnvinfer_plugin.so.7: cannot open shared object file: No such file or directory\n",
      "2022-12-29 12:03:31.847541: W tensorflow/compiler/tf2tensorrt/utils/py_utils.cc:38] TF-TRT Warning: Cannot dlopen some TensorRT libraries. If you would like to use Nvidia GPU with TensorRT, please make sure the missing libraries mentioned above are installed properly.\n"
     ]
    }
   ],
   "source": [
    "# BASICS:\n",
    "import pandas as pd\n",
    "import numpy as np\n",
    "import scipy\n",
    "import matplotlib.pyplot as plt\n",
    "import re\n",
    "import string\n",
    "from string import digits\n",
    "\n",
    "# PROCESADO DE TEXTO\n",
    "import nltk\n",
    "from nltk.tokenize import RegexpTokenizer\n",
    "from nltk.stem import WordNetLemmatizer\n",
    "from nltk.corpus import wordnet, stopwords\n",
    "\n",
    "#!pip install cyhunspell\n",
    "from hunspell import Hunspell # SOLO LINUX\n",
    "\n",
    "# AUXILIARES\n",
    "import os\n",
    "import joblib\n",
    "import tqdm\n",
    "import contextlib\n",
    "\n",
    "# MODELOS y ML:\n",
    "import transformers\n",
    "import finbert_embedding as femb\n",
    "import torch"
   ]
  },
  {
   "attachments": {},
   "cell_type": "markdown",
   "metadata": {},
   "source": [
    "### Downloads:"
   ]
  },
  {
   "cell_type": "code",
   "execution_count": 3,
   "metadata": {},
   "outputs": [],
   "source": [
    "# Downloads de NLTK -  Solo en caso de no tenerlas ya\n",
    "already_downloaded = True\n",
    "\n",
    "if already_downloaded:\n",
    "    None\n",
    "else:\n",
    "    nltk.download('averaged_perceptron_tagger')\n",
    "    nltk.download('punkt')\n",
    "    nltk.download('words'); \n",
    "    nltk.download('wordnet'); \n",
    "    nltk.download('omw-1.4'); \n",
    "    nltk.download('brown'); \n",
    "    nltk.download('movie_reviews'); \n",
    "    nltk.download('punkt'); \n",
    "    nltk.download('treebank'); \n",
    "    nltk.download('stopwords');\n",
    "    \n",
    "\n",
    "    "
   ]
  },
  {
   "attachments": {},
   "cell_type": "markdown",
   "metadata": {},
   "source": [
    "### F. Auxiliares y otros objetos:"
   ]
  },
  {
   "attachments": {},
   "cell_type": "markdown",
   "metadata": {},
   "source": [
    "Para poder ver la barra de evolución en el multiproceso"
   ]
  },
  {
   "cell_type": "code",
   "execution_count": 4,
   "metadata": {},
   "outputs": [],
   "source": [
    "@contextlib.contextmanager\n",
    "def tqdm_joblib(tqdm_object):\n",
    "    \"\"\"Context manager to patch joblib to report into tqdm progress bar given as argument\"\"\"\n",
    "    class TqdmBatchCompletionCallback(joblib.parallel.BatchCompletionCallBack):\n",
    "        def _call_(self, *args, **kwargs):\n",
    "            tqdm_object.update(n=self.batch_size)\n",
    "            return super()._call_(*args, **kwargs)\n",
    "\n",
    "    old_batch_callback = joblib.parallel.BatchCompletionCallBack\n",
    "    joblib.parallel.BatchCompletionCallBack = TqdmBatchCompletionCallback\n",
    "    try:\n",
    "        yield tqdm_object\n",
    "    finally:\n",
    "        joblib.parallel.BatchCompletionCallBack = old_batch_callback\n",
    "        tqdm_object.close()"
   ]
  },
  {
   "cell_type": "code",
   "execution_count": 5,
   "metadata": {},
   "outputs": [
    {
     "name": "stdout",
     "output_type": "stream",
     "text": [
      "14\n"
     ]
    }
   ],
   "source": [
    "# Número de nucleos disponibles por el ordenador:\n",
    "cores = max(1, os.cpu_count() - 2)\n",
    "print(cores)"
   ]
  },
  {
   "attachments": {},
   "cell_type": "markdown",
   "metadata": {},
   "source": [
    "## **1 - Lectura y análisis inicial de los datos**"
   ]
  },
  {
   "cell_type": "code",
   "execution_count": 6,
   "metadata": {},
   "outputs": [],
   "source": [
    "raw_data = pd.read_pickle(\"data/fillings/dataframe_10k_20_21_22.pkl\")"
   ]
  },
  {
   "cell_type": "code",
   "execution_count": 9,
   "metadata": {},
   "outputs": [
    {
     "data": {
      "text/html": [
       "<div>\n",
       "<style scoped>\n",
       "    .dataframe tbody tr th:only-of-type {\n",
       "        vertical-align: middle;\n",
       "    }\n",
       "\n",
       "    .dataframe tbody tr th {\n",
       "        vertical-align: top;\n",
       "    }\n",
       "\n",
       "    .dataframe thead th {\n",
       "        text-align: right;\n",
       "    }\n",
       "</style>\n",
       "<table border=\"1\" class=\"dataframe\">\n",
       "  <thead>\n",
       "    <tr style=\"text-align: right;\">\n",
       "      <th></th>\n",
       "      <th>ticker</th>\n",
       "      <th>link_to_html</th>\n",
       "      <th>item_1</th>\n",
       "      <th>filing_date</th>\n",
       "    </tr>\n",
       "  </thead>\n",
       "  <tbody>\n",
       "    <tr>\n",
       "      <th>0</th>\n",
       "      <td>NPHC</td>\n",
       "      <td>https://www.sec.gov/Archives/edgar/data/111964...</td>\n",
       "      <td>Item 1. Business Introduction We were incorpo...</td>\n",
       "      <td>2021</td>\n",
       "    </tr>\n",
       "    <tr>\n",
       "      <th>1</th>\n",
       "      <td>CACC</td>\n",
       "      <td>https://www.sec.gov/Archives/edgar/data/885550...</td>\n",
       "      <td>ITEM 1. BUSINESS General Since 1972, Credit A...</td>\n",
       "      <td>2020</td>\n",
       "    </tr>\n",
       "    <tr>\n",
       "      <th>2</th>\n",
       "      <td>HII</td>\n",
       "      <td>https://www.sec.gov/Archives/edgar/data/150158...</td>\n",
       "      <td>ITEM 1. BUSINESS History and Organization Hun...</td>\n",
       "      <td>2020</td>\n",
       "    </tr>\n",
       "    <tr>\n",
       "      <th>3</th>\n",
       "      <td>HR</td>\n",
       "      <td>https://www.sec.gov/Archives/edgar/data/899749...</td>\n",
       "      <td>Item 1. Business Healthcare Realty Trust Inco...</td>\n",
       "      <td>2020</td>\n",
       "    </tr>\n",
       "    <tr>\n",
       "      <th>4</th>\n",
       "      <td>MNKPF</td>\n",
       "      <td>https://www.sec.gov/Archives/edgar/data/156789...</td>\n",
       "      <td>Item 1. Business. Overview We are a global bu...</td>\n",
       "      <td>2020</td>\n",
       "    </tr>\n",
       "  </tbody>\n",
       "</table>\n",
       "</div>"
      ],
      "text/plain": [
       "  ticker                                       link_to_html  \\\n",
       "0   NPHC  https://www.sec.gov/Archives/edgar/data/111964...   \n",
       "1   CACC  https://www.sec.gov/Archives/edgar/data/885550...   \n",
       "2    HII  https://www.sec.gov/Archives/edgar/data/150158...   \n",
       "3     HR  https://www.sec.gov/Archives/edgar/data/899749...   \n",
       "4  MNKPF  https://www.sec.gov/Archives/edgar/data/156789...   \n",
       "\n",
       "                                              item_1 filing_date  \n",
       "0   Item 1. Business Introduction We were incorpo...        2021  \n",
       "1   ITEM 1. BUSINESS General Since 1972, Credit A...        2020  \n",
       "2   ITEM 1. BUSINESS History and Organization Hun...        2020  \n",
       "3   Item 1. Business Healthcare Realty Trust Inco...        2020  \n",
       "4   Item 1. Business. Overview We are a global bu...        2020  "
      ]
     },
     "execution_count": 9,
     "metadata": {},
     "output_type": "execute_result"
    }
   ],
   "source": [
    "raw_data.head()"
   ]
  },
  {
   "cell_type": "code",
   "execution_count": 10,
   "metadata": {},
   "outputs": [
    {
     "data": {
      "text/plain": [
       "(16710, 4)"
      ]
     },
     "execution_count": 10,
     "metadata": {},
     "output_type": "execute_result"
    }
   ],
   "source": [
    "raw_data.shape"
   ]
  },
  {
   "cell_type": "code",
   "execution_count": 11,
   "metadata": {},
   "outputs": [
    {
     "data": {
      "text/plain": [
       "(array(['2020', '2021', '2022'], dtype=object),\n",
       " array([4904, 5758, 6048], dtype=int64))"
      ]
     },
     "execution_count": 11,
     "metadata": {},
     "output_type": "execute_result"
    }
   ],
   "source": [
    "np.unique(raw_data[\"filing_date\"], return_counts=True)"
   ]
  },
  {
   "attachments": {},
   "cell_type": "markdown",
   "metadata": {},
   "source": [
    "Existen fillings duplicados. Los eliminamos"
   ]
  },
  {
   "cell_type": "code",
   "execution_count": 9,
   "metadata": {},
   "outputs": [
    {
     "data": {
      "text/html": [
       "<div>\n",
       "<style scoped>\n",
       "    .dataframe tbody tr th:only-of-type {\n",
       "        vertical-align: middle;\n",
       "    }\n",
       "\n",
       "    .dataframe tbody tr th {\n",
       "        vertical-align: top;\n",
       "    }\n",
       "\n",
       "    .dataframe thead th {\n",
       "        text-align: right;\n",
       "    }\n",
       "</style>\n",
       "<table border=\"1\" class=\"dataframe\">\n",
       "  <thead>\n",
       "    <tr style=\"text-align: right;\">\n",
       "      <th></th>\n",
       "      <th>filing_date</th>\n",
       "    </tr>\n",
       "    <tr>\n",
       "      <th>ticker</th>\n",
       "      <th></th>\n",
       "    </tr>\n",
       "  </thead>\n",
       "  <tbody>\n",
       "    <tr>\n",
       "      <th>SIPN</th>\n",
       "      <td>14.0</td>\n",
       "    </tr>\n",
       "    <tr>\n",
       "      <th>CNCN</th>\n",
       "      <td>11.0</td>\n",
       "    </tr>\n",
       "    <tr>\n",
       "      <th>PBAJ</th>\n",
       "      <td>9.0</td>\n",
       "    </tr>\n",
       "    <tr>\n",
       "      <th>SVMB</th>\n",
       "      <td>9.0</td>\n",
       "    </tr>\n",
       "    <tr>\n",
       "      <th>CGSI</th>\n",
       "      <td>8.0</td>\n",
       "    </tr>\n",
       "    <tr>\n",
       "      <th>...</th>\n",
       "      <td>...</td>\n",
       "    </tr>\n",
       "    <tr>\n",
       "      <th>IPTK</th>\n",
       "      <td>4.0</td>\n",
       "    </tr>\n",
       "    <tr>\n",
       "      <th>GNRS</th>\n",
       "      <td>4.0</td>\n",
       "    </tr>\n",
       "    <tr>\n",
       "      <th>CWGL</th>\n",
       "      <td>4.0</td>\n",
       "    </tr>\n",
       "    <tr>\n",
       "      <th>ADN</th>\n",
       "      <td>4.0</td>\n",
       "    </tr>\n",
       "    <tr>\n",
       "      <th>ADMQ</th>\n",
       "      <td>4.0</td>\n",
       "    </tr>\n",
       "  </tbody>\n",
       "</table>\n",
       "<p>374 rows × 1 columns</p>\n",
       "</div>"
      ],
      "text/plain": [
       "        filing_date\n",
       "ticker             \n",
       "SIPN           14.0\n",
       "CNCN           11.0\n",
       "PBAJ            9.0\n",
       "SVMB            9.0\n",
       "CGSI            8.0\n",
       "...             ...\n",
       "IPTK            4.0\n",
       "GNRS            4.0\n",
       "CWGL            4.0\n",
       "ADN             4.0\n",
       "ADMQ            4.0\n",
       "\n",
       "[374 rows x 1 columns]"
      ]
     },
     "execution_count": 9,
     "metadata": {},
     "output_type": "execute_result"
    }
   ],
   "source": [
    "num_10k_ticker = pd.pivot_table(raw_data[[\"ticker\", \"filing_date\"]], index=\"ticker\", values=\"filing_date\", aggfunc=\"count\")\n",
    "num_10k_ticker.sort_values(\"filing_date\", ascending=False, inplace=True)\n",
    "num_10k_ticker.where(num_10k_ticker.values > 3).dropna()"
   ]
  },
  {
   "cell_type": "code",
   "execution_count": 7,
   "metadata": {},
   "outputs": [
    {
     "data": {
      "text/plain": [
       "(15842, 4)"
      ]
     },
     "execution_count": 7,
     "metadata": {},
     "output_type": "execute_result"
    }
   ],
   "source": [
    "raw_data_unique = raw_data.drop_duplicates(subset=[\"ticker\", \"filing_date\"])\n",
    "raw_data_unique.shape"
   ]
  },
  {
   "cell_type": "code",
   "execution_count": 10,
   "metadata": {},
   "outputs": [
    {
     "data": {
      "text/html": [
       "<div>\n",
       "<style scoped>\n",
       "    .dataframe tbody tr th:only-of-type {\n",
       "        vertical-align: middle;\n",
       "    }\n",
       "\n",
       "    .dataframe tbody tr th {\n",
       "        vertical-align: top;\n",
       "    }\n",
       "\n",
       "    .dataframe thead th {\n",
       "        text-align: right;\n",
       "    }\n",
       "</style>\n",
       "<table border=\"1\" class=\"dataframe\">\n",
       "  <thead>\n",
       "    <tr style=\"text-align: right;\">\n",
       "      <th></th>\n",
       "      <th>filing_date</th>\n",
       "    </tr>\n",
       "    <tr>\n",
       "      <th>ticker</th>\n",
       "      <th></th>\n",
       "    </tr>\n",
       "  </thead>\n",
       "  <tbody>\n",
       "    <tr>\n",
       "      <th>KBSR</th>\n",
       "      <td>3.0</td>\n",
       "    </tr>\n",
       "    <tr>\n",
       "      <th>MSN</th>\n",
       "      <td>3.0</td>\n",
       "    </tr>\n",
       "    <tr>\n",
       "      <th>MTCH</th>\n",
       "      <td>3.0</td>\n",
       "    </tr>\n",
       "    <tr>\n",
       "      <th>MTBC</th>\n",
       "      <td>3.0</td>\n",
       "    </tr>\n",
       "    <tr>\n",
       "      <th>MTB</th>\n",
       "      <td>3.0</td>\n",
       "    </tr>\n",
       "    <tr>\n",
       "      <th>...</th>\n",
       "      <td>...</td>\n",
       "    </tr>\n",
       "    <tr>\n",
       "      <th>ONEM</th>\n",
       "      <td>3.0</td>\n",
       "    </tr>\n",
       "    <tr>\n",
       "      <th>ONDS</th>\n",
       "      <td>3.0</td>\n",
       "    </tr>\n",
       "    <tr>\n",
       "      <th>ONCT</th>\n",
       "      <td>3.0</td>\n",
       "    </tr>\n",
       "    <tr>\n",
       "      <th>ONB</th>\n",
       "      <td>3.0</td>\n",
       "    </tr>\n",
       "    <tr>\n",
       "      <th>ON</th>\n",
       "      <td>3.0</td>\n",
       "    </tr>\n",
       "  </tbody>\n",
       "</table>\n",
       "<p>374 rows × 1 columns</p>\n",
       "</div>"
      ],
      "text/plain": [
       "        filing_date\n",
       "ticker             \n",
       "KBSR            3.0\n",
       "MSN             3.0\n",
       "MTCH            3.0\n",
       "MTBC            3.0\n",
       "MTB             3.0\n",
       "...             ...\n",
       "ONEM            3.0\n",
       "ONDS            3.0\n",
       "ONCT            3.0\n",
       "ONB             3.0\n",
       "ON              3.0\n",
       "\n",
       "[374 rows x 1 columns]"
      ]
     },
     "execution_count": 10,
     "metadata": {},
     "output_type": "execute_result"
    }
   ],
   "source": [
    "num_10k_ticker_unique = pd.pivot_table(raw_data_unique[[\"ticker\", \"filing_date\"]], index=\"ticker\", values=\"filing_date\", aggfunc=\"count\")\n",
    "num_10k_ticker_unique.sort_values(\"filing_date\", ascending=False, inplace=True)\n",
    "num_10k_ticker_unique.where(num_10k_ticker.values > 3).dropna()"
   ]
  },
  {
   "attachments": {},
   "cell_type": "markdown",
   "metadata": {},
   "source": [
    "### Separamos los datos por año"
   ]
  },
  {
   "cell_type": "code",
   "execution_count": 11,
   "metadata": {},
   "outputs": [],
   "source": [
    "# separamos por año y eliminamos la columna fillin_date\n",
    "\n",
    "raw_2020 = raw_data_unique[raw_data_unique[\"filing_date\"] == \"2020\"].iloc[:, :-1]\n",
    "raw_2021 = raw_data_unique[raw_data_unique[\"filing_date\"] == \"2021\"].iloc[:, :-1]\n",
    "raw_2022 = raw_data_unique[raw_data_unique[\"filing_date\"] == \"2022\"].iloc[:, :-1]"
   ]
  },
  {
   "cell_type": "code",
   "execution_count": 12,
   "metadata": {},
   "outputs": [
    {
     "name": "stdout",
     "output_type": "stream",
     "text": [
      " El año 2020 tiene 4703 ficheros 10-K\n",
      " El año 2021 tiene 5296 ficheros 10-K\n",
      " El año 2022 tiene 5843 ficheros 10-K\n"
     ]
    }
   ],
   "source": [
    "print(f' El año 2020 tiene {raw_2020.shape[0]} ficheros 10-K')\n",
    "print(f' El año 2021 tiene {raw_2021.shape[0]} ficheros 10-K')\n",
    "print(f' El año 2022 tiene {raw_2022.shape[0]} ficheros 10-K')\n"
   ]
  },
  {
   "attachments": {},
   "cell_type": "markdown",
   "metadata": {},
   "source": [
    "Número de palabras por cada 10K filling"
   ]
  },
  {
   "cell_type": "code",
   "execution_count": 13,
   "metadata": {},
   "outputs": [],
   "source": [
    "num_words_2022 = raw_2022[\"item_1\"].str.count(' ')\n",
    "num_words_2021 = raw_2021[\"item_1\"].str.count(' ')\n",
    "num_words_2020 = raw_2020[\"item_1\"].str.count(' ')"
   ]
  },
  {
   "cell_type": "code",
   "execution_count": 14,
   "metadata": {},
   "outputs": [
    {
     "data": {
      "image/png": "[encoded data removed]",
      "text/plain": [
       "<Figure size 1200x600 with 1 Axes>"
      ]
     },
     "metadata": {},
     "output_type": "display_data"
    }
   ],
   "source": [
    "fig, ax = plt.subplots(figsize=(12,6))\n",
    "plt.plot(num_words_2022, alpha=0.3, label=\"2022\")\n",
    "plt.plot(num_words_2021, alpha=0.3, label=\"2021\")\n",
    "plt.plot(num_words_2020, alpha=0.3, label=\"2020\")\n",
    "ax.set_xticks([])\n",
    "plt.legend()\n",
    "plt.title(\"Número de palabras por fichero 10-K\")\n",
    "plt.show()\n",
    "fig.savefig('imgs/num_words_10k.png', bbox_inches='tight')"
   ]
  },
  {
   "cell_type": "code",
   "execution_count": 15,
   "metadata": {},
   "outputs": [
    {
     "data": {
      "image/png": "[encoded data removed]",
      "text/plain": [
       "<Figure size 1200x600 with 1 Axes>"
      ]
     },
     "metadata": {},
     "output_type": "display_data"
    }
   ],
   "source": [
    "fig, ax = plt.subplots(figsize=(12,6))\n",
    "plt.hist(num_words_2022.values, bins=100, alpha=0.3, label=\"2022\");\n",
    "plt.hist(num_words_2021.values, bins=100, alpha=0.3, label=\"2021\");\n",
    "plt.hist(num_words_2020.values, bins=100, alpha=0.3, label=\"2020\");\n",
    "plt.legend()\n",
    "plt.title(\"Histograma Número de palabras por fichero 10-K\")\n",
    "plt.show()\n",
    "fig.savefig('imgs/num_words_10k_hist.png', bbox_inches='tight')"
   ]
  },
  {
   "cell_type": "code",
   "execution_count": 16,
   "metadata": {},
   "outputs": [
    {
     "name": "stdout",
     "output_type": "stream",
     "text": [
      "2022:\n",
      "El número mínimo de palabras en un fichero 10-K del año 2022 es 34\n",
      "El número máximo de palabras en un fichero 10-K del año 2022 es 91803\n",
      "El número medio de palabras en un fichero 10-K del año 2022 es 9683\n",
      "2021:\n",
      "El número mínimo de palabras en un fichero 10-K del año 2021 es 17\n",
      "El número máximo de palabras en un fichero 10-K del año 2021 es 57911\n",
      "El número medio de palabras en un fichero 10-K del año 2021 es 8937\n",
      "2020:\n",
      "El número mínimo de palabras en un fichero 10-K del año 2020 es 14\n",
      "El número máximo de palabras en un fichero 10-K del año 2020 es 77974\n",
      "El número medio de palabras en un fichero 10-K del año 2020 es 8137\n"
     ]
    }
   ],
   "source": [
    "# 2022\n",
    "print('2022:')\n",
    "print(f'El número mínimo de palabras en un fichero 10-K del año 2022 es {np.min(num_words_2022.values)}')\n",
    "print(f'El número máximo de palabras en un fichero 10-K del año 2022 es {np.max(num_words_2022.values)}')\n",
    "print(f'El número medio de palabras en un fichero 10-K del año 2022 es {int(np.mean(num_words_2022.values))}')\n",
    "\n",
    "# 2021\n",
    "print('2021:')\n",
    "print(f'El número mínimo de palabras en un fichero 10-K del año 2021 es {np.min(num_words_2021.values)}')\n",
    "print(f'El número máximo de palabras en un fichero 10-K del año 2021 es {np.max(num_words_2021.values)}')\n",
    "print(f'El número medio de palabras en un fichero 10-K del año 2021 es {int(np.mean(num_words_2021.values))}')\n",
    "\n",
    "# 2020\n",
    "print('2020:')\n",
    "print(f'El número mínimo de palabras en un fichero 10-K del año 2020 es {np.min(num_words_2020.values)}')\n",
    "print(f'El número máximo de palabras en un fichero 10-K del año 2020 es {np.max(num_words_2020.values)}')\n",
    "print(f'El número medio de palabras en un fichero 10-K del año 2020 es {int(np.mean(num_words_2020.values))}')"
   ]
  },
  {
   "attachments": {},
   "cell_type": "markdown",
   "metadata": {},
   "source": [
    "### Limpieza inicial de los textos del año 2022"
   ]
  },
  {
   "attachments": {},
   "cell_type": "markdown",
   "metadata": {},
   "source": [
    "#### STOPWORDS, PUNTUACIÓN Y MAYÚSCULAS:"
   ]
  },
  {
   "cell_type": "code",
   "execution_count": 18,
   "metadata": {},
   "outputs": [],
   "source": [
    "def limpieza_basica(corpus, is_string=False):\n",
    "    '''\n",
    "    Función que limpia un corpus (grupo de textos) y lo devuelve.\n",
    "    - Quita puntuación\n",
    "    - Quita dígitos\n",
    "    - Transforma a minúsculas\n",
    "    - Elimina espacios vacíos al principio y final\n",
    "    - Elimina stopwords\n",
    "    \n",
    "    INPUT: Serie(columna) o lista de textos.\n",
    "    OUTPUT: Idem\n",
    "    '''\n",
    "    \n",
    "    import string\n",
    "    from string import digits\n",
    "    from nltk.corpus import wordnet, stopwords\n",
    "    \n",
    "    if is_string: # Si se le pasa una cadena de texto solo\n",
    "        # Copia para emplazar los datos limpios:\n",
    "        corp_copy = corpus\n",
    "\n",
    "        # Eliminación de puntuación:\n",
    "        corp_copy = corp_copy.translate(str.maketrans('', '',string.punctuation))\n",
    "\n",
    "        # Eliminación de cifras:\n",
    "        corp_copy = corp_copy.translate(str.maketrans('', '', digits))\n",
    "\n",
    "        # Minúsculas:\n",
    "        corp_copy = corp_copy.lower()\n",
    "\n",
    "        # Limpieza de huecos al principio y final:\n",
    "        corp_copy = corp_copy.strip()\n",
    "\n",
    "        # Delimitación de stopwords inglesas\n",
    "        stop_words = set(stopwords.words('english'))\n",
    "\n",
    "        # Eliminación de Stopwords:\n",
    "        corp_copy = ' '.join([word for word in corp_copy.split() if word not in (stop_words)])\n",
    "    else: # Si se le pasa una columna\n",
    "        \n",
    "        # Copia para emplazar los datos limpios:\n",
    "        corp_copy = corpus.copy()\n",
    "\n",
    "        # Eliminación de puntuación:\n",
    "        corp_copy = corp_copy.str.translate(str.maketrans('', '',string.punctuation))\n",
    "\n",
    "        # Eliminación de cifras:\n",
    "        corp_copy = corp_copy.str.translate(str.maketrans('', '', digits))\n",
    "\n",
    "        # Minúsculas:\n",
    "        corp_copy = corp_copy.str.lower()\n",
    "\n",
    "        # Limpieza de huecos al principio y final:\n",
    "        corp_copy = corp_copy.str.strip()\n",
    "\n",
    "        # Delimitación de stopwords inglesas\n",
    "        stop_words = set(stopwords.words('english'))\n",
    "\n",
    "        # Eliminación de Stopwords:\n",
    "        corp_copy = corp_copy.apply(lambda x: ' '.join([word for word in x.split() if word not in (stop_words)]))\n",
    "    \n",
    "    return corp_copy"
   ]
  },
  {
   "cell_type": "code",
   "execution_count": 41,
   "metadata": {},
   "outputs": [],
   "source": [
    "# 20s\n",
    "clean_2022 = raw_data.copy()\n",
    "clean_2022 = clean_2022.loc[clean_2022.filing_date==\"2022\"]\n",
    "clean_2022.item_1 = limpieza_basica(clean_2022.item_1)"
   ]
  },
  {
   "cell_type": "code",
   "execution_count": 43,
   "metadata": {},
   "outputs": [
    {
     "name": "stdout",
     "output_type": "stream",
     "text": [
      "(6048, 4)\n"
     ]
    },
    {
     "data": {
      "text/html": [
       "<div>\n",
       "<style scoped>\n",
       "    .dataframe tbody tr th:only-of-type {\n",
       "        vertical-align: middle;\n",
       "    }\n",
       "\n",
       "    .dataframe tbody tr th {\n",
       "        vertical-align: top;\n",
       "    }\n",
       "\n",
       "    .dataframe thead th {\n",
       "        text-align: right;\n",
       "    }\n",
       "</style>\n",
       "<table border=\"1\" class=\"dataframe\">\n",
       "  <thead>\n",
       "    <tr style=\"text-align: right;\">\n",
       "      <th></th>\n",
       "      <th>ticker</th>\n",
       "      <th>link_to_html</th>\n",
       "      <th>item_1</th>\n",
       "      <th>filing_date</th>\n",
       "    </tr>\n",
       "  </thead>\n",
       "  <tbody>\n",
       "    <tr>\n",
       "      <th>13</th>\n",
       "      <td>FSP</td>\n",
       "      <td>https://www.sec.gov/Archives/edgar/data/103131...</td>\n",
       "      <td>item business history company franklin street ...</td>\n",
       "      <td>2022</td>\n",
       "    </tr>\n",
       "    <tr>\n",
       "      <th>14</th>\n",
       "      <td>NEWH</td>\n",
       "      <td>https://www.sec.gov/Archives/edgar/data/137112...</td>\n",
       "      <td>item business overview developer clean energy ...</td>\n",
       "      <td>2022</td>\n",
       "    </tr>\n",
       "    <tr>\n",
       "      <th>15</th>\n",
       "      <td>NSP</td>\n",
       "      <td>https://www.sec.gov/Archives/edgar/data/100075...</td>\n",
       "      <td>item business general provide array human reso...</td>\n",
       "      <td>2022</td>\n",
       "    </tr>\n",
       "    <tr>\n",
       "      <th>16</th>\n",
       "      <td>MDV</td>\n",
       "      <td>https://www.sec.gov/Archives/edgar/data/164587...</td>\n",
       "      <td>item business company modiv internallymanaged ...</td>\n",
       "      <td>2022</td>\n",
       "    </tr>\n",
       "    <tr>\n",
       "      <th>28</th>\n",
       "      <td>AKRO</td>\n",
       "      <td>https://www.sec.gov/Archives/edgar/data/174465...</td>\n",
       "      <td>item businessoverviewwe clinicalstage company ...</td>\n",
       "      <td>2022</td>\n",
       "    </tr>\n",
       "  </tbody>\n",
       "</table>\n",
       "</div>"
      ],
      "text/plain": [
       "   ticker                                       link_to_html  \\\n",
       "13    FSP  https://www.sec.gov/Archives/edgar/data/103131...   \n",
       "14   NEWH  https://www.sec.gov/Archives/edgar/data/137112...   \n",
       "15    NSP  https://www.sec.gov/Archives/edgar/data/100075...   \n",
       "16    MDV  https://www.sec.gov/Archives/edgar/data/164587...   \n",
       "28   AKRO  https://www.sec.gov/Archives/edgar/data/174465...   \n",
       "\n",
       "                                               item_1 filing_date  \n",
       "13  item business history company franklin street ...        2022  \n",
       "14  item business overview developer clean energy ...        2022  \n",
       "15  item business general provide array human reso...        2022  \n",
       "16  item business company modiv internallymanaged ...        2022  \n",
       "28  item businessoverviewwe clinicalstage company ...        2022  "
      ]
     },
     "execution_count": 43,
     "metadata": {},
     "output_type": "execute_result"
    }
   ],
   "source": [
    "print(clean_2022.shape)\n",
    "clean_2022.head()"
   ]
  },
  {
   "attachments": {},
   "cell_type": "markdown",
   "metadata": {},
   "source": [
    "#### Limpieza de palabras usando un diccionario"
   ]
  },
  {
   "cell_type": "code",
   "execution_count": 21,
   "metadata": {},
   "outputs": [],
   "source": [
    "# SOLO LINUX:\n",
    "h = Hunspell()\n",
    "\n",
    "clean_2022[\"item_1\"] = clean_2022[\"item_1\"].apply(\n",
    "    lambda x: ' '.join(\n",
    "        [word for word in x.split() \n",
    "        if h.spell(word)]\n",
    "        )\n",
    "    )"
   ]
  },
  {
   "cell_type": "code",
   "execution_count": 35,
   "metadata": {},
   "outputs": [
    {
     "data": {
      "text/plain": [
       "13       item business history company franklin street ...\n",
       "14       item business overview developer clean energy ...\n",
       "15       item business general provide array human reso...\n",
       "16       item business company corporation elected qual...\n",
       "28       item company developing transformational treat...\n",
       "                               ...                        \n",
       "16697    item business forward looking statements repor...\n",
       "16704    item general information included annual repor...\n",
       "16706    item business item risk factors item b unresol...\n",
       "16707    item business introduction blank check company...\n",
       "16708    item business company overview biotechnology c...\n",
       "Name: item_1, Length: 6048, dtype: object"
      ]
     },
     "execution_count": 35,
     "metadata": {},
     "output_type": "execute_result"
    }
   ],
   "source": [
    "clean_2022[\"item_1\"]"
   ]
  },
  {
   "attachments": {},
   "cell_type": "markdown",
   "metadata": {},
   "source": [
    "#### LEMATIZACIÓN:"
   ]
  },
  {
   "cell_type": "code",
   "execution_count": 24,
   "metadata": {},
   "outputs": [],
   "source": [
    "# Para que el multiproceso funcione le tienes que pasar todo lo que necesita.\n",
    "# Esto incluye las funciones (si son más de una) y a veces los import.\n",
    "\n",
    "def lemmatize_sentence(sentence):\n",
    "    # IMPORTS:\n",
    "    import nltk\n",
    "    from nltk.tokenize import RegexpTokenizer\n",
    "    from nltk.stem import WordNetLemmatizer\n",
    "    from nltk.corpus import wordnet, stopwords\n",
    "    \n",
    "    # INICIALIZAR LEMATIZADOR:\n",
    "    lemmatizer = WordNetLemmatizer()\n",
    "    \n",
    "    \n",
    "    # CONVERSIÓN DE TAG A OBJETO WORDNET:\n",
    "    def nltk_pos_tagger(nltk_tag):\n",
    "        if nltk_tag.startswith('J'):\n",
    "            return wordnet.ADJ\n",
    "        elif nltk_tag.startswith('V'):\n",
    "            return wordnet.VERB\n",
    "        elif nltk_tag.startswith('N'):\n",
    "            return wordnet.NOUN\n",
    "        elif nltk_tag.startswith('R'):\n",
    "            return wordnet.ADV\n",
    "        else:          \n",
    "            return None\n",
    "\n",
    "    # PROCESO INICIAL:\n",
    "    nltk_tagged = nltk.pos_tag(nltk.word_tokenize(sentence))  \n",
    "    wordnet_tagged = map(lambda x: (x[0], nltk_pos_tagger(x[1])), nltk_tagged)\n",
    "    lemmatized_sentence = []\n",
    "    \n",
    "    # BUCLE DE LIMPIEZA DE TEXTO\n",
    "    for word, tag in wordnet_tagged:\n",
    "        if tag is None:\n",
    "            lemmatized_sentence.append(word)\n",
    "        else:        \n",
    "            lemmatized_sentence.append(lemmatizer.lemmatize(word, tag))\n",
    "    return \" \".join(lemmatized_sentence)"
   ]
  },
  {
   "cell_type": "code",
   "execution_count": 27,
   "metadata": {},
   "outputs": [
    {
     "data": {
      "text/plain": [
       "'item business history company franklin street property corp refer fsp corp company maryland corporation operate manner intend qualify real estate investment trust reit federal income tax purpose common stock trade nyse american symbol fsp fsp corp successor franklin street partner limit partnership fsp partnership originally form massachusetts general partnership january successor massachusetts general partnership form january fsp partnership convert fsp corp refer conversion result conversion fsp partnership cease exist succeed business fsp partnership conversion unit general limited partnership interest fsp partnership convert one share common stock result conversion hold directly indirectly interest three former subsidiary fsp partnership fsp investment llc fsp property management llc fsp holding llc operate business subsidiary business reit focus commercial real estate investment primarily office market currently operate one segment real estate operation principal revenue source real estate operation include rental income real estate lease interest income secure loan make office property property disposition fee income assetproperty management development invest infill central business district office property unite state sunbelt mountain west region well select opportunistic market believe united state sunbelt mountain west region macroeconomic driver potential increase occupancies rent seek valueoriented investment eye towards longterm growth appreciation well current income previously also operated investment banking segment discontinue december investment banking segment generate brokerage commission loan origination fee development service fee related organization singlepurpose entity real estate private placement equity entity refer entity organize corporation operate manner intend qualify reit sponsor reit december announced brokerdealer subsidiary fsp investment llc would longer sponsor syndication share prefer stock newlyformed sponsor reit july fsp investment llc withdrew registration brokerdealer finra timetotime may acquire real estate invest real estate making secure loan real estate may also pursue selective basis sale property take advantage value creation demand property geographic property specific reason real estate operate portfolio real estate consist office property december derive rental revenue income pay us tenant property see item annual report form k information property timetotime dispose property generate gain loss ongoing effort improve upgrade portfolio provide asset management property management property accounting investor andor development service portfolio certain sponsor reit subsidiary fsp investment llc fsp property management llc fsp corp recognize revenue receipt fee income sponsor reit consolidate acquire us neither fsp investment llc fsp property management llc receive rental income timetotime may make secured loan sponsor reit form mortgage loan revolve line credit fund construction cost capital expenditure lease cost purpose anticipate loan repay maturity earlier longterm financing underlie property cash flow underlie property capital event refer loan sponsor reit loan one sponsor reit loan secure real estate outstanding december derive interest income sustainability owner commercial real estate sector significant environmental social governance esg impact strive maximize shareholder value prudent application sound esg strategy effort award recognition various third party review entity gresb energy star leed impact covid covid pandemic cause severe disruption us global economy expect continue adverse impact financial condition result operation impact could materially adverse extent current covid pandemic future pandemic cause tenant unable pay rent reduce demand commercial real estate see item risk factor item management discussion analysis financial condition result operation additional information investment objectives investment objective create shareholder value increase revenue rental dividend interest fee income net gain sale property increase cash available distribution form dividend stockholder expect continue derive real estate revenue own property sponsor reit loan fee asset management property management investor service may also acquire additional real property although property portfolio focus property central business district atlanta dallas denver houston minneapolis may acquire acquire real property geographic area united state property type office property locate eight different state december see item annual report form k information property determine debt reduction would provide great financial flexibility potentially increase shareholder value continue believe current price common stock accurately reflect value underlie real estate asset intend continue strategy initially adopt seek increase shareholder value sale select property believe short intermediate term valuation potential reach pursuant strategy anticipate disposition result estimate aggregate gross proceeds range approximately million million result time time market condition warrant expect sell property own us sold office property locate four different state aggregate gross sale proceeds million net gain million sell office property locate durham north carolina gross proceeds approximately million net gain approximately million sell property continue execute property disposition strategy revenue fund operation capital expenditures likely decrease short term proceeds disposition intend use repayment debt repurchase common stock special dividend require meet reit requirement general corporate purpose rely follow principle select real property acquisition fsp corp manage acquisition seek buy develop investment property price produce value investor avoid overpay real estate merely outbid competitor seek buy develop property excellent location substantial infrastructure place around avoid invest location future construction infrastructure speculative seek buy develop property wellconstructed design appeal broad base user avoid property quality sacrifice cost saving construction appeal narrow group user aggressively manage maintain upgrade property refuse neglect undercapitalize management maintenance capital improvement program believe ability hold property cycle generally mortgage debt company could place property risk foreclosure february none own property subject mortgage debt competition respect real estate investment face competition market property locate order establish maintain increase rental revenue property must competitive location cost amenity building similar use competitor may significantly resource may able offer attractive rental rate service hand competitor may small less fixed overhead cost less cash resource make willing able accept lower rent order maintain certain occupancy level market currently significant exist property competition competitor may decide enter market build new building compete exist project development stage competition developer also property user choose build portion building form office condominium competitive condition affect large market force beyond control general economic condition may increase competition among landlord quality tenant individual decision tenant beyond control governmental regulation various federal state local law ordinance regulation owner operator real property may become liable cost removal remediation certain hazardous substance release property law may impose liability without regard whether owner operator know caused release hazardous substance presence hazardous substance property may adversely affect owner ability sell property borrow use property collateral may cause owner property incur substantial remediation cost addition claim cleanup cost presence hazardous substance property could result owner incur substantial liability result claim private party personal injury claim adjacent property owner property damage property require comply americans disability act ada regulation rule order may issue thereunder ada separate compliance requirement public accommodation commercial facility generally require building make accessible person disability compliance ada requirement might require among thing removal access barrier noncompliance requirement could result imposition fine us government award damage private litigant addition require operate property compliance fire safety regulation build code land use regulation may adopt governmental agency body become applicable property compliance requirement may require us make substantial capital expenditure expenditure would reduce cash otherwise available distribution stockholder provision tax code govern taxation reit technical complex although expect organize operate manner enable us meet requirement assurance give always succeed taxable year qualify reit would tax corporation distribution stockholder would deductible us compute taxable income addition fail qualify reit could disqualify treatment reit year failure occur next four taxable year consequently would tax regular corporation year failure qualify even one taxable year could result significant reduction cash available distribution stockholder could require us incur indebtedness liquidate investment order generate sufficient fund pay result federal income tax liability see item risk factor item management discussion analysis financial condition result operation additional information human capital employee february december respectively woman represent employee hold management levelleadership roles endeavor maintain workplace free discrimination harassment basis color race sex national origin ethnicity religion age disability sexual orientation gender identification expression status protect applicable law regularly conduct training prevent harassment discrimination companys basis recruitment hire development train compensation advancement employee qualification performance skill experience many employee long tenure company employee compensate without regard gender race ethnicity compensation program design attract retain talent covid pandemic employee offer workfromhome flexibility meet personal family need available information make available free charge website httpwwwfspreitcom annual report form k quarterly report form q current report form k amendment report file furnished pursuant section security exchange act amend soon reasonably practicable electronically file material security exchange commission sec voluntarily provide paper copy filing code ethic upon write request receive address cover annual report form k free charge information director follow table set forth name age position director february name age position george j carterchief executive officer chairman board john n burke director brian n hansen director kenneth hoxsie director dennis j mcgillicuddy director georgia murray director kathryn p oneil director member audit committee member compensation committee member nominate corporate governance committee chair audit committee chair compensation committee chair nominate corporate governance committee lead independent director george j carter age chief executive officer chairman board director fsp corp since mr carter also president fsp corp may mr carter responsible aspect business fsp corp affiliate special emphasis evaluation acquisition structure real estate investment prior conversion president general partner fsp partnership responsible aspect business fsp partnership affiliate president boston financial security inc boston financial prior join boston financial mr carter owner developer gloucester dry dock commercial shipyard gloucester massachusetts mr carter serve manage director charge marketing first winthrop corporation national real estate investment banking firm headquarter boston massachusetts prior hold number position brokerage industry include merrill lynch co loeb rhodes co mr carter graduate university miami b john n burke age director fsp corp since chair audit committee since june mr burke certify public accountant year experience practice public accounting work private publicly trade company extensive experience serve client real estate reit industry experience include analysis evaluation financial report account system internal control audit matter mr burke involve advisor several public offering private equity debt financing merger acquisition transaction mr burke consult experience include wide range accounting tax business planning matter prior start firm mr burke audit partner boston office bdo usa llp mr burke member american institute certify public accountant massachusetts society cpa mr burke earn ms taxation study undergraduate accounting bentley university brian n hansen age director fsp corp since become chair compensation committee february since mr hansen serve president chief operate officer confluence investment management llc st louis base registered investment advisor prior found confluence mr hansen serve manage director ag edward financial institution real estate investment banking practice ag edward mr hansen advise wide variety real estate investment trust numerous capital market transaction include public private offering debt equity security well analysis various merger acquisition opportunity prior join ag edward mr hansen serve manager arthur andersen llps audit business advisory practice mr hansen serve board number nonprofit entity currently serve finance council investment committee chair archdiocese st louis member st louis county retirement board mr hansen earn mba kellogg school management northwestern university bachelor science commerce depaul university mr hansen certify public accountant kenneth hoxsie age director fsp corp since january become chair nominate corporate governance committee february mr hoxsie partner international law firm wilmer cutler pickering hale dorr llp wilmerhale retirement december join hale dorr predecessor wilmerhale subsequently work copley real estate advisor institutional real estate investment advisory firm rejoin hale dorr mr hoxsie year experience real estate capital market transaction fund formation public company counsel merger acquisition advise company since formation mr hoxsie earn jd cum laude harvard law school harvard university ba summa cum laude amherst college elect phi beta kappa dennis j mcgillicuddy age director fsp corp since may mr mcgillicuddy graduate university florida ba degree university florida law school jd degree mr mcgillicuddy join barry silverstein found coaxial communication cable television company coaxial sell cable system mr mcgillicuddy serve board various charitable organization currently president board trustees florida studio theater professional non profit theater organization president vicechairman director allstar childrens foundation organization engage create new paradigm foster care georgia murray age director fsp corp since april lead independent director since february m murray retire lend lease real estate investment inc serve principal november may october ms murray work boston financial group inc serve senior vice president director time tenure boston financial affiliate boston financial group inc past trustee urban land institute past president multifamily housing institute m murray previously serve board director capital cross bank also serve board numerous nonprofit entity ms murray graduate newton college kathryn p oneil age director fsp corp since january m oneil director bain capital investor relation area focus private equity oversight investment advisory sector retirement ms oneil partner flag capital management llc manager fundoffunds investment vehicle private equity venture capital real estate natural resource previously ms oneil investment consultant cambridge associate specialize alternative asset ms oneil currently serve variety nonprofit board include peabody essex museum director member finance investment committee horizon homeless child director serve executive finance committee trustee reservation serf president council member investment committee ms oneil trustee emeritus colby college former member board overseers boston museum science ms oneil hold ba summa cum laude honorary colby college elect phi beta kappa m oneil receive mba harvard graduate school business administration information executive officer follow table set forth name age position executive officer february name age position george j carter chief executive officer chairman boardjeffrey b carterpresident chief investment officerscott h carterexecutive vice president general counsel secretaryjohn g demerittexecutive vice president chief financial officer treasurerjohn f donahueexecutive vice presidenteriel anchondoexecutive vice president chief operate officer information george j carter set forth see director fsp corp jeffrey b carter age president chief investment officer fsp corp mr carter serve executive vice president chief investment officer february may appoint president addition position chief investment officer previously mr carter serve senior vice president director acquisition fsp corp vice president acquisition mr carter oversees daytoday execution company strategic objective business plan addition mr carter primarily responsible develop implement company investment strategy include coordination acquisition disposition prior join fsp corp mr carter work trust administration northern trust bank miami florida mr carter graduate arizona state university ba george washington university cornell university mba mr carter father george j carter serf chief executive officer chairman board director fsp corp mr carter brother scott h carter serve executive vice president general counsel secretary fsp corp scott h carter age executive vice president general counsel secretary fsp corp mr carter serve general counsel since february mr carter join fsp corp october senior vice president inhouse counsel mr carter primarily responsible management legal affair fsp corp affiliate prior join fsp corp october mr carter associate law firm nixon peabody llp originally join nixon peabody llp mr carter concentrate practice area real estate syndication acquisition finance mr carter receive bachelor business administration bba degree finance marketing juris doctor jd degree university miami mr carter admit practice law commonwealth massachusetts mr carter father george j carter serf chief executive officer chairman board director fsp corp mr carter brother jeffrey b carter serve president chief investment officer fsp corp john g demeritt age executive vice president chief financial officer treasurer fsp corp chief financial officer since march mr demeritt previously serve senior vice president finance principal accounting officer september march prior september mr demeritt manager caturano company independent accounting firm later merge mcgladrey focus sarbanes oxley compliance previously march march provide consult service public private company focus sec filing evaluation business process acquisition integration vice president financial planning analysis cabot industrial trust publicly trade real estate investment trust acquire calwest december october december controller officer meditrust company publicly trade real estate investment trust formerly know la quinta company acquire blackstone group involve number merger finance transaction prior financial accounting responsibility three public company previously associate laventhol horwath independent accounting firm mr demeritt certify public accountant hold bachelor science degree babson college john f donahue age executive vice president fsp corp president fsp property management llc hold position since may mr donahue primarily responsible oversight management real estate asset fsp corp affiliate mr donahue join fsp corp august vice president fsp property management llc may mr donahue responsible management real estate asset fsp corp affiliate mr donahue work pension fund advisory business ge capital aew capital management oversight office research development industrial land investment mr donahue work krupp realty various account finance role mr donahue hold bachelor science business administration degree bryant college eriel anchondo age executive vice president chief operate officer fsp corp held position since may mr anchondo join fsp corp senior vice president operation mr anchondo responsible ensure company proper operational control administrative reporting procedure people system infrastructure place effectively grow organization maintain financial strength operating efficiency prior join fsp corp july december mr anchondo provide consulting service retail banking division isban part technology operation division santander group financial institution may july mr anchondo employ mercer global consulting leader talent health retirement investment employee education manager across line mercer business may may mr anchondo communication consultant new york life investment management december may mr anchondo work preferred client service group putnam investment mr anchondo graduate boston university ba cornell university mba executive officer fulltime employee fsp corp past five fiscal year'"
      ]
     },
     "execution_count": 27,
     "metadata": {},
     "output_type": "execute_result"
    }
   ],
   "source": [
    "# EJEMPLO DE TEXTO LEMATIZADO\n",
    "lemmatize_sentence(clean_2022[\"item_1\"].iloc[0])"
   ]
  },
  {
   "cell_type": "code",
   "execution_count": 44,
   "metadata": {},
   "outputs": [
    {
     "name": "stderr",
     "output_type": "stream",
     "text": [
      "Lematizando:   0%|          | 0/6048 [02:59<?, ?it/s]\n"
     ]
    }
   ],
   "source": [
    "# CÁLCULO CON MULTIPROCESO\n",
    "with tqdm_joblib(tqdm.tqdm(desc=\"Lematizando\", total=clean_2022[\"item_1\"].shape[0])) as progress_bar:\n",
    "    resultados = joblib.Parallel(n_jobs=cores)(joblib.delayed(lemmatize_sentence)\n",
    "                                               (sentence = i) for i in clean_2022[\"item_1\"])"
   ]
  },
  {
   "cell_type": "code",
   "execution_count": 46,
   "metadata": {},
   "outputs": [],
   "source": [
    "# Generamos un dataframe con el ticker y el texto lematizado\n",
    "res_2022 = pd.DataFrame()\n",
    "res_2022['ticker'] = clean_2022.ticker\n",
    "res_2022['text'] = resultados\n"
   ]
  },
  {
   "cell_type": "code",
   "execution_count": 47,
   "metadata": {},
   "outputs": [],
   "source": [
    "#para guardarlo en disco y no tener que volver a calcularlo\n",
    "res_2022.to_pickle('data/res_2022.pkl')"
   ]
  },
  {
   "cell_type": "code",
   "execution_count": 29,
   "metadata": {},
   "outputs": [
    {
     "name": "stdout",
     "output_type": "stream",
     "text": [
      "6048\n",
      "item business history company franklin street property corp refer fsp corp company maryland corporation operate manner intend qualify real estate investment trust reit federal income tax purpose common stock trade nyse american symbol fsp fsp corp successor franklin street partner limit partnership fsp partnership originally form massachusetts general partnership january successor massachusetts general partnership form january fsp partnership convert fsp corp refer conversion result conversion fsp partnership cease exist succeed business fsp partnership conversion unit general limited partnership interest fsp partnership convert one share common stock result conversion hold directly indirectly interest three former subsidiary fsp partnership fsp investment llc fsp property management llc fsp holding llc operate business subsidiary business reit focus commercial real estate investment primarily office market currently operate one segment real estate operation principal revenue source re\n"
     ]
    }
   ],
   "source": [
    "print(len(resultados)) # Check de longitud\n",
    "print(resultados[0][:1000]) # Check de texto lematizado"
   ]
  },
  {
   "attachments": {},
   "cell_type": "markdown",
   "metadata": {},
   "source": [
    "### ANÁLISIS NER PARA SEPARAR SUSTANTIVOS; ADJETIVOS Y VERBOS"
   ]
  },
  {
   "cell_type": "code",
   "execution_count": 54,
   "metadata": {},
   "outputs": [],
   "source": [
    "def lista_sustantivos(texto):\n",
    "    return [word for (word, pos) in nltk.pos_tag(nltk.word_tokenize(texto)) if pos[0] == 'N']"
   ]
  },
  {
   "cell_type": "code",
   "execution_count": 59,
   "metadata": {},
   "outputs": [
    {
     "name": "stderr",
     "output_type": "stream",
     "text": [
      "Progreso:   0%|          | 0/6048 [02:45<?, ?it/s]\n"
     ]
    }
   ],
   "source": [
    "with tqdm_joblib(tqdm.tqdm(desc=\"Progreso\", total=res_2022['text'].shape[0])) as progress_bar:\n",
    "    res_2022['noun'] = joblib.Parallel(n_jobs=cores)(joblib.delayed(lista_sustantivos)\n",
    "                                               (texto = i) for i in res_2022['text'])"
   ]
  },
  {
   "cell_type": "code",
   "execution_count": 60,
   "metadata": {},
   "outputs": [],
   "source": [
    "def lista_adjetivos(texto):\n",
    "    return [word for (word, pos) in nltk.pos_tag(nltk.word_tokenize(texto)) if pos[0] == 'J']"
   ]
  },
  {
   "cell_type": "code",
   "execution_count": 61,
   "metadata": {},
   "outputs": [
    {
     "name": "stderr",
     "output_type": "stream",
     "text": [
      "Progreso:   0%|          | 0/6048 [02:43<?, ?it/s]\n"
     ]
    }
   ],
   "source": [
    "with tqdm_joblib(tqdm.tqdm(desc=\"Progreso\", total=res_2022['text'].shape[0])) as progress_bar:\n",
    "    res_2022['adjective'] = joblib.Parallel(n_jobs=cores)(joblib.delayed(lista_adjetivos)\n",
    "                                               (texto = i) for i in res_2022['text'])"
   ]
  },
  {
   "cell_type": "code",
   "execution_count": 62,
   "metadata": {},
   "outputs": [],
   "source": [
    "def lista_verbos(texto):\n",
    "    return [word for (word, pos) in nltk.pos_tag(nltk.word_tokenize(texto)) if pos[0] == 'V']"
   ]
  },
  {
   "cell_type": "code",
   "execution_count": 63,
   "metadata": {},
   "outputs": [
    {
     "name": "stderr",
     "output_type": "stream",
     "text": [
      "Progreso:   0%|          | 0/6048 [02:43<?, ?it/s]\n"
     ]
    }
   ],
   "source": [
    "with tqdm_joblib(tqdm.tqdm(desc=\"Progreso\", total=res_2022['text'].shape[0])) as progress_bar:\n",
    "    res_2022['verb'] = joblib.Parallel(n_jobs=cores)(joblib.delayed(lista_verbos)\n",
    "                                               (texto = i) for i in res_2022['text'])"
   ]
  },
  {
   "cell_type": "code",
   "execution_count": 64,
   "metadata": {},
   "outputs": [],
   "source": [
    "def lista_adverbios(texto):\n",
    "    return [word for (word, pos) in nltk.pos_tag(nltk.word_tokenize(texto)) if pos[0] == 'R']"
   ]
  },
  {
   "cell_type": "code",
   "execution_count": 65,
   "metadata": {},
   "outputs": [
    {
     "name": "stderr",
     "output_type": "stream",
     "text": [
      "Progreso:   0%|          | 0/6048 [02:40<?, ?it/s]\n"
     ]
    }
   ],
   "source": [
    "with tqdm_joblib(tqdm.tqdm(desc=\"Progreso\", total=res_2022['text'].shape[0])) as progress_bar:\n",
    "    res_2022['adverb'] = joblib.Parallel(n_jobs=cores)(joblib.delayed(lista_adverbios)\n",
    "                                               (texto = i) for i in res_2022['text'])"
   ]
  },
  {
   "cell_type": "code",
   "execution_count": 71,
   "metadata": {},
   "outputs": [],
   "source": [
    "#para guardarlo en disco y no tener que volver a calcularlo\n",
    "res_2022.to_pickle('data/res_2022.pkl')"
   ]
  },
  {
   "cell_type": "code",
   "execution_count": 74,
   "metadata": {},
   "outputs": [],
   "source": [
    "# Sacamos el número de palabras por tipo\n",
    "\n",
    "num_nouns_2022 = res_2022['noun'].apply(lambda x: len(x))\n",
    "num_adjectives_2022 = res_2022['adjective'].apply(lambda x: len(x))\n",
    "num_verbs_2022 = res_2022['verb'].apply(lambda x: len(x))\n",
    "num_adverbs_2022 = res_2022['adverb'].apply(lambda x: len(x))"
   ]
  },
  {
   "cell_type": "code",
   "execution_count": 75,
   "metadata": {},
   "outputs": [
    {
     "data": {
      "image/png": "[encoded data removed]",
      "text/plain": [
       "<Figure size 1200x600 with 1 Axes>"
      ]
     },
     "metadata": {},
     "output_type": "display_data"
    }
   ],
   "source": [
    "# Graficamos el histograma de número de palabras por tipo\n",
    "\n",
    "fig, ax = plt.subplots(figsize=(12,6))\n",
    "plt.hist(num_nouns_2022, bins=100, alpha=0.3, label=\"noun\");\n",
    "plt.hist(num_adjectives_2022.values, bins=100, alpha=0.3, label=\"adjective\");\n",
    "plt.hist(num_verbs_2022.values, bins=100, alpha=0.3, label=\"verb\");\n",
    "plt.hist(num_adverbs_2022.values, bins=100, alpha=0.3, label=\"adverb\");\n",
    "plt.legend()\n",
    "plt.title(\"Histograma Número de tipo de palabra por fichero 10-K\")\n",
    "plt.show()\n",
    "fig.savefig('imgs/NER_hist.png', bbox_inches='tight')"
   ]
  },
  {
   "attachments": {},
   "cell_type": "markdown",
   "metadata": {},
   "source": [
    "Calculamos el número de veces que aparece cada una de las palabras"
   ]
  },
  {
   "cell_type": "code",
   "execution_count": 78,
   "metadata": {},
   "outputs": [],
   "source": [
    "nouns_2022 =res_2022['noun'].explode().value_counts()\n",
    "adjectives_2022 =res_2022['adjective'].explode().value_counts()\n",
    "adverb_2022 = res_2022['adverb'].explode().value_counts()\n",
    "verbs_2022 = res_2022['verb'].explode().value_counts()"
   ]
  },
  {
   "attachments": {},
   "cell_type": "markdown",
   "metadata": {},
   "source": [
    "### Limpieza inicial de los textos del año 2021"
   ]
  },
  {
   "cell_type": "code",
   "execution_count": 26,
   "metadata": {},
   "outputs": [],
   "source": [
    "clean_2021 = raw_data.copy()\n",
    "clean_2021 = clean_2021.loc[clean_2021.filing_date==\"2021\"]\n",
    "clean_2021.item_1 = limpieza_basica(clean_2021.item_1)"
   ]
  },
  {
   "cell_type": "code",
   "execution_count": 27,
   "metadata": {},
   "outputs": [],
   "source": [
    "# SOLO LINUX:\n",
    "h = Hunspell()\n",
    "\n",
    "clean_2021[\"item_1\"] = clean_2021[\"item_1\"].apply(\n",
    "    lambda x: ' '.join(\n",
    "        [word for word in x.split() \n",
    "        if h.spell(word)]\n",
    "        )\n",
    "    )"
   ]
  },
  {
   "cell_type": "code",
   "execution_count": 28,
   "metadata": {},
   "outputs": [
    {
     "name": "stderr",
     "output_type": "stream",
     "text": [
      "Lematizando:   0%|          | 0/5758 [02:11<?, ?it/s]\n"
     ]
    }
   ],
   "source": [
    "# CÁLCULO CON MULTIPROCESO\n",
    "with tqdm_joblib(tqdm.tqdm(desc=\"Lematizando\", total=clean_2021[\"item_1\"].shape[0])) as progress_bar:\n",
    "    resultados = joblib.Parallel(n_jobs=cores)(joblib.delayed(lemmatize_sentence)\n",
    "                                               (sentence = i) for i in clean_2021[\"item_1\"])"
   ]
  },
  {
   "cell_type": "code",
   "execution_count": 30,
   "metadata": {},
   "outputs": [],
   "source": [
    "res_2021 = pd.DataFrame()\n",
    "res_2021['ticker'] = clean_2021.ticker\n",
    "res_2021['text'] = resultados"
   ]
  },
  {
   "cell_type": "code",
   "execution_count": 31,
   "metadata": {},
   "outputs": [],
   "source": [
    "#para guardarlo en disco y no tener que volver a calcularlo\n",
    "res_2021.to_pickle('data/res_2021.pkl')"
   ]
  },
  {
   "attachments": {},
   "cell_type": "markdown",
   "metadata": {},
   "source": [
    "## **2 - EMBEDDINGS:**"
   ]
  },
  {
   "attachments": {},
   "cell_type": "markdown",
   "metadata": {},
   "source": [
    "### **PYPI [FINBERT-EMBEDDING](https://appliedmachinelearning.wordpress.com/2020/01/22/introducing-finbert-embedding-pypi-bert-language-model-fine-tuned-on-financial-data/):**\n",
    "\n",
    "[GITHUB](https://github.com/abhijeet3922/finbert_embedding)\n",
    "\n",
    "Extrae el procesado de tokens y embedding del modelo FINBERT.\n",
    "\n",
    "**Esta librería está ROTA**. Revisando su documentación se puede apreciar como el autor vincula partes clave de la librería a localizaciones de descarga de los modelos en su propio drobox y gdrive, que ahora están rotos. Es por esto que nosotros debemos proporcionarle el modelo en la forma de un modelo descargado y señalar el path a ese modelo."
   ]
  },
  {
   "attachments": {},
   "cell_type": "markdown",
   "metadata": {},
   "source": [
    "Para esa librería se ha escogido el [modelo Finbert elaborado por ProsusAI](https://huggingface.co/ProsusAI/finbert/tree/main) por ser uno de los más extendidos.\n",
    "\n",
    "Es de destacar que en las últimas versiones los modelos se importan como una carpeta con varios documentos."
   ]
  },
  {
   "cell_type": "code",
   "execution_count": 84,
   "metadata": {},
   "outputs": [],
   "source": [
    "# Localización del modelo:\n",
    "\n",
    "# PATH GUILLERMO:\n",
    "finbert_path = \"G:/Mi unidad/mIA-X_08/TFM_Alfonso/tfm/models/ProsusAI/finbert/\"\n",
    "\n",
    "# Descargar el modelo de PROSUS AI en ese path.\n",
    "# El modelo son todos los archivos que hay."
   ]
  },
  {
   "cell_type": "code",
   "execution_count": 85,
   "metadata": {},
   "outputs": [],
   "source": [
    "# Creamos el 'motor' (clase) de tokenización y embedding:\n",
    "fin_embedder = femb.embedding.FinbertEmbedding(model_path=finbert_path)"
   ]
  },
  {
   "attachments": {},
   "cell_type": "markdown",
   "metadata": {},
   "source": [
    "**Ahora podemos convertir en vectores (tokenización+embedding) palabras o frases.**\n",
    "\n",
    "Básicamente si le pasamos una frase podemos elegir tokenizar cada palabra (un vector por palabra) o la frase entera (promedio de los vectores de cada palabra que compone la frase)."
   ]
  },
  {
   "attachments": {},
   "cell_type": "markdown",
   "metadata": {},
   "source": [
    "#### PALABRAS:"
   ]
  },
  {
   "cell_type": "code",
   "execution_count": 92,
   "metadata": {},
   "outputs": [],
   "source": [
    "texto_prueba0 = clean_2022.item_1.iloc[0]\n",
    "texto_prueba1 = clean_2022.item_1.iloc[1]\n",
    "texto_prueba2 = clean_2022.item_1.iloc[2]"
   ]
  },
  {
   "cell_type": "code",
   "execution_count": 93,
   "metadata": {},
   "outputs": [
    {
     "name": "stdout",
     "output_type": "stream",
     "text": [
      "EJ1 Longitud: 2800\n",
      "EJ2 Longitud: 1589\n",
      "EJ3 Longitud: 5311\n"
     ]
    }
   ],
   "source": [
    "# ¿CUANTAS PALABRAS TIENEN NUESTROS EJEMPLOS?\n",
    "print('EJ1 Longitud:',len(texto_prueba0.split()))\n",
    "print('EJ2 Longitud:',len(texto_prueba1.split()))\n",
    "print('EJ3 Longitud:',len(texto_prueba2.split()))\n",
    "      "
   ]
  },
  {
   "attachments": {},
   "cell_type": "markdown",
   "metadata": {},
   "source": [
    "Podemos pasarle el texto directamente, él ya se encarga de pasarlo a vector:"
   ]
  },
  {
   "cell_type": "code",
   "execution_count": 94,
   "metadata": {},
   "outputs": [],
   "source": [
    "# PALABRA:\n",
    "embed_por_palabra0 = fin_embedder.word_vector(texto_prueba0)\n",
    "embed_por_palabra1 = fin_embedder.word_vector(texto_prueba1)\n",
    "embed_por_palabra2 = fin_embedder.word_vector(texto_prueba2)"
   ]
  },
  {
   "cell_type": "code",
   "execution_count": 95,
   "metadata": {},
   "outputs": [
    {
     "name": "stdout",
     "output_type": "stream",
     "text": [
      "Emb1 Longitud: 430\n",
      "Emb2 Longitud: 455\n",
      "Emb3 Longitud: 420\n"
     ]
    }
   ],
   "source": [
    "# ¿CUANTOS VECTORES (PALABRAS) SE HAN TRANSFORMADO?\n",
    "print('Emb1 Longitud:',len(embed_por_palabra0))\n",
    "print('Emb2 Longitud:',len(embed_por_palabra1))\n",
    "print('Emb3 Longitud:',len(embed_por_palabra2))"
   ]
  },
  {
   "cell_type": "code",
   "execution_count": 98,
   "metadata": {},
   "outputs": [
    {
     "data": {
      "text/plain": [
       "torch.Size([768])"
      ]
     },
     "execution_count": 98,
     "metadata": {},
     "output_type": "execute_result"
    }
   ],
   "source": [
    "# EL ESPACIO LATENTE TIENE 768 DIMENSIONES:\n",
    "embed_por_palabra0[0].shape"
   ]
  },
  {
   "attachments": {},
   "cell_type": "markdown",
   "metadata": {},
   "source": [
    "**Nótese que, desde luego, no ha cogido todas las palabras, tiende a quedarse aprox entre 400-450 palabras. ¿Por qué esta varianza? Probablemente tenga esto que ver con un límite no a las palabras sino a la longitud del texto. Hemos de considerar por tanto este límite.**"
   ]
  },
  {
   "attachments": {},
   "cell_type": "markdown",
   "metadata": {},
   "source": [
    "#### FRASES:"
   ]
  },
  {
   "attachments": {},
   "cell_type": "markdown",
   "metadata": {},
   "source": [
    "Lo anterior es relevante dado que no debemos caer en el equívoco de pensar que por hacer el embedding sobre textos largos se va a considerar el grueso del texto. Solo considera las primeras 450 palabras aproximadamente.\n",
    "\n",
    "**Por el momento voy a trabajar bajo la asunción de que esto es representativo.**"
   ]
  },
  {
   "cell_type": "code",
   "execution_count": 99,
   "metadata": {},
   "outputs": [],
   "source": [
    "# 'FRASES':\n",
    "embed_por_frase0 = fin_embedder.sentence_vector(texto_prueba0)\n",
    "embed_por_frase1 = fin_embedder.sentence_vector(texto_prueba1)\n",
    "embed_por_frase2 = fin_embedder.sentence_vector(texto_prueba2)\n",
    "\n",
    "embeddings = [embed_por_frase0, embed_por_frase1, embed_por_frase2]"
   ]
  },
  {
   "cell_type": "code",
   "execution_count": 100,
   "metadata": {},
   "outputs": [
    {
     "data": {
      "text/html": [
       "<div>\n",
       "<style scoped>\n",
       "    .dataframe tbody tr th:only-of-type {\n",
       "        vertical-align: middle;\n",
       "    }\n",
       "\n",
       "    .dataframe tbody tr th {\n",
       "        vertical-align: top;\n",
       "    }\n",
       "\n",
       "    .dataframe thead th {\n",
       "        text-align: right;\n",
       "    }\n",
       "</style>\n",
       "<table border=\"1\" class=\"dataframe\">\n",
       "  <thead>\n",
       "    <tr style=\"text-align: right;\">\n",
       "      <th></th>\n",
       "      <th>Prueba1</th>\n",
       "      <th>Prueba2</th>\n",
       "      <th>Prueba3</th>\n",
       "    </tr>\n",
       "  </thead>\n",
       "  <tbody>\n",
       "    <tr>\n",
       "      <th>Prueba1</th>\n",
       "      <td>1.000000</td>\n",
       "      <td>0.849596</td>\n",
       "      <td>0.889074</td>\n",
       "    </tr>\n",
       "    <tr>\n",
       "      <th>Prueba2</th>\n",
       "      <td>0.849596</td>\n",
       "      <td>1.000000</td>\n",
       "      <td>0.819585</td>\n",
       "    </tr>\n",
       "    <tr>\n",
       "      <th>Prueba3</th>\n",
       "      <td>0.889074</td>\n",
       "      <td>0.819585</td>\n",
       "      <td>1.000000</td>\n",
       "    </tr>\n",
       "  </tbody>\n",
       "</table>\n",
       "</div>"
      ],
      "text/plain": [
       "          Prueba1   Prueba2   Prueba3\n",
       "Prueba1  1.000000  0.849596  0.889074\n",
       "Prueba2  0.849596  1.000000  0.819585\n",
       "Prueba3  0.889074  0.819585  1.000000"
      ]
     },
     "execution_count": 100,
     "metadata": {},
     "output_type": "execute_result"
    }
   ],
   "source": [
    "# DEFINIMOS MATRIZ DE DISTANCIAS:\n",
    "distance_matrix = pd.DataFrame(np.zeros((3,3)))\n",
    "distance_matrix.columns = distance_matrix.index = ['Prueba1','Prueba2','Prueba3']\n",
    "\n",
    "\n",
    "# RELLENAMOS:\n",
    "for i in range(3):\n",
    "    for j in range(3):\n",
    "        distancia = scipy.spatial.distance.cosine(embeddings[i],embeddings[j])\n",
    "        distance_matrix.iloc[i,j]= 1-distancia # 1 = máxima similitud\n",
    "\n",
    "distance_matrix"
   ]
  },
  {
   "attachments": {},
   "cell_type": "markdown",
   "metadata": {},
   "source": [
    "¿Es la función de similitud por cosenos una buena aproximación? Podemos afirmar esto para las palabras, pero en las frases es más complicado defenderlo, especialmente cuando las frases (textos) son muy largos y la vectorización termina siendo un promedio. Hay que investigar más esto.\n",
    "\n",
    "**Pero lo cierto es que con esto YA SE PUEDE METER CUALQUIER TEXTO Y ORDENAR POR SIMILITUD**"
   ]
  },
  {
   "attachments": {},
   "cell_type": "markdown",
   "metadata": {},
   "source": [
    "## OTROS IMPORTANTES:"
   ]
  },
  {
   "attachments": {},
   "cell_type": "markdown",
   "metadata": {},
   "source": [
    "### FINBERT POR DESCARGA:\n",
    "\n",
    "Implementar Finbert de Prosus AI por descarga directa desde código"
   ]
  },
  {
   "attachments": {},
   "cell_type": "markdown",
   "metadata": {},
   "source": [
    "[SIN USO POR AHORA]\n",
    "\n",
    "FINBERT DESCARGADO DIRECTAMENTE\n",
    "\n",
    "https://metatext.io/models/prosusai-finbert"
   ]
  },
  {
   "cell_type": "code",
   "execution_count": 66,
   "metadata": {},
   "outputs": [
    {
     "name": "stderr",
     "output_type": "stream",
     "text": [
      "Some weights of the model checkpoint at ProsusAI/finbert were not used when initializing BertModel: ['classifier.bias', 'classifier.weight']\n",
      "- This IS expected if you are initializing BertModel from the checkpoint of a model trained on another task or with another architecture (e.g. initializing a BertForSequenceClassification model from a BertForPreTraining model).\n",
      "- This IS NOT expected if you are initializing BertModel from the checkpoint of a model that you expect to be exactly identical (initializing a BertForSequenceClassification model from a BertForSequenceClassification model).\n"
     ]
    }
   ],
   "source": [
    "# CONSEGUIMOS UN MODELO Y TOKENIZADOR DE FINBERT\n",
    "modelo_nombre = \"ProsusAI/finbert\"\n",
    "modelo = transformers.AutoModel.from_pretrained(modelo_nombre)\n",
    "tokenizador = transformers.AutoTokenizer.from_pretrained(modelo_nombre)"
   ]
  },
  {
   "cell_type": "code",
   "execution_count": 67,
   "metadata": {},
   "outputs": [
    {
     "data": {
      "text/plain": [
       "BaseModelOutputWithPoolingAndCrossAttentions(last_hidden_state=tensor([[[ 0.0485,  0.3989, -0.7782,  ..., -1.1424, -0.4418,  0.9060],\n",
       "         [-0.2865,  0.3909,  0.3491,  ..., -0.8369,  0.2176,  0.2759],\n",
       "         [-0.7373,  0.5872,  0.2113,  ..., -0.8974,  0.0479,  0.5526],\n",
       "         ...,\n",
       "         [ 0.1837, -0.2027, -0.3213,  ..., -0.4087, -0.5724, -0.0284],\n",
       "         [-0.0552,  0.0847, -0.6821,  ..., -0.1889, -0.0094,  0.3613],\n",
       "         [ 0.1694,  0.0199, -0.0530,  ...,  0.0037, -0.6747,  0.3087]]],\n",
       "       grad_fn=<NativeLayerNormBackward0>), pooler_output=tensor([[-0.9303, -0.4025, -0.9620,  0.8960,  0.9708, -0.2374,  0.8661,  0.0139,\n",
       "         -0.7555, -0.9999, -0.8831,  0.9993,  0.9941, -0.4018,  0.9793, -0.6379,\n",
       "         -0.5744, -0.3711, -0.0205,  0.0289,  0.8299,  1.0000,  0.0336, -0.1803,\n",
       "          0.0573,  1.0000, -0.9079,  0.9847,  0.9786,  0.8148, -0.5410, -0.1662,\n",
       "         -0.9993,  0.2705, -0.9904, -0.9961,  0.5257, -0.7170,  0.3510,  0.2634,\n",
       "         -0.9719, -0.0862,  1.0000,  0.6069,  0.9130,  0.4154, -1.0000, -0.1756,\n",
       "         -0.9530,  0.9887,  0.9575,  0.9891, -0.3872,  0.4610,  0.3117, -0.5913,\n",
       "          0.1136, -0.0144, -0.0881,  0.0436,  0.0013,  0.4855, -0.9699, -0.8242,\n",
       "          0.9985,  0.8421, -0.0794, -0.2904,  0.1211, -0.4547,  0.8504,  0.1665,\n",
       "          0.5138, -0.9736,  0.5291, -0.0383,  0.6245,  1.0000, -0.8167, -0.9979,\n",
       "          0.9631,  0.4604, -0.6560,  0.2778, -0.5167, -1.0000,  0.4420,  0.0652,\n",
       "         -0.9984, -0.2487,  0.8044, -0.1175,  0.3484, -0.7799,  0.6489, -0.5534,\n",
       "         -0.1850, -0.9976, -0.2818, -0.6106,  0.0344,  0.0379, -0.6239,  0.1524,\n",
       "          0.1794, -0.1379, -0.8061, -0.3325, -0.8019,  0.3289, -0.5344,  0.1850,\n",
       "          0.4097, -0.9690,  0.2376,  0.0075, -0.9978,  0.7909, -0.9987,  0.7247,\n",
       "         -0.2829, -0.0218,  0.9746,  0.0668,  0.3106,  0.2242, -0.9944, -1.0000,\n",
       "         -0.1981, -0.7195, -0.0310, -0.5333, -0.9956, -0.9906,  0.4600,  0.9348,\n",
       "         -0.2974,  1.0000, -0.2116,  0.9855,  0.3589, -0.7707,  0.9217, -0.1201,\n",
       "          0.8200,  0.3134, -0.2856, -0.4783, -0.5832,  0.7445, -0.9479,  0.1167,\n",
       "         -0.5978, -0.9825,  0.3986,  0.9863, -0.8959, -0.9627,  0.7098, -0.0262,\n",
       "         -0.2385,  0.7976,  0.9313,  0.1015, -0.0459, -0.0104, -0.8081,  0.5285,\n",
       "         -0.8782, -0.3565,  0.1638, -0.3035, -0.9485, -0.9972, -0.1515,  0.5143,\n",
       "          0.9985,  0.8859,  0.1013,  0.8438,  0.4403,  0.8506, -0.9936,  0.9985,\n",
       "         -0.2537,  0.0510, -0.8673,  0.2411, -0.9588, -0.4891,  0.7141, -0.6250,\n",
       "         -0.9659, -0.1207, -0.0595,  0.0486, -0.9947,  0.7329, -0.1235,  0.2960,\n",
       "          0.0436,  0.9652,  0.9387,  0.9104,  0.1467,  0.8947, -0.9437, -0.7083,\n",
       "         -0.2594,  0.0363, -0.0295,  0.9993, -0.6504,  0.1680, -0.9316, -0.9949,\n",
       "         -0.3130, -0.9539,  0.0578, -0.3391,  0.5010, -0.9198, -0.5479,  0.2236,\n",
       "         -0.9949, -0.8611,  0.2943, -0.1064,  0.2622,  0.4404,  0.9453,  0.9887,\n",
       "         -0.5087,  0.5141,  0.9742, -0.9938, -0.9495,  0.8480,  0.2707,  0.7797,\n",
       "         -0.3261,  0.9721,  0.9935,  0.9403, -0.9877, -0.5881, -0.6666, -0.1191,\n",
       "          0.1367, -0.6440,  0.8195, -0.7611,  0.1902,  0.8664, -0.6818,  0.9997,\n",
       "         -0.9908, -0.9873, -0.9162,  0.6556, -0.9983,  0.9919, -0.1553,  0.9364,\n",
       "         -0.0651, -0.8224, -0.9984,  0.9172,  0.0573,  0.9628, -0.7902, -0.9026,\n",
       "         -0.7181, -0.9967, -0.3141,  0.0871, -0.2578,  0.3307, -0.9767,  0.3196,\n",
       "          0.4159,  0.5103, -0.8591,  0.9999,  1.0000,  0.9860,  0.9443,  0.9075,\n",
       "         -1.0000, -0.9622,  0.9999, -1.0000, -1.0000, -0.9377, -0.5085,  0.3920,\n",
       "         -1.0000,  0.1379,  0.0594, -0.9789,  0.6638,  0.9960,  0.9986, -1.0000,\n",
       "          0.8735,  0.9616,  0.7524,  0.9996, -0.7330,  0.9918,  0.2942,  0.1423,\n",
       "         -0.2630,  0.2230, -0.9762, -0.8015, -0.8178, -0.9769,  1.0000, -0.1036,\n",
       "         -0.7024, -0.9647,  0.9555,  0.1196, -0.3102, -0.9902,  0.0470,  0.9444,\n",
       "          0.8418,  0.0410,  0.2530, -0.4325,  0.2347, -0.4767,  0.0467, -0.5901,\n",
       "         -0.8708,  0.0731, -0.0575, -0.3088, -0.2243, -0.9808,  0.9913, -0.2215,\n",
       "          0.9880,  1.0000,  0.6916, -0.9767,  0.8552, -0.0043,  0.0857,  1.0000,\n",
       "          0.9659, -0.9975,  0.8204,  0.7661, -0.3066, -0.5963,  0.9988,  0.0660,\n",
       "         -0.6414, -0.7727,  0.9992, -0.9986,  1.0000, -0.8895, -0.9944,  0.9883,\n",
       "          0.9893, -0.8973, -0.6195, -0.3804,  0.5712,  0.1273, -0.9124,  0.7246,\n",
       "          0.4135,  0.2629,  0.9430, -0.4863,  0.7269, -0.0344, -0.8020, -0.0176,\n",
       "          0.9988,  0.3772,  0.0382, -0.2206,  0.1557, -0.9162, -0.9817,  0.7450,\n",
       "          1.0000, -0.1156,  0.9969,  0.7121,  0.2051, -0.0086,  0.2086,  0.2090,\n",
       "         -0.0265, -0.8719,  0.9867, -0.9746, -0.9982,  0.6685, -0.1467, -0.1095,\n",
       "          1.0000,  0.3905, -0.0941,  0.7310,  1.0000, -0.0696,  0.1604,  0.9614,\n",
       "          0.9983,  0.1652, -0.7338,  0.9150, -0.9473, -0.4085, -0.3604, -0.3454,\n",
       "         -0.9703,  0.2571, -0.9886,  0.9919,  0.9988,  0.0658,  0.3849,  0.9716,\n",
       "          1.0000, -0.9675,  0.6187,  0.3526,  0.8063, -1.0000, -0.9120, -0.0479,\n",
       "          0.1112, -0.8469,  0.0979,  0.1846, -0.9895,  0.7967,  0.9277, -0.9952,\n",
       "         -0.9946, -0.5107,  0.7717, -0.4563, -1.0000, -0.7127, -0.7356,  0.6005,\n",
       "         -0.1543, -0.9813, -0.0560, -0.2184, -0.0492,  0.2912, -0.5799,  0.7300,\n",
       "          0.9621, -0.9885, -0.3489, -0.1943, -0.7850,  0.7510, -0.8595, -0.9986,\n",
       "          0.0165,  1.0000, -0.7646,  0.8520,  0.7655,  0.8413,  0.2290, -0.3547,\n",
       "          0.9973,  0.3108, -0.0444, -0.9884, -0.3803, -0.0557,  0.8259,  0.9677,\n",
       "          0.0372,  0.9701,  0.9810,  0.1718,  0.2620, -0.3077,  0.9999,  0.1104,\n",
       "         -0.0071, -0.4183,  0.0292, -0.0941,  0.3248,  1.0000,  0.0529,  0.7443,\n",
       "         -0.9987, -0.9907, -0.8772,  1.0000,  0.9368, -0.5007,  0.8791,  0.8262,\n",
       "          0.2727,  0.7014,  0.2672, -0.0783, -0.0268, -0.3776,  0.9904, -0.5491,\n",
       "         -0.9971, -0.6854,  0.1716, -0.9900,  1.0000, -0.4530, -0.0298, -0.5945,\n",
       "         -0.6366, -0.7850, -0.3276, -0.9954, -0.0079,  0.3535,  0.9951, -0.0260,\n",
       "          0.7644, -0.9022,  0.9907,  0.9054, -0.9947, -0.9940,  0.9958, -0.9909,\n",
       "          0.6801,  1.0000, -0.0615,  0.5687,  0.2453, -0.2474, -0.1517, -0.9380,\n",
       "          0.7831, -0.9918, -0.3395, -0.1032,  0.1351,  0.1214, -0.7624,  0.9341,\n",
       "          0.1057,  0.7908, -0.3836,  0.1413,  0.3418,  0.9436,  0.2944,  0.3479,\n",
       "          0.1485,  0.2648, -0.9681, -0.3480, -0.2243, -1.0000,  0.7596, -1.0000,\n",
       "          0.9548, -0.7078,  0.3924,  0.9422,  0.7704,  0.9415, -0.9496, -0.8962,\n",
       "          0.7694,  0.8537, -0.3214, -0.7181, -0.8819,  0.0952,  0.1536, -0.0208,\n",
       "         -0.7031,  0.5537, -0.0239,  1.0000,  0.0945, -0.8099, -0.9850, -0.4095,\n",
       "          0.1547,  1.0000, -0.9170, -0.9943,  0.0120, -0.8231, -0.9328,  0.2720,\n",
       "          0.0542, -0.8543, -0.9995,  0.9759,  0.7285,  0.5007,  0.6764, -0.2082,\n",
       "         -0.3858, -0.3328,  0.9923,  0.9990,  0.4924,  0.9535, -0.5336, -0.6199,\n",
       "          0.9958,  0.2242,  0.5132, -0.1943,  1.0000,  0.1672, -0.8863, -0.5507,\n",
       "         -0.9726, -0.0661, -0.9238,  0.1537,  0.0842,  0.9724,  0.0840,  0.9964,\n",
       "         -0.9562, -0.1797, -0.9819, -0.5621,  0.0085, -0.9808, -0.9961, -0.9986,\n",
       "          0.6457,  0.3739,  0.4678, -0.3627, -0.2668,  0.3774,  0.1396, -1.0000,\n",
       "          0.9836,  0.1642,  0.9189,  0.9953,  0.8089,  0.8155, -0.2398, -0.9978,\n",
       "         -0.9982, -0.2233,  0.3013,  0.6404,  0.6481,  0.9624,  0.6000, -0.1534,\n",
       "         -0.1961,  0.0575, -0.9407, -0.9992,  0.3649, -0.0012, -0.9699,  0.9850,\n",
       "         -0.8625,  0.5355,  0.4250, -0.9668,  0.8958,  0.3651,  0.4006, -0.4067,\n",
       "          0.5948,  0.9763,  0.8215,  0.9949, -0.7785,  0.8404, -0.9366,  0.5946,\n",
       "          0.9672, -0.9647, -0.1809,  0.9259, -0.0867,  0.1248,  0.0214, -0.9669,\n",
       "          0.8050, -0.1092,  0.8613,  0.2419,  0.1891,  0.2619,  0.4343, -0.7999,\n",
       "         -0.8627, -0.6289,  0.4265,  0.9702,  0.9716,  0.2700, -0.7477, -0.0656,\n",
       "         -0.2130, -0.9704,  0.8853, -0.0623,  0.7340,  0.9451, -0.0329,  0.9237,\n",
       "         -0.6247, -0.2771, -0.1964, -0.8083,  0.8144, -0.6926, -0.4559, -0.5830,\n",
       "          0.8030,  0.3063,  1.0000, -0.7272, -0.8928, -0.7480, -0.6649, -0.0301,\n",
       "         -0.8285, -1.0000,  0.0815, -0.5813,  0.4764, -0.9336,  0.9841, -0.8602,\n",
       "         -0.9799, -0.0446,  0.9305,  0.9484,  0.4076, -0.7504, -0.7229, -0.4862,\n",
       "          0.9999,  0.9103, -0.8602,  0.8916, -0.5993, -0.9614, -0.3563,  0.9438]],\n",
       "       grad_fn=<TanhBackward0>), hidden_states=None, past_key_values=None, attentions=None, cross_attentions=None)"
      ]
     },
     "execution_count": 67,
     "metadata": {},
     "output_type": "execute_result"
    }
   ],
   "source": [
    "# TEST DE TOKENIZADO\n",
    "inp = tokenizador('hello, what are you doing world', return_tensors=\"pt\")\n",
    "modelo(**inp)"
   ]
  },
  {
   "cell_type": "markdown",
   "metadata": {},
   "source": []
  }
 ],
 "metadata": {
  "kernelspec": {
   "display_name": "venv",
   "language": "python",
   "name": "python3"
  },
  "language_info": {
   "codemirror_mode": {
    "name": "ipython",
    "version": 3
   },
   "file_extension": ".py",
   "mimetype": "text/x-python",
   "name": "python",
   "nbconvert_exporter": "python",
   "pygments_lexer": "ipython3",
   "version": "3.9.15"
  },
  "orig_nbformat": 4,
  "vscode": {
   "interpreter": {
    "hash": "f605a735da35714cc26d12bf35fb65a9a2b3de42157e2180f4f70aa43b41dd04"
   }
  }
 },
 "nbformat": 4,
 "nbformat_minor": 2
}

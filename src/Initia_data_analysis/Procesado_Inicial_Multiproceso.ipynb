{
 "cells": [
  {
   "attachments": {},
   "cell_type": "markdown",
   "metadata": {},
   "source": [
    "# **Tratamiento de Datos, Encoding y similitud usando BERT-FINBERT**"
   ]
  },
  {
   "attachments": {},
   "cell_type": "markdown",
   "metadata": {},
   "source": [
    "## **0 - IMPORT y Objetos Auxiliares:**"
   ]
  },
  {
   "attachments": {},
   "cell_type": "markdown",
   "metadata": {},
   "source": [
    "### Imports:"
   ]
  },
  {
   "cell_type": "code",
   "execution_count": 1,
   "metadata": {},
   "outputs": [
    {
     "name": "stdout",
     "output_type": "stream",
     "text": [
      "INFO: Pandarallel will run on 6 workers.\n",
      "INFO: Pandarallel will use standard multiprocessing data transfer (pipe) to transfer data between the main process and workers.\n",
      "\n",
      "WARNING: You are on Windows. If you detect any issue with pandarallel, be sure you checked out the Troubleshooting page:\n",
      "https://nalepae.github.io/pandarallel/troubleshooting/\n"
     ]
    }
   ],
   "source": [
    "# BASICS:\n",
    "import pandas as pd\n",
    "import numpy as np\n",
    "import scipy\n",
    "import matplotlib.pyplot as plt\n",
    "import re\n",
    "import string\n",
    "from string import digits\n",
    "import time\n",
    "\n",
    "# PROCESADO DE TEXTO\n",
    "import nltk\n",
    "from nltk.tokenize import RegexpTokenizer\n",
    "from nltk.stem import WordNetLemmatizer\n",
    "from nltk.corpus import wordnet, stopwords\n",
    "\n",
    "#!pip install cyhunspell\n",
    "from hunspell import Hunspell # SOLO LINUX\n",
    "\n",
    "# AUXILIARES\n",
    "import os\n",
    "import joblib\n",
    "import tqdm\n",
    "import contextlib\n",
    "import pandarallel\n",
    "pandarallel.pandarallel.initialize()\n",
    "\n",
    "# MODELOS y ML:\n",
    "import transformers\n",
    "import finbert_embedding as femb\n",
    "import torch"
   ]
  },
  {
   "cell_type": "code",
   "execution_count": 2,
   "metadata": {},
   "outputs": [
    {
     "name": "stdout",
     "output_type": "stream",
     "text": [
      "11\n"
     ]
    }
   ],
   "source": [
    "# ENTORNO:\n",
    "t_ini = time.time()\n",
    "\n",
    "# Número de nucleos disponibles por el ordenador:\n",
    "cores = max(1, os.cpu_count() - 1)\n",
    "print(cores)"
   ]
  },
  {
   "attachments": {},
   "cell_type": "markdown",
   "metadata": {},
   "source": [
    "### Downloads:"
   ]
  },
  {
   "cell_type": "code",
   "execution_count": 3,
   "metadata": {},
   "outputs": [],
   "source": [
    "# Downloads de NLTK -  Solo en caso de no tenerlas ya\n",
    "already_downloaded = True\n",
    "\n",
    "if already_downloaded:\n",
    "    None\n",
    "else:\n",
    "    nltk.download('averaged_perceptron_tagger')\n",
    "    nltk.download('punkt')\n",
    "    nltk.download('words'); \n",
    "    nltk.download('wordnet'); \n",
    "    nltk.download('omw-1.4'); \n",
    "    nltk.download('brown'); \n",
    "    nltk.download('movie_reviews'); \n",
    "    nltk.download('punkt'); \n",
    "    nltk.download('treebank'); \n",
    "    nltk.download('stopwords');\n",
    "    \n",
    "\n",
    "    "
   ]
  },
  {
   "attachments": {},
   "cell_type": "markdown",
   "metadata": {},
   "source": [
    "### F. Auxiliares y otros objetos:"
   ]
  },
  {
   "attachments": {},
   "cell_type": "markdown",
   "metadata": {},
   "source": [
    "Para poder ver la barra de evolución en el multiproceso"
   ]
  },
  {
   "cell_type": "code",
   "execution_count": 4,
   "metadata": {},
   "outputs": [],
   "source": [
    "@contextlib.contextmanager\n",
    "def tqdm_joblib(tqdm_object):\n",
    "    \"\"\"Context manager to patch joblib to report into tqdm progress bar given as argument\"\"\"\n",
    "    class TqdmBatchCompletionCallback(joblib.parallel.BatchCompletionCallBack):\n",
    "        def _call_(self, *args, **kwargs):\n",
    "            tqdm_object.update(n=self.batch_size)\n",
    "            return super()._call_(*args, **kwargs)\n",
    "\n",
    "    old_batch_callback = joblib.parallel.BatchCompletionCallBack\n",
    "    joblib.parallel.BatchCompletionCallBack = TqdmBatchCompletionCallback\n",
    "    try:\n",
    "        yield tqdm_object\n",
    "    finally:\n",
    "        joblib.parallel.BatchCompletionCallBack = old_batch_callback\n",
    "        tqdm_object.close()"
   ]
  },
  {
   "attachments": {},
   "cell_type": "markdown",
   "metadata": {},
   "source": [
    "## **1 - Lectura y análisis inicial de los datos**"
   ]
  },
  {
   "cell_type": "code",
   "execution_count": 5,
   "metadata": {},
   "outputs": [],
   "source": [
    "raw_data = pd.read_pickle(\"../../data/filings/dataframe_10k_20_21_22.pkl\")"
   ]
  },
  {
   "cell_type": "code",
   "execution_count": 6,
   "metadata": {},
   "outputs": [
    {
     "data": {
      "text/html": [
       "<div>\n",
       "<style scoped>\n",
       "    .dataframe tbody tr th:only-of-type {\n",
       "        vertical-align: middle;\n",
       "    }\n",
       "\n",
       "    .dataframe tbody tr th {\n",
       "        vertical-align: top;\n",
       "    }\n",
       "\n",
       "    .dataframe thead th {\n",
       "        text-align: right;\n",
       "    }\n",
       "</style>\n",
       "<table border=\"1\" class=\"dataframe\">\n",
       "  <thead>\n",
       "    <tr style=\"text-align: right;\">\n",
       "      <th></th>\n",
       "      <th>ticker</th>\n",
       "      <th>link_to_html</th>\n",
       "      <th>item_1</th>\n",
       "      <th>filing_date</th>\n",
       "    </tr>\n",
       "  </thead>\n",
       "  <tbody>\n",
       "    <tr>\n",
       "      <th>0</th>\n",
       "      <td>NPHC</td>\n",
       "      <td>https://www.sec.gov/Archives/edgar/data/111964...</td>\n",
       "      <td>Item 1. Business Introduction We were incorpo...</td>\n",
       "      <td>2021</td>\n",
       "    </tr>\n",
       "    <tr>\n",
       "      <th>1</th>\n",
       "      <td>CACC</td>\n",
       "      <td>https://www.sec.gov/Archives/edgar/data/885550...</td>\n",
       "      <td>ITEM 1. BUSINESS General Since 1972, Credit A...</td>\n",
       "      <td>2020</td>\n",
       "    </tr>\n",
       "    <tr>\n",
       "      <th>2</th>\n",
       "      <td>HII</td>\n",
       "      <td>https://www.sec.gov/Archives/edgar/data/150158...</td>\n",
       "      <td>ITEM 1. BUSINESS History and Organization Hun...</td>\n",
       "      <td>2020</td>\n",
       "    </tr>\n",
       "    <tr>\n",
       "      <th>3</th>\n",
       "      <td>HR</td>\n",
       "      <td>https://www.sec.gov/Archives/edgar/data/899749...</td>\n",
       "      <td>Item 1. Business Healthcare Realty Trust Inco...</td>\n",
       "      <td>2020</td>\n",
       "    </tr>\n",
       "    <tr>\n",
       "      <th>4</th>\n",
       "      <td>MNKPF</td>\n",
       "      <td>https://www.sec.gov/Archives/edgar/data/156789...</td>\n",
       "      <td>Item 1. Business. Overview We are a global bu...</td>\n",
       "      <td>2020</td>\n",
       "    </tr>\n",
       "  </tbody>\n",
       "</table>\n",
       "</div>"
      ],
      "text/plain": [
       "  ticker                                       link_to_html  \\\n",
       "0   NPHC  https://www.sec.gov/Archives/edgar/data/111964...   \n",
       "1   CACC  https://www.sec.gov/Archives/edgar/data/885550...   \n",
       "2    HII  https://www.sec.gov/Archives/edgar/data/150158...   \n",
       "3     HR  https://www.sec.gov/Archives/edgar/data/899749...   \n",
       "4  MNKPF  https://www.sec.gov/Archives/edgar/data/156789...   \n",
       "\n",
       "                                              item_1 filing_date  \n",
       "0   Item 1. Business Introduction We were incorpo...        2021  \n",
       "1   ITEM 1. BUSINESS General Since 1972, Credit A...        2020  \n",
       "2   ITEM 1. BUSINESS History and Organization Hun...        2020  \n",
       "3   Item 1. Business Healthcare Realty Trust Inco...        2020  \n",
       "4   Item 1. Business. Overview We are a global bu...        2020  "
      ]
     },
     "execution_count": 6,
     "metadata": {},
     "output_type": "execute_result"
    }
   ],
   "source": [
    "raw_data.head()"
   ]
  },
  {
   "attachments": {},
   "cell_type": "markdown",
   "metadata": {},
   "source": [
    "**Existen fillings duplicados. Los eliminamos**"
   ]
  },
  {
   "cell_type": "code",
   "execution_count": 7,
   "metadata": {},
   "outputs": [
    {
     "data": {
      "text/html": [
       "<div>\n",
       "<style scoped>\n",
       "    .dataframe tbody tr th:only-of-type {\n",
       "        vertical-align: middle;\n",
       "    }\n",
       "\n",
       "    .dataframe tbody tr th {\n",
       "        vertical-align: top;\n",
       "    }\n",
       "\n",
       "    .dataframe thead th {\n",
       "        text-align: right;\n",
       "    }\n",
       "</style>\n",
       "<table border=\"1\" class=\"dataframe\">\n",
       "  <thead>\n",
       "    <tr style=\"text-align: right;\">\n",
       "      <th></th>\n",
       "      <th>filing_date</th>\n",
       "    </tr>\n",
       "    <tr>\n",
       "      <th>ticker</th>\n",
       "      <th></th>\n",
       "    </tr>\n",
       "  </thead>\n",
       "  <tbody>\n",
       "    <tr>\n",
       "      <th>SIPN</th>\n",
       "      <td>14.0</td>\n",
       "    </tr>\n",
       "    <tr>\n",
       "      <th>CNCN</th>\n",
       "      <td>11.0</td>\n",
       "    </tr>\n",
       "    <tr>\n",
       "      <th>PBAJ</th>\n",
       "      <td>9.0</td>\n",
       "    </tr>\n",
       "    <tr>\n",
       "      <th>SVMB</th>\n",
       "      <td>9.0</td>\n",
       "    </tr>\n",
       "    <tr>\n",
       "      <th>CGSI</th>\n",
       "      <td>8.0</td>\n",
       "    </tr>\n",
       "    <tr>\n",
       "      <th>...</th>\n",
       "      <td>...</td>\n",
       "    </tr>\n",
       "    <tr>\n",
       "      <th>IPTK</th>\n",
       "      <td>4.0</td>\n",
       "    </tr>\n",
       "    <tr>\n",
       "      <th>GNRS</th>\n",
       "      <td>4.0</td>\n",
       "    </tr>\n",
       "    <tr>\n",
       "      <th>CWGL</th>\n",
       "      <td>4.0</td>\n",
       "    </tr>\n",
       "    <tr>\n",
       "      <th>ADN</th>\n",
       "      <td>4.0</td>\n",
       "    </tr>\n",
       "    <tr>\n",
       "      <th>ADMQ</th>\n",
       "      <td>4.0</td>\n",
       "    </tr>\n",
       "  </tbody>\n",
       "</table>\n",
       "<p>374 rows × 1 columns</p>\n",
       "</div>"
      ],
      "text/plain": [
       "        filing_date\n",
       "ticker             \n",
       "SIPN           14.0\n",
       "CNCN           11.0\n",
       "PBAJ            9.0\n",
       "SVMB            9.0\n",
       "CGSI            8.0\n",
       "...             ...\n",
       "IPTK            4.0\n",
       "GNRS            4.0\n",
       "CWGL            4.0\n",
       "ADN             4.0\n",
       "ADMQ            4.0\n",
       "\n",
       "[374 rows x 1 columns]"
      ]
     },
     "execution_count": 7,
     "metadata": {},
     "output_type": "execute_result"
    }
   ],
   "source": [
    "num_10k_ticker = pd.pivot_table(raw_data[[\"ticker\", \"filing_date\"]], index=\"ticker\", values=\"filing_date\", aggfunc=\"count\")\n",
    "num_10k_ticker.sort_values(\"filing_date\", ascending=False, inplace=True)\n",
    "num_10k_ticker.where(num_10k_ticker.values > 3).dropna()"
   ]
  },
  {
   "cell_type": "code",
   "execution_count": 8,
   "metadata": {},
   "outputs": [
    {
     "data": {
      "text/plain": [
       "(15842, 4)"
      ]
     },
     "execution_count": 8,
     "metadata": {},
     "output_type": "execute_result"
    }
   ],
   "source": [
    "raw_data_unique = raw_data.drop_duplicates(subset=[\"ticker\", \"filing_date\"])\n",
    "raw_data_unique.shape"
   ]
  },
  {
   "cell_type": "code",
   "execution_count": 9,
   "metadata": {},
   "outputs": [
    {
     "data": {
      "text/html": [
       "<div>\n",
       "<style scoped>\n",
       "    .dataframe tbody tr th:only-of-type {\n",
       "        vertical-align: middle;\n",
       "    }\n",
       "\n",
       "    .dataframe tbody tr th {\n",
       "        vertical-align: top;\n",
       "    }\n",
       "\n",
       "    .dataframe thead th {\n",
       "        text-align: right;\n",
       "    }\n",
       "</style>\n",
       "<table border=\"1\" class=\"dataframe\">\n",
       "  <thead>\n",
       "    <tr style=\"text-align: right;\">\n",
       "      <th></th>\n",
       "      <th>filing_date</th>\n",
       "    </tr>\n",
       "    <tr>\n",
       "      <th>ticker</th>\n",
       "      <th></th>\n",
       "    </tr>\n",
       "  </thead>\n",
       "  <tbody>\n",
       "    <tr>\n",
       "      <th>KBSR</th>\n",
       "      <td>3.0</td>\n",
       "    </tr>\n",
       "    <tr>\n",
       "      <th>MSN</th>\n",
       "      <td>3.0</td>\n",
       "    </tr>\n",
       "    <tr>\n",
       "      <th>MTCH</th>\n",
       "      <td>3.0</td>\n",
       "    </tr>\n",
       "    <tr>\n",
       "      <th>MTBC</th>\n",
       "      <td>3.0</td>\n",
       "    </tr>\n",
       "    <tr>\n",
       "      <th>MTB</th>\n",
       "      <td>3.0</td>\n",
       "    </tr>\n",
       "    <tr>\n",
       "      <th>...</th>\n",
       "      <td>...</td>\n",
       "    </tr>\n",
       "    <tr>\n",
       "      <th>ONEM</th>\n",
       "      <td>3.0</td>\n",
       "    </tr>\n",
       "    <tr>\n",
       "      <th>ONDS</th>\n",
       "      <td>3.0</td>\n",
       "    </tr>\n",
       "    <tr>\n",
       "      <th>ONCT</th>\n",
       "      <td>3.0</td>\n",
       "    </tr>\n",
       "    <tr>\n",
       "      <th>ONB</th>\n",
       "      <td>3.0</td>\n",
       "    </tr>\n",
       "    <tr>\n",
       "      <th>ON</th>\n",
       "      <td>3.0</td>\n",
       "    </tr>\n",
       "  </tbody>\n",
       "</table>\n",
       "<p>374 rows × 1 columns</p>\n",
       "</div>"
      ],
      "text/plain": [
       "        filing_date\n",
       "ticker             \n",
       "KBSR            3.0\n",
       "MSN             3.0\n",
       "MTCH            3.0\n",
       "MTBC            3.0\n",
       "MTB             3.0\n",
       "...             ...\n",
       "ONEM            3.0\n",
       "ONDS            3.0\n",
       "ONCT            3.0\n",
       "ONB             3.0\n",
       "ON              3.0\n",
       "\n",
       "[374 rows x 1 columns]"
      ]
     },
     "execution_count": 9,
     "metadata": {},
     "output_type": "execute_result"
    }
   ],
   "source": [
    "num_10k_ticker_unique = pd.pivot_table(raw_data_unique[[\"ticker\", \"filing_date\"]], index=\"ticker\", values=\"filing_date\", aggfunc=\"count\")\n",
    "num_10k_ticker_unique.sort_values(\"filing_date\", ascending=False, inplace=True)\n",
    "num_10k_ticker_unique.where(num_10k_ticker.values > 3).dropna()"
   ]
  },
  {
   "attachments": {},
   "cell_type": "markdown",
   "metadata": {},
   "source": [
    "### Separamos los datos por año"
   ]
  },
  {
   "cell_type": "code",
   "execution_count": 10,
   "metadata": {},
   "outputs": [],
   "source": [
    "# separamos por año y eliminamos la columna fillin_date\n",
    "\n",
    "raw_2020 = raw_data_unique[raw_data_unique[\"filing_date\"] == \"2020\"].iloc[:, :-1]\n",
    "raw_2021 = raw_data_unique[raw_data_unique[\"filing_date\"] == \"2021\"].iloc[:, :-1]\n",
    "raw_2022 = raw_data_unique[raw_data_unique[\"filing_date\"] == \"2022\"].iloc[:, :-1]"
   ]
  },
  {
   "cell_type": "code",
   "execution_count": 11,
   "metadata": {},
   "outputs": [],
   "source": [
    "# Los guardamos:\n",
    "\n",
    "raw_2020.to_pickle(\"../../data/filings/processed/raw_2020.pkl\")\n",
    "raw_2021.to_pickle(\"../../data/filings/processed/raw_2021.pkl\")\n",
    "raw_2022.to_pickle(\"../../data/filings/processed/raw_2022.pkl\")"
   ]
  },
  {
   "cell_type": "code",
   "execution_count": 12,
   "metadata": {},
   "outputs": [
    {
     "name": "stdout",
     "output_type": "stream",
     "text": [
      " El año 2020 tiene 4703 ficheros 10-K\n",
      " El año 2021 tiene 5296 ficheros 10-K\n",
      " El año 2022 tiene 5843 ficheros 10-K\n"
     ]
    }
   ],
   "source": [
    "print(f' El año 2020 tiene {raw_2020.shape[0]} ficheros 10-K')\n",
    "print(f' El año 2021 tiene {raw_2021.shape[0]} ficheros 10-K')\n",
    "print(f' El año 2022 tiene {raw_2022.shape[0]} ficheros 10-K')\n"
   ]
  },
  {
   "attachments": {},
   "cell_type": "markdown",
   "metadata": {},
   "source": [
    "### Texto en Frases:"
   ]
  },
  {
   "cell_type": "code",
   "execution_count": 13,
   "metadata": {},
   "outputs": [],
   "source": [
    "corpus = [2020, 2021, 2022]"
   ]
  },
  {
   "cell_type": "code",
   "execution_count": 14,
   "metadata": {},
   "outputs": [],
   "source": [
    "# Pasar textos a frases\n",
    "def frasear_textos(corpus):\n",
    "    return nltk.tokenize.sent_tokenize(corpus)"
   ]
  },
  {
   "cell_type": "code",
   "execution_count": 15,
   "metadata": {},
   "outputs": [
    {
     "name": "stderr",
     "output_type": "stream",
     "text": [
      "Pasar a Frases:   0%|          | 0/4703 [00:07<?, ?it/s]\n",
      "Pasar a Frases:   0%|          | 0/5296 [00:05<?, ?it/s]\n",
      "Pasar a Frases:   0%|          | 0/5843 [00:06<?, ?it/s]\n"
     ]
    }
   ],
   "source": [
    "sentences = []\n",
    "for year in corpus:\n",
    "    longitud = globals()[f\"raw_{year}\"].shape[0]\n",
    "    textos = globals()[f\"raw_{year}\"].item_1\n",
    "    \n",
    "    # CÁLCULO CON MULTIPROCESO\n",
    "    with tqdm_joblib(tqdm.tqdm(desc=\"Pasar a Frases\", total=longitud)) as progress_bar:\n",
    "        resultados = joblib.Parallel(n_jobs=cores)(joblib.delayed(frasear_textos)\n",
    "                                                (corpus = i) for i in textos)\n",
    "    \n",
    "\n",
    "    globals()[f\"raw_sentences_{year}\"] = pd.DataFrame((globals()[f\"raw_{year}\"].ticker.values,\n",
    "                                                       resultados)).transpose()\n",
    "    globals()[f\"raw_sentences_{year}\"].columns = ['ticker','item_1']"
   ]
  },
  {
   "cell_type": "code",
   "execution_count": 16,
   "metadata": {},
   "outputs": [
    {
     "data": {
      "text/html": [
       "<div>\n",
       "<style scoped>\n",
       "    .dataframe tbody tr th:only-of-type {\n",
       "        vertical-align: middle;\n",
       "    }\n",
       "\n",
       "    .dataframe tbody tr th {\n",
       "        vertical-align: top;\n",
       "    }\n",
       "\n",
       "    .dataframe thead th {\n",
       "        text-align: right;\n",
       "    }\n",
       "</style>\n",
       "<table border=\"1\" class=\"dataframe\">\n",
       "  <thead>\n",
       "    <tr style=\"text-align: right;\">\n",
       "      <th></th>\n",
       "      <th>ticker</th>\n",
       "      <th>sentences</th>\n",
       "    </tr>\n",
       "  </thead>\n",
       "  <tbody>\n",
       "    <tr>\n",
       "      <th>0</th>\n",
       "      <td>CACC</td>\n",
       "      <td>[ ITEM 1. BUSINESS General Since 1972, Credit ...</td>\n",
       "    </tr>\n",
       "    <tr>\n",
       "      <th>1</th>\n",
       "      <td>HII</td>\n",
       "      <td>[ ITEM 1. BUSINESS History and Organization Hu...</td>\n",
       "    </tr>\n",
       "    <tr>\n",
       "      <th>2</th>\n",
       "      <td>HR</td>\n",
       "      <td>[ Item 1. Business Healthcare Realty Trust Inc...</td>\n",
       "    </tr>\n",
       "    <tr>\n",
       "      <th>3</th>\n",
       "      <td>MNKPF</td>\n",
       "      <td>[ Item 1. Business., Overview We are a global ...</td>\n",
       "    </tr>\n",
       "    <tr>\n",
       "      <th>4</th>\n",
       "      <td>TRCK</td>\n",
       "      <td>[ Item 1. Business Track Group, Inc., (the Com...</td>\n",
       "    </tr>\n",
       "    <tr>\n",
       "      <th>...</th>\n",
       "      <td>...</td>\n",
       "      <td>...</td>\n",
       "    </tr>\n",
       "    <tr>\n",
       "      <th>4698</th>\n",
       "      <td>ALTX</td>\n",
       "      <td>[ Item 1. Business., Altex Industries, Inc. (o...</td>\n",
       "    </tr>\n",
       "    <tr>\n",
       "      <th>4699</th>\n",
       "      <td>ACST</td>\n",
       "      <td>[ Item 1. Business  Overview We are a biopharm...</td>\n",
       "    </tr>\n",
       "    <tr>\n",
       "      <th>4700</th>\n",
       "      <td>SNOA</td>\n",
       "      <td>[ ITEM 1. Business  Corporate Information  We ...</td>\n",
       "    </tr>\n",
       "    <tr>\n",
       "      <th>4701</th>\n",
       "      <td>ROL</td>\n",
       "      <td>[ Item 1. Business General Rollins, Inc. (the ...</td>\n",
       "    </tr>\n",
       "    <tr>\n",
       "      <th>4702</th>\n",
       "      <td>VHI</td>\n",
       "      <td>[ ITEM 1. BUSINESS Valhi, Inc. (NYSE: VHI) is ...</td>\n",
       "    </tr>\n",
       "  </tbody>\n",
       "</table>\n",
       "<p>4703 rows × 2 columns</p>\n",
       "</div>"
      ],
      "text/plain": [
       "     ticker                                          sentences\n",
       "0      CACC  [ ITEM 1. BUSINESS General Since 1972, Credit ...\n",
       "1       HII  [ ITEM 1. BUSINESS History and Organization Hu...\n",
       "2        HR  [ Item 1. Business Healthcare Realty Trust Inc...\n",
       "3     MNKPF  [ Item 1. Business., Overview We are a global ...\n",
       "4      TRCK  [ Item 1. Business Track Group, Inc., (the Com...\n",
       "...     ...                                                ...\n",
       "4698   ALTX  [ Item 1. Business., Altex Industries, Inc. (o...\n",
       "4699   ACST  [ Item 1. Business  Overview We are a biopharm...\n",
       "4700   SNOA  [ ITEM 1. Business  Corporate Information  We ...\n",
       "4701    ROL  [ Item 1. Business General Rollins, Inc. (the ...\n",
       "4702    VHI  [ ITEM 1. BUSINESS Valhi, Inc. (NYSE: VHI) is ...\n",
       "\n",
       "[4703 rows x 2 columns]"
      ]
     },
     "execution_count": 16,
     "metadata": {},
     "output_type": "execute_result"
    }
   ],
   "source": [
    "raw_sentences_2020 # Check"
   ]
  },
  {
   "cell_type": "code",
   "execution_count": 17,
   "metadata": {},
   "outputs": [],
   "source": [
    "# Guardamos\n",
    "raw_sentences_2020.to_pickle(\"../../data/filings/processed/raw_sentences_2020.pkl\")\n",
    "raw_sentences_2021.to_pickle(\"../../data/filings/processed/raw_sentences_2021.pkl\")\n",
    "raw_sentences_2022.to_pickle(\"../../data/filings/processed/raw_sentences_2022.pkl\")"
   ]
  },
  {
   "attachments": {},
   "cell_type": "markdown",
   "metadata": {},
   "source": [
    "### Limpieza inicial de los textos del año 2022"
   ]
  },
  {
   "attachments": {},
   "cell_type": "markdown",
   "metadata": {},
   "source": [
    "#### STOPWORDS, PUNTUACIÓN Y MAYÚSCULAS:"
   ]
  },
  {
   "cell_type": "code",
   "execution_count": 18,
   "metadata": {},
   "outputs": [],
   "source": [
    "def limpieza_basica(corpus, is_string=False, is_list=False):\n",
    "    '''\n",
    "    Función que limpia un corpus (grupo de textos) y lo devuelve.\n",
    "    - Quita puntuación\n",
    "    - Quita dígitos\n",
    "    - Transforma a minúsculas\n",
    "    - Elimina espacios vacíos al principio y final\n",
    "    - Elimina stopwords\n",
    "    \n",
    "    INPUT: Serie(columna) o lista de textos.\n",
    "    OUTPUT: Idem\n",
    "    '''\n",
    "    \n",
    "    import string\n",
    "    from string import digits\n",
    "    from nltk.corpus import wordnet, stopwords\n",
    "    if is_list:\n",
    "        corpus=pd.Series(corpus)\n",
    "    \n",
    "    if is_string: # Si se le pasa una cadena de texto solo\n",
    "        # Copia para emplazar los datos limpios:\n",
    "        corp_copy = corpus\n",
    "\n",
    "        # Eliminación de puntuación:\n",
    "        corp_copy = corp_copy.translate(str.maketrans('', '',string.punctuation))\n",
    "\n",
    "        # Eliminación de cifras:\n",
    "        corp_copy = corp_copy.translate(str.maketrans('', '', digits))\n",
    "\n",
    "        # Minúsculas:\n",
    "        corp_copy = corp_copy.lower()\n",
    "\n",
    "        # Limpieza de huecos al principio y final:\n",
    "        corp_copy = corp_copy.strip()\n",
    "\n",
    "        # Delimitación de stopwords inglesas\n",
    "        stop_words = set(stopwords.words('english'))\n",
    "\n",
    "        # Eliminación de Stopwords:\n",
    "        corp_copy = ' '.join([word for word in corp_copy.split() if word not in (stop_words)])\n",
    "    \n",
    "    else: # Si se le pasa una columna\n",
    "        \n",
    "        # Copia para emplazar los datos limpios:\n",
    "        corp_copy = corpus.copy()\n",
    "\n",
    "        # Eliminación de puntuación:\n",
    "        corp_copy = corp_copy.str.translate(str.maketrans('', '',string.punctuation))\n",
    "\n",
    "        # Eliminación de cifras:\n",
    "        corp_copy = corp_copy.str.translate(str.maketrans('', '', digits))\n",
    "\n",
    "        # Minúsculas:\n",
    "        corp_copy = corp_copy.str.lower()\n",
    "\n",
    "        # Limpieza de huecos al principio y final:\n",
    "        corp_copy = corp_copy.str.strip()\n",
    "\n",
    "        # Delimitación de stopwords inglesas\n",
    "        stop_words = set(stopwords.words('english'))\n",
    "\n",
    "        # Eliminación de Stopwords:\n",
    "        corp_copy = corp_copy.apply(lambda x: ' '.join([word for word in x.split() if word not in (stop_words)]))\n",
    "    \n",
    "    return corp_copy"
   ]
  },
  {
   "cell_type": "code",
   "execution_count": 19,
   "metadata": {},
   "outputs": [],
   "source": [
    "# LIMPIEZA DE DATOS:\n",
    "clean = raw_data.copy()\n",
    "for year in corpus:\n",
    "    globals()[f\"clean_{year}\"] = globals()[f\"raw_{year}\"].copy()\n",
    "    globals()[f\"clean_sentences_{year}\"] = globals()[f\"raw_sentences_{year}\"].copy()\n",
    "    \n",
    "    globals()[f\"clean_{year}\"].item_1 = limpieza_basica(globals()[f\"clean_{year}\"].item_1)\n",
    "    globals()[f\"clean_sentences_{year}\"].item_1 = globals()[f\"clean_sentences_{year}\"].item_1.apply(\n",
    "        lambda x: list(limpieza_basica(x,False,True)))\n",
    "    \n",
    "    "
   ]
  },
  {
   "cell_type": "code",
   "execution_count": 20,
   "metadata": {},
   "outputs": [
    {
     "name": "stdout",
     "output_type": "stream",
     "text": [
      "(5843, 3)\n"
     ]
    },
    {
     "data": {
      "text/html": [
       "<div>\n",
       "<style scoped>\n",
       "    .dataframe tbody tr th:only-of-type {\n",
       "        vertical-align: middle;\n",
       "    }\n",
       "\n",
       "    .dataframe tbody tr th {\n",
       "        vertical-align: top;\n",
       "    }\n",
       "\n",
       "    .dataframe thead th {\n",
       "        text-align: right;\n",
       "    }\n",
       "</style>\n",
       "<table border=\"1\" class=\"dataframe\">\n",
       "  <thead>\n",
       "    <tr style=\"text-align: right;\">\n",
       "      <th></th>\n",
       "      <th>ticker</th>\n",
       "      <th>link_to_html</th>\n",
       "      <th>item_1</th>\n",
       "    </tr>\n",
       "  </thead>\n",
       "  <tbody>\n",
       "    <tr>\n",
       "      <th>13</th>\n",
       "      <td>FSP</td>\n",
       "      <td>https://www.sec.gov/Archives/edgar/data/103131...</td>\n",
       "      <td>item business history company franklin street ...</td>\n",
       "    </tr>\n",
       "    <tr>\n",
       "      <th>14</th>\n",
       "      <td>NEWH</td>\n",
       "      <td>https://www.sec.gov/Archives/edgar/data/137112...</td>\n",
       "      <td>item business overview developer clean energy ...</td>\n",
       "    </tr>\n",
       "    <tr>\n",
       "      <th>15</th>\n",
       "      <td>NSP</td>\n",
       "      <td>https://www.sec.gov/Archives/edgar/data/100075...</td>\n",
       "      <td>item business general provide array human reso...</td>\n",
       "    </tr>\n",
       "    <tr>\n",
       "      <th>16</th>\n",
       "      <td>MDV</td>\n",
       "      <td>https://www.sec.gov/Archives/edgar/data/164587...</td>\n",
       "      <td>item business company modiv internallymanaged ...</td>\n",
       "    </tr>\n",
       "    <tr>\n",
       "      <th>28</th>\n",
       "      <td>AKRO</td>\n",
       "      <td>https://www.sec.gov/Archives/edgar/data/174465...</td>\n",
       "      <td>item businessoverviewwe clinicalstage company ...</td>\n",
       "    </tr>\n",
       "  </tbody>\n",
       "</table>\n",
       "</div>"
      ],
      "text/plain": [
       "   ticker                                       link_to_html  \\\n",
       "13    FSP  https://www.sec.gov/Archives/edgar/data/103131...   \n",
       "14   NEWH  https://www.sec.gov/Archives/edgar/data/137112...   \n",
       "15    NSP  https://www.sec.gov/Archives/edgar/data/100075...   \n",
       "16    MDV  https://www.sec.gov/Archives/edgar/data/164587...   \n",
       "28   AKRO  https://www.sec.gov/Archives/edgar/data/174465...   \n",
       "\n",
       "                                               item_1  \n",
       "13  item business history company franklin street ...  \n",
       "14  item business overview developer clean energy ...  \n",
       "15  item business general provide array human reso...  \n",
       "16  item business company modiv internallymanaged ...  \n",
       "28  item businessoverviewwe clinicalstage company ...  "
      ]
     },
     "execution_count": 20,
     "metadata": {},
     "output_type": "execute_result"
    }
   ],
   "source": [
    "print(clean_2022.shape)\n",
    "clean_2022.head()"
   ]
  },
  {
   "attachments": {},
   "cell_type": "markdown",
   "metadata": {},
   "source": [
    "#### Limpieza de palabras usando un diccionario"
   ]
  },
  {
   "cell_type": "code",
   "execution_count": 21,
   "metadata": {},
   "outputs": [],
   "source": [
    "h = Hunspell()\n",
    "\n",
    "clean_2022[\"item_1\"] = clean_2022[\"item_1\"].apply(\n",
    "    lambda x: ' '.join(\n",
    "        [word for word in x.split() \n",
    "        if h.spell(word)]\n",
    "        )\n",
    "    )"
   ]
  },
  {
   "attachments": {},
   "cell_type": "markdown",
   "metadata": {},
   "source": [
    "Aplicamos a todos:"
   ]
  },
  {
   "cell_type": "code",
   "execution_count": 22,
   "metadata": {},
   "outputs": [],
   "source": [
    "def check_word(textos):\n",
    "    import hunspell\n",
    "    h = hunspell.Hunspell()\n",
    "    return ' '.join([word for word in textos.split()\n",
    "             if h.spell(word)])"
   ]
  },
  {
   "cell_type": "code",
   "execution_count": 23,
   "metadata": {},
   "outputs": [],
   "source": [
    "for year in corpus:\n",
    "    \n",
    "    globals()[f\"clean_{year}\"].item_1 = globals()[f\"clean_{year}\"].item_1.apply(\n",
    "        lambda x: ' '.join(\n",
    "            [word for word in x.split()\n",
    "             if h.spell(word)]))\n",
    "    \n",
    "\n",
    "    globals()[f\"clean_sentences_{year}\"].item_1.apply(\n",
    "        lambda x: list(pd.Series(x).apply(\n",
    "            lambda y: ' '.join(\n",
    "                [word for word in y.split()\n",
    "                 if h.spell(word)]))))"
   ]
  },
  {
   "attachments": {},
   "cell_type": "markdown",
   "metadata": {},
   "source": [
    "#### LEMATIZACIÓN:"
   ]
  },
  {
   "cell_type": "code",
   "execution_count": 24,
   "metadata": {},
   "outputs": [],
   "source": [
    "# Para que el multiproceso funcione le tienes que pasar todo lo que necesita.\n",
    "# Esto incluye las funciones (si son más de una) y a veces los import.\n",
    "\n",
    "def lemmatize_sentence(sentence):\n",
    "    # IMPORTS:\n",
    "    import nltk\n",
    "    from nltk.tokenize import RegexpTokenizer\n",
    "    from nltk.stem import WordNetLemmatizer\n",
    "    from nltk.corpus import wordnet, stopwords\n",
    "    \n",
    "    # INICIALIZAR LEMATIZADOR:\n",
    "    lemmatizer = WordNetLemmatizer()\n",
    "    \n",
    "    \n",
    "    # CONVERSIÓN DE TAG A OBJETO WORDNET:\n",
    "    def nltk_pos_tagger(nltk_tag):\n",
    "        if nltk_tag.startswith('J'):\n",
    "            return wordnet.ADJ\n",
    "        elif nltk_tag.startswith('V'):\n",
    "            return wordnet.VERB\n",
    "        elif nltk_tag.startswith('N'):\n",
    "            return wordnet.NOUN\n",
    "        elif nltk_tag.startswith('R'):\n",
    "            return wordnet.ADV\n",
    "        else:          \n",
    "            return None\n",
    "\n",
    "    # PROCESO INICIAL:\n",
    "    nltk_tagged = nltk.pos_tag(nltk.word_tokenize(sentence))  \n",
    "    wordnet_tagged = map(lambda x: (x[0], nltk_pos_tagger(x[1])), nltk_tagged)\n",
    "    lemmatized_sentence = []\n",
    "    \n",
    "    # BUCLE DE LIMPIEZA DE TEXTO\n",
    "    for word, tag in wordnet_tagged:\n",
    "        if tag is None:\n",
    "            lemmatized_sentence.append(word)\n",
    "        else:        \n",
    "            lemmatized_sentence.append(lemmatizer.lemmatize(word, tag))\n",
    "    return \" \".join(lemmatized_sentence)"
   ]
  },
  {
   "cell_type": "code",
   "execution_count": 25,
   "metadata": {},
   "outputs": [
    {
     "data": {
      "text/plain": [
       "'item business history company franklin street property corp refer corp company corporation operate manner intend qualify real estate investment trust federal income tax purpose common stock trade symbol corp successor franklin street partner limit partnership partnership originally form general partnership successor general partnership form partnership convert corp refer conversion result conversion partnership cease exist succeed business partnership conversion unit general limited partnership interest partnership convert one share common stock result conversion hold directly indirectly interest three former subsidiary partnership investment property management holding operate business subsidiary business focus commercial real estate investment primarily office market currently operate one segment real estate operation principal revenue source real estate operation include rental income real estate lease interest income secure loan make office property property disposition fee income management development invest infill central business district office property unite state mountain west region well select opportunistic market believe united state mountain west region macroeconomic driver potential increase occupancies rent seek investment eye towards longterm growth appreciation well current income previously also operated investment banking segment discontinue investment banking segment generate brokerage commission loan origination fee development service fee related organization entity real estate private placement equity entity refer entity organize corporation operate manner intend qualify sponsored announce subsidiary investment would longer sponsor syndication share prefer stock sponsor investment withdrew registration may acquire real estate invest real estate making secure loan real estate may also pursue selective basis sale property take advantage value creation demand property geographic property specific reason real estate operate portfolio real estate consist office property derive rental revenue income pay us tenant property see item annual report form k information property dispose property generate gain loss ongoing effort improve upgrade portfolio provide asset management property management property accounting investor development service portfolio certain sponsored subsidiary investment property management corp recognize revenue receipt fee income sponsor consolidated acquire us neither investment property management receive rental income may make secured loan sponsor form mortgage loan revolve line credit fund construction cost capital expenditure lease cost purpose anticipate loan repay maturity earlier longterm financing underlie property cash flow underlie property capital event refer loan sponsor loan one sponsor loan secure real estate outstanding derive interest income sustainability owner commercial real estate sector significant environmental social governance impact strive maximize shareholder value prudent application sound strategy effort award recognition various third party review entity energy star impact pandemic cause severe disruption us global economy expect continue adverse impact financial condition result operation impact could materially adverse extent current pandemic future pandemic cause tenant unable pay rent reduce demand commercial real estate see item risk factor item management discussion analysis financial condition result operation additional information investment objectives investment objective create shareholder value increase revenue rental dividend interest fee income net gain sale property increase cash available distribution form dividend stockholder expect continue derive real estate revenue own property sponsor loan fee asset management property management investor service may also acquire additional real property although property portfolio focus property central business district may acquire acquire real property geographic area united state property type office property locate eight different state see item annual report form k information property determine debt reduction would provide great financial flexibility potentially increase shareholder value continue believe current price common stock accurately reflect value underlie real estate asset intend continue strategy initially adopt seek increase shareholder value sale select property believe short intermediate term valuation potential reach pursuant strategy anticipate disposition result estimate aggregate gross proceeds range approximately million million result time time market condition warrant expect sell property own us sold office property locate four different state aggregate gross sale proceeds million net gain million sell office property locate north gross proceeds approximately million net gain approximately million sell property continue execute property disposition strategy revenue fund operation capital expenditures likely decrease short term proceeds disposition intend use repayment debt repurchase common stock special dividend require meet requirement general corporate purpose rely follow principle select real property acquisition corp manage acquisition seek buy develop investment property price produce value investor avoid overpay real estate merely outbid competitor seek buy develop property excellent location substantial infrastructure place around avoid invest location future construction infrastructure speculative seek buy develop property design appeal broad base user avoid property quality sacrifice cost saving construction appeal narrow group user aggressively manage maintain upgrade property refuse neglect management maintenance capital improvement program believe ability hold property cycle generally mortgage debt company could place property risk foreclosure none own property subject mortgage debt competition respect real estate investment face competition market property locate order establish maintain increase rental revenue property must competitive location cost amenity building similar use competitor may significantly resource may able offer attractive rental rate service hand competitor may small less fixed overhead cost less cash resource make willing able accept lower rent order maintain certain occupancy level market currently significant exist property competition competitor may decide enter market build new building compete exist project development stage competition developer also property user choose build portion building form office condominium competitive condition affect large market force beyond control general economic condition may increase competition among landlord quality tenant individual decision tenant beyond control governmental regulation various federal state local law ordinance regulation owner operator real property may become liable cost removal remediation certain hazardous substance release property law may impose liability without regard whether owner operator know caused release hazardous substance presence hazardous substance property may adversely affect owner ability sell property borrow use property collateral may cause owner property incur substantial remediation cost addition claim cleanup cost presence hazardous substance property could result owner incur substantial liability result claim private party personal injury claim adjacent property owner property damage property require comply disability act regulation rule order may issue thereunder separate compliance requirement public accommodation commercial facility generally require building make accessible person disability compliance requirement might require among thing removal access barrier noncompliance requirement could result imposition fine us government award damage private litigant addition require operate property compliance fire safety regulation build code land use regulation may adopt governmental agency body become applicable property compliance requirement may require us make substantial capital expenditure expenditure would reduce cash otherwise available distribution stockholder provision tax code govern taxation technical complex although expect organize operate manner enable us meet requirement assurance give always succeed taxable year qualify would tax corporation distribution stockholder would deductible us compute taxable income addition fail qualify could disqualify treatment year failure occur next four taxable year consequently would tax regular corporation year failure qualify even one taxable year could result significant reduction cash available distribution stockholder could require us incur indebtedness liquidate investment order generate sufficient fund pay result federal income tax liability see item risk factor item management discussion analysis financial condition result operation additional information human capital employee respectively woman represent employee hold management role endeavor maintain workplace free discrimination harassment basis color race sex national origin ethnicity religion age disability sexual orientation gender identification expression status protect applicable law regularly conduct training prevent harassment discrimination basis recruitment hire development train compensation advancement employee qualification performance skill experience many employee long tenure company employee compensate without regard gender race ethnicity compensation program design attract retain talent pandemic employee offer flexibility meet personal family need available information make available free charge website annual report form k quarterly report form q current report form k amendment report file furnished pursuant section security exchange act amend soon reasonably practicable electronically file material security exchange commission sec voluntarily provide paper copy filing code ethic upon write request receive address cover annual report form k free charge information director follow table set forth name age position director name age position j executive officer chairman board john n director n director director j director director p director member audit committee member compensation committee member nominate corporate governance committee chair audit committee chair compensation committee chair nominate corporate governance committee lead independent director j carter age chief executive officer chairman board director corp since carter also president corp may carter responsible aspect business corp affiliate special emphasis evaluation acquisition structure real estate investment prior conversion president general partner partnership responsible aspect business partnership affiliate president financial security inc financial prior join financial carter owner developer dry dock commercial shipyard carter serve manage director charge marketing first corporation national real estate investment banking firm headquarter prior hold number position brokerage industry include lynch co co carter graduate university john n age director corp since chair audit committee since certify public accountant year experience practice public accounting work private publicly trade company extensive experience serve client real estate industry experience include analysis evaluation financial report account system internal control audit matter involve advisor several public offering private equity debt financing merger acquisition transaction consult experience include wide range accounting tax business planning matter prior start firm audit partner office member institute certify public accountant society earn ms taxation study undergraduate accounting university n age director corp since become chair compensation committee since serve president chief operate officer confluence investment management st base registered investment advisor prior found confluence serve manage director financial institution real estate investment banking practice advise wide variety real estate investment trust numerous capital market transaction include public private offering debt equity security well analysis various merger acquisition opportunity prior join serve manager audit business advisory practice serve board number nonprofit entity currently serve finance council investment committee chair archdiocese st member st county retirement board earn school management northwestern university bachelor science commerce university certify public accountant age director corp since become chair nominate corporate governance committee partner international law firm cutler pickering hale retirement join hale predecessor subsequently work real estate advisor institutional real estate investment advisory firm rejoin hale year experience real estate capital market transaction fund formation public company counsel merger acquisition advise company since formation earn cum law school university cum college elect phi beta kappa j age director corp since may graduate university degree university law school degree join found coaxial communication cable television company coaxial sell cable system serve board various charitable organization currently president board trustees studio theater professional non profit theater organization president director foundation organization engage create new paradigm foster care age director corp since lead independent director since m retire lend lease real estate investment inc serve principal may ms worked financial group inc serve senior vice president director time tenure financial affiliate financial group inc past trustee urban land institute past president multifamily housing institute m previously serve board director capital cross bank also serve board numerous nonprofit entity ms graduate newton college p age director corp since m director capital investor relation area focus private equity oversight investment advisory sector retirement ms partner flag capital management manager investment vehicle private equity venture capital real estate natural resource previously ms investment consultant associate specialized alternative asset ms currently serve variety nonprofit board include museum director member finance investment committee horizon homeless child director serve executive finance committee trustee reservation serf president council member investment committee m trustee emeritus college former member board overseer museum science m hold cum honorary college elect phi beta kappa m receive graduate school business administration information executive officer follow table set forth name age position executive officer name age position j carter chief executive officer chairman b chief investment h vice president general counsel g vice president chief financial officer f vice vice president chief operate officer information j carter set forth see director corp b carter age president chief investment officer corp carter serve executive vice president chief investment officer may appoint president addition position chief investment officer previously carter serve senior vice president director acquisition corp vice president acquisition carter oversee execution strategic objective business plan addition carter primarily responsible develop implementing investment strategy include coordination acquisition disposition prior join corp carter work trust administration northern trust bank carter graduate state university university university carter father j carter serf chief executive officer chairman board director corp carter brother h carter serf executive vice president general counsel secretary corp h carter age executive vice president general counsel secretary corp carter serve general counsel since carter join corp senior vice president counsel carter primarily responsible management legal affair corp affiliate prior join corp carter associate law firm originally join carter concentrate practice area real estate syndication acquisition finance carter receive bachelor business administration degree finance marketing doctor degree university carter admit practice law commonwealth carter father j carter serf chief executive officer chairman board director corp carter brother b carter serve president chief investment officer corp john g age executive vice president chief financial officer treasurer corp chief financial officer since march previously serve senior vice president finance principal accounting officer march prior manager company independent accounting firm later merge focus compliance previously march march provide consult service public private company focus sec filing evaluation business process acquisition integration vice president financial planning analysis industrial trust publicly trade real estate investment trust acquire controller officer company publicly trade real estate investment trust formerly know la company acquire group involve number merger finance transaction prior financial accounting responsibility three public company previously associate independent accounting firm certify public accountant hold bachelor science degree college john f age executive vice president corp president property management hold position since may primarily responsible oversight management real estate asset corp affiliate join corp august vice president property management may responsible management real estate asset corp affiliate work pension fund advisory business capital capital management oversight office research development industrial land investment work realty various account finance role hold bachelor science business administration degree college age executive vice president chief operate officer corp hold position since may join corp senior vice president operation responsible ensure company proper operational control administrative reporting procedure people system infrastructure place effectively grow organization maintain financial strength operating efficiency prior join corp provide consulting service retail banking division part technology operation division group financial institution may employ mercer global consulting leader talent health retirement investment employee education manager across line mercer business may may communications consultant new life investment management may work preferred client service group investment graduate university university executive officer employee corp past five fiscal year'"
      ]
     },
     "execution_count": 25,
     "metadata": {},
     "output_type": "execute_result"
    }
   ],
   "source": [
    "# EJEMPLO DE TEXTO LEMATIZADO\n",
    "lemmatize_sentence(clean_2022[\"item_1\"].iloc[0])"
   ]
  },
  {
   "cell_type": "code",
   "execution_count": 26,
   "metadata": {},
   "outputs": [
    {
     "name": "stdout",
     "output_type": "stream",
     "text": [
      "2020\n"
     ]
    },
    {
     "name": "stderr",
     "output_type": "stream",
     "text": [
      "Lematizando_full_2020:   0%|          | 0/4703 [02:13<?, ?it/s]\n",
      "Lematizando_frase_2020:   0%|          | 0/4703 [04:07<?, ?it/s]\n"
     ]
    },
    {
     "name": "stdout",
     "output_type": "stream",
     "text": [
      "2021\n"
     ]
    },
    {
     "name": "stderr",
     "output_type": "stream",
     "text": [
      "Lematizando_full_2021:   0%|          | 0/5296 [02:42<?, ?it/s]\n",
      "Lematizando_frase_2021:   0%|          | 0/5296 [05:04<?, ?it/s]\n"
     ]
    },
    {
     "name": "stdout",
     "output_type": "stream",
     "text": [
      "2022\n"
     ]
    },
    {
     "name": "stderr",
     "output_type": "stream",
     "text": [
      "Lematizando_full_2022:   0%|          | 0/5843 [03:15<?, ?it/s]\n",
      "Lematizando_frase_2022:   0%|          | 0/5843 [05:58<?, ?it/s]\n"
     ]
    }
   ],
   "source": [
    "for year in corpus:\n",
    "    print(year)\n",
    "    full = globals()[f\"clean_{year}\"].item_1\n",
    "    sentences = globals()[f\"clean_sentences_{year}\"].item_1\n",
    "    \n",
    "    with tqdm_joblib(tqdm.tqdm(desc=f\"Lematizando_full_{year}\", total=full.shape[0])) as progress_bar:\n",
    "        resultados_full = joblib.Parallel(n_jobs=cores)(joblib.delayed(lemmatize_sentence)\n",
    "                                                        (sentence = i) for i in full)\n",
    "    \n",
    "    with tqdm_joblib(tqdm.tqdm(desc=f\"Lematizando_frase_{year}\", total=sentences.shape[0])) as progress_bar:\n",
    "        resultados_sentences = joblib.Parallel(n_jobs=cores)(joblib.delayed(lambda x: list(pd.Series(x).apply(lemmatize_sentence)))\n",
    "                                                        (x = i) for i in sentences)\n",
    "    \n",
    "    globals()[f\"clean_{year}\"].item_1 = resultados_full\n",
    "    globals()[f\"clean_sentences_{year}\"].item_1 = resultados_sentences\n"
   ]
  },
  {
   "cell_type": "code",
   "execution_count": 27,
   "metadata": {},
   "outputs": [],
   "source": [
    "# Guardamos\n",
    "clean_2020.loc[:, clean_2021.columns != 'link_to_html'].to_pickle(\"../../data/filings/processed/clean_2020.pkl\")\n",
    "clean_2021.loc[:, clean_2021.columns != 'link_to_html'].to_pickle(\"../../data/filings/processed/clean_2021.pkl\")\n",
    "clean_2022.loc[:, clean_2021.columns != 'link_to_html'].to_pickle(\"../../data/filings/processed/clean_2022.pkl\")\n",
    "\n",
    "clean_sentences_2020.to_pickle(\"../../data/filings/processed/clean_sentences_2020.pkl\")\n",
    "clean_sentences_2021.to_pickle(\"../../data/filings/processed/clean_sentences_2021.pkl\")\n",
    "clean_sentences_2022.to_pickle(\"../../data/filings/processed/clean_sentences_2022.pkl\")"
   ]
  },
  {
   "cell_type": "code",
   "execution_count": 28,
   "metadata": {},
   "outputs": [
    {
     "name": "stdout",
     "output_type": "stream",
     "text": [
      "Se han tardado 27.22 minutos.\n"
     ]
    }
   ],
   "source": [
    "t_tot = time.time() - t_ini\n",
    "\n",
    "print(f'Se han tardado {round(t_tot/60,2)} minutos.')"
   ]
  }
 ],
 "metadata": {
  "kernelspec": {
   "display_name": "tfm",
   "language": "python",
   "name": "python3"
  },
  "language_info": {
   "codemirror_mode": {
    "name": "ipython",
    "version": 3
   },
   "file_extension": ".py",
   "mimetype": "text/x-python",
   "name": "python",
   "nbconvert_exporter": "python",
   "pygments_lexer": "ipython3",
   "version": "3.9.15"
  },
  "orig_nbformat": 4,
  "vscode": {
   "interpreter": {
    "hash": "75562f2d5d24305143a4b7dae1f3a25c0501d17c72725e44e9ee19caad580d23"
   }
  }
 },
 "nbformat": 4,
 "nbformat_minor": 2
}
